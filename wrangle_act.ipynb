{
 "cells": [
  {
   "cell_type": "markdown",
   "metadata": {},
   "source": [
    "###### First of all before we start our project  , let's import all the libraries that we might need"
   ]
  },
  {
   "cell_type": "code",
   "execution_count": 173,
   "metadata": {},
   "outputs": [],
   "source": [
    "import pandas as pd \n",
    "import numpy as np\n",
    "import tweepy \n",
    "from tweepy import OAuthHandler\n",
    "import requests \n",
    "import os\n",
    "import requests\n",
    "from PIL import Image\n",
    "from io import BytesIO\n",
    "import json \n",
    "import matplotlib.pyplot as plt"
   ]
  },
  {
   "cell_type": "markdown",
   "metadata": {},
   "source": [
    "# Gathering "
   ]
  },
  {
   "cell_type": "markdown",
   "metadata": {},
   "source": [
    "Let's create an API object to gather data this one is already provided in tweepy documentation and in the prjoect section 4 'twitter API' at Udacity , and I tried to get a develpor account from twitter but till the date I have not received the approval yet , so I went with code provided in (Accessing Project Data Without a Twitter Account) that includes the use of teewpy to query twitter API to gather the data from twitter archive for 'WeRateDogs' user then wrting that in JSON data in (tweet_json.txt) after that we need to read each json data line by line to create pd dataframe. "
   ]
  },
  {
   "cell_type": "markdown",
   "metadata": {},
   "source": [
    "Imagine here that we have run our code and we got the dataframe we wanted\n",
    "\n",
    "consumer_key = 'HIDDEN'\n",
    "\n",
    "consumer_secret = 'HIDDEN'\n",
    "\n",
    "access_token = 'HIDDEN'\n",
    "\n",
    "access_secret = 'HIDDEN'\n",
    "\n",
    "auth = OAuthHandler(consumer_key, consumer_secret)\n",
    "\n",
    "auth.set_access_token(access_token, access_secret)\n",
    "\n",
    "api = tweepy.API(auth, wait_on_rate_limit=True)\n",
    "\n",
    "df_1 = pd.read_csv('twitter_archive_enhanced.csv')\n",
    "\n",
    "tweet_ids = df_1.tweet_id.values\n",
    "\n",
    "len(tweet_ids)\n",
    "\n",
    "To create a json fine and read it line by line we will use the following code : \n",
    "\n",
    "count = 0\n",
    "\n",
    "fails_dict = {}\n",
    "\n",
    "\n",
    "with open('tweet_json.txt', 'w') as outfile:\n",
    "    \n",
    "    for tweet_id in tweet_ids:\n",
    "        count += 1\n",
    "        print(str(count) + \": \" + str(tweet_id))\n",
    "        try:\n",
    "            tweet = api.get_status(tweet_id, tweet_mode='extended')\n",
    "            print(\"Success\")\n",
    "            json.dump(tweet._json, outfile)\n",
    "            outfile.write('\\n')\n",
    "        except tweepy.TweepError as e:\n",
    "            print(\"Fail\")\n",
    "            fails_dict[tweet_id] = e\n",
    "            pass\n",
    "\n",
    "print(fails_dict)"
   ]
  },
  {
   "cell_type": "code",
   "execution_count": 174,
   "metadata": {},
   "outputs": [
    {
     "data": {
      "text/html": [
       "<div>\n",
       "<style scoped>\n",
       "    .dataframe tbody tr th:only-of-type {\n",
       "        vertical-align: middle;\n",
       "    }\n",
       "\n",
       "    .dataframe tbody tr th {\n",
       "        vertical-align: top;\n",
       "    }\n",
       "\n",
       "    .dataframe thead th {\n",
       "        text-align: right;\n",
       "    }\n",
       "</style>\n",
       "<table border=\"1\" class=\"dataframe\">\n",
       "  <thead>\n",
       "    <tr style=\"text-align: right;\">\n",
       "      <th></th>\n",
       "      <th>tweet_id</th>\n",
       "      <th>in_reply_to_status_id</th>\n",
       "      <th>in_reply_to_user_id</th>\n",
       "      <th>timestamp</th>\n",
       "      <th>source</th>\n",
       "      <th>text</th>\n",
       "      <th>retweeted_status_id</th>\n",
       "      <th>retweeted_status_user_id</th>\n",
       "      <th>retweeted_status_timestamp</th>\n",
       "      <th>expanded_urls</th>\n",
       "      <th>rating_numerator</th>\n",
       "      <th>rating_denominator</th>\n",
       "      <th>name</th>\n",
       "      <th>doggo</th>\n",
       "      <th>floofer</th>\n",
       "      <th>pupper</th>\n",
       "      <th>puppo</th>\n",
       "    </tr>\n",
       "  </thead>\n",
       "  <tbody>\n",
       "    <tr>\n",
       "      <th>0</th>\n",
       "      <td>892420643555336193</td>\n",
       "      <td>NaN</td>\n",
       "      <td>NaN</td>\n",
       "      <td>2017-08-01 16:23:56 +0000</td>\n",
       "      <td>&lt;a href=\"http://twitter.com/download/iphone\" r...</td>\n",
       "      <td>This is Phineas. He's a mystical boy. Only eve...</td>\n",
       "      <td>NaN</td>\n",
       "      <td>NaN</td>\n",
       "      <td>NaN</td>\n",
       "      <td>https://twitter.com/dog_rates/status/892420643...</td>\n",
       "      <td>13</td>\n",
       "      <td>10</td>\n",
       "      <td>Phineas</td>\n",
       "      <td>None</td>\n",
       "      <td>None</td>\n",
       "      <td>None</td>\n",
       "      <td>None</td>\n",
       "    </tr>\n",
       "    <tr>\n",
       "      <th>1</th>\n",
       "      <td>892177421306343426</td>\n",
       "      <td>NaN</td>\n",
       "      <td>NaN</td>\n",
       "      <td>2017-08-01 00:17:27 +0000</td>\n",
       "      <td>&lt;a href=\"http://twitter.com/download/iphone\" r...</td>\n",
       "      <td>This is Tilly. She's just checking pup on you....</td>\n",
       "      <td>NaN</td>\n",
       "      <td>NaN</td>\n",
       "      <td>NaN</td>\n",
       "      <td>https://twitter.com/dog_rates/status/892177421...</td>\n",
       "      <td>13</td>\n",
       "      <td>10</td>\n",
       "      <td>Tilly</td>\n",
       "      <td>None</td>\n",
       "      <td>None</td>\n",
       "      <td>None</td>\n",
       "      <td>None</td>\n",
       "    </tr>\n",
       "    <tr>\n",
       "      <th>2</th>\n",
       "      <td>891815181378084864</td>\n",
       "      <td>NaN</td>\n",
       "      <td>NaN</td>\n",
       "      <td>2017-07-31 00:18:03 +0000</td>\n",
       "      <td>&lt;a href=\"http://twitter.com/download/iphone\" r...</td>\n",
       "      <td>This is Archie. He is a rare Norwegian Pouncin...</td>\n",
       "      <td>NaN</td>\n",
       "      <td>NaN</td>\n",
       "      <td>NaN</td>\n",
       "      <td>https://twitter.com/dog_rates/status/891815181...</td>\n",
       "      <td>12</td>\n",
       "      <td>10</td>\n",
       "      <td>Archie</td>\n",
       "      <td>None</td>\n",
       "      <td>None</td>\n",
       "      <td>None</td>\n",
       "      <td>None</td>\n",
       "    </tr>\n",
       "    <tr>\n",
       "      <th>3</th>\n",
       "      <td>891689557279858688</td>\n",
       "      <td>NaN</td>\n",
       "      <td>NaN</td>\n",
       "      <td>2017-07-30 15:58:51 +0000</td>\n",
       "      <td>&lt;a href=\"http://twitter.com/download/iphone\" r...</td>\n",
       "      <td>This is Darla. She commenced a snooze mid meal...</td>\n",
       "      <td>NaN</td>\n",
       "      <td>NaN</td>\n",
       "      <td>NaN</td>\n",
       "      <td>https://twitter.com/dog_rates/status/891689557...</td>\n",
       "      <td>13</td>\n",
       "      <td>10</td>\n",
       "      <td>Darla</td>\n",
       "      <td>None</td>\n",
       "      <td>None</td>\n",
       "      <td>None</td>\n",
       "      <td>None</td>\n",
       "    </tr>\n",
       "    <tr>\n",
       "      <th>4</th>\n",
       "      <td>891327558926688256</td>\n",
       "      <td>NaN</td>\n",
       "      <td>NaN</td>\n",
       "      <td>2017-07-29 16:00:24 +0000</td>\n",
       "      <td>&lt;a href=\"http://twitter.com/download/iphone\" r...</td>\n",
       "      <td>This is Franklin. He would like you to stop ca...</td>\n",
       "      <td>NaN</td>\n",
       "      <td>NaN</td>\n",
       "      <td>NaN</td>\n",
       "      <td>https://twitter.com/dog_rates/status/891327558...</td>\n",
       "      <td>12</td>\n",
       "      <td>10</td>\n",
       "      <td>Franklin</td>\n",
       "      <td>None</td>\n",
       "      <td>None</td>\n",
       "      <td>None</td>\n",
       "      <td>None</td>\n",
       "    </tr>\n",
       "  </tbody>\n",
       "</table>\n",
       "</div>"
      ],
      "text/plain": [
       "             tweet_id  in_reply_to_status_id  in_reply_to_user_id  \\\n",
       "0  892420643555336193                    NaN                  NaN   \n",
       "1  892177421306343426                    NaN                  NaN   \n",
       "2  891815181378084864                    NaN                  NaN   \n",
       "3  891689557279858688                    NaN                  NaN   \n",
       "4  891327558926688256                    NaN                  NaN   \n",
       "\n",
       "                   timestamp  \\\n",
       "0  2017-08-01 16:23:56 +0000   \n",
       "1  2017-08-01 00:17:27 +0000   \n",
       "2  2017-07-31 00:18:03 +0000   \n",
       "3  2017-07-30 15:58:51 +0000   \n",
       "4  2017-07-29 16:00:24 +0000   \n",
       "\n",
       "                                              source  \\\n",
       "0  <a href=\"http://twitter.com/download/iphone\" r...   \n",
       "1  <a href=\"http://twitter.com/download/iphone\" r...   \n",
       "2  <a href=\"http://twitter.com/download/iphone\" r...   \n",
       "3  <a href=\"http://twitter.com/download/iphone\" r...   \n",
       "4  <a href=\"http://twitter.com/download/iphone\" r...   \n",
       "\n",
       "                                                text  retweeted_status_id  \\\n",
       "0  This is Phineas. He's a mystical boy. Only eve...                  NaN   \n",
       "1  This is Tilly. She's just checking pup on you....                  NaN   \n",
       "2  This is Archie. He is a rare Norwegian Pouncin...                  NaN   \n",
       "3  This is Darla. She commenced a snooze mid meal...                  NaN   \n",
       "4  This is Franklin. He would like you to stop ca...                  NaN   \n",
       "\n",
       "   retweeted_status_user_id retweeted_status_timestamp  \\\n",
       "0                       NaN                        NaN   \n",
       "1                       NaN                        NaN   \n",
       "2                       NaN                        NaN   \n",
       "3                       NaN                        NaN   \n",
       "4                       NaN                        NaN   \n",
       "\n",
       "                                       expanded_urls  rating_numerator  \\\n",
       "0  https://twitter.com/dog_rates/status/892420643...                13   \n",
       "1  https://twitter.com/dog_rates/status/892177421...                13   \n",
       "2  https://twitter.com/dog_rates/status/891815181...                12   \n",
       "3  https://twitter.com/dog_rates/status/891689557...                13   \n",
       "4  https://twitter.com/dog_rates/status/891327558...                12   \n",
       "\n",
       "   rating_denominator      name doggo floofer pupper puppo  \n",
       "0                  10   Phineas  None    None   None  None  \n",
       "1                  10     Tilly  None    None   None  None  \n",
       "2                  10    Archie  None    None   None  None  \n",
       "3                  10     Darla  None    None   None  None  \n",
       "4                  10  Franklin  None    None   None  None  "
      ]
     },
     "execution_count": 174,
     "metadata": {},
     "output_type": "execute_result"
    }
   ],
   "source": [
    "\n",
    "\n",
    "tweets_data = pd.read_csv('twitter-archive-enhanced.csv')\n",
    "tweets_data.head()"
   ]
  },
  {
   "cell_type": "code",
   "execution_count": 175,
   "metadata": {},
   "outputs": [
    {
     "name": "stdout",
     "output_type": "stream",
     "text": [
      "(2356, 17)\n"
     ]
    }
   ],
   "source": [
    "print(tweets_data.shape)"
   ]
  },
  {
   "cell_type": "code",
   "execution_count": 176,
   "metadata": {},
   "outputs": [
    {
     "data": {
      "text/html": [
       "<div>\n",
       "<style scoped>\n",
       "    .dataframe tbody tr th:only-of-type {\n",
       "        vertical-align: middle;\n",
       "    }\n",
       "\n",
       "    .dataframe tbody tr th {\n",
       "        vertical-align: top;\n",
       "    }\n",
       "\n",
       "    .dataframe thead th {\n",
       "        text-align: right;\n",
       "    }\n",
       "</style>\n",
       "<table border=\"1\" class=\"dataframe\">\n",
       "  <thead>\n",
       "    <tr style=\"text-align: right;\">\n",
       "      <th></th>\n",
       "      <th>tweet_id</th>\n",
       "      <th>jpg_url</th>\n",
       "      <th>img_num</th>\n",
       "      <th>p1</th>\n",
       "      <th>p1_conf</th>\n",
       "      <th>p1_dog</th>\n",
       "      <th>p2</th>\n",
       "      <th>p2_conf</th>\n",
       "      <th>p2_dog</th>\n",
       "      <th>p3</th>\n",
       "      <th>p3_conf</th>\n",
       "      <th>p3_dog</th>\n",
       "    </tr>\n",
       "  </thead>\n",
       "  <tbody>\n",
       "    <tr>\n",
       "      <th>0</th>\n",
       "      <td>666020888022790149</td>\n",
       "      <td>https://pbs.twimg.com/media/CT4udn0WwAA0aMy.jpg</td>\n",
       "      <td>1</td>\n",
       "      <td>Welsh_springer_spaniel</td>\n",
       "      <td>0.465074</td>\n",
       "      <td>True</td>\n",
       "      <td>collie</td>\n",
       "      <td>0.156665</td>\n",
       "      <td>True</td>\n",
       "      <td>Shetland_sheepdog</td>\n",
       "      <td>0.061428</td>\n",
       "      <td>True</td>\n",
       "    </tr>\n",
       "    <tr>\n",
       "      <th>1</th>\n",
       "      <td>666029285002620928</td>\n",
       "      <td>https://pbs.twimg.com/media/CT42GRgUYAA5iDo.jpg</td>\n",
       "      <td>1</td>\n",
       "      <td>redbone</td>\n",
       "      <td>0.506826</td>\n",
       "      <td>True</td>\n",
       "      <td>miniature_pinscher</td>\n",
       "      <td>0.074192</td>\n",
       "      <td>True</td>\n",
       "      <td>Rhodesian_ridgeback</td>\n",
       "      <td>0.072010</td>\n",
       "      <td>True</td>\n",
       "    </tr>\n",
       "    <tr>\n",
       "      <th>2</th>\n",
       "      <td>666033412701032449</td>\n",
       "      <td>https://pbs.twimg.com/media/CT4521TWwAEvMyu.jpg</td>\n",
       "      <td>1</td>\n",
       "      <td>German_shepherd</td>\n",
       "      <td>0.596461</td>\n",
       "      <td>True</td>\n",
       "      <td>malinois</td>\n",
       "      <td>0.138584</td>\n",
       "      <td>True</td>\n",
       "      <td>bloodhound</td>\n",
       "      <td>0.116197</td>\n",
       "      <td>True</td>\n",
       "    </tr>\n",
       "    <tr>\n",
       "      <th>3</th>\n",
       "      <td>666044226329800704</td>\n",
       "      <td>https://pbs.twimg.com/media/CT5Dr8HUEAA-lEu.jpg</td>\n",
       "      <td>1</td>\n",
       "      <td>Rhodesian_ridgeback</td>\n",
       "      <td>0.408143</td>\n",
       "      <td>True</td>\n",
       "      <td>redbone</td>\n",
       "      <td>0.360687</td>\n",
       "      <td>True</td>\n",
       "      <td>miniature_pinscher</td>\n",
       "      <td>0.222752</td>\n",
       "      <td>True</td>\n",
       "    </tr>\n",
       "    <tr>\n",
       "      <th>4</th>\n",
       "      <td>666049248165822465</td>\n",
       "      <td>https://pbs.twimg.com/media/CT5IQmsXIAAKY4A.jpg</td>\n",
       "      <td>1</td>\n",
       "      <td>miniature_pinscher</td>\n",
       "      <td>0.560311</td>\n",
       "      <td>True</td>\n",
       "      <td>Rottweiler</td>\n",
       "      <td>0.243682</td>\n",
       "      <td>True</td>\n",
       "      <td>Doberman</td>\n",
       "      <td>0.154629</td>\n",
       "      <td>True</td>\n",
       "    </tr>\n",
       "  </tbody>\n",
       "</table>\n",
       "</div>"
      ],
      "text/plain": [
       "             tweet_id                                          jpg_url  \\\n",
       "0  666020888022790149  https://pbs.twimg.com/media/CT4udn0WwAA0aMy.jpg   \n",
       "1  666029285002620928  https://pbs.twimg.com/media/CT42GRgUYAA5iDo.jpg   \n",
       "2  666033412701032449  https://pbs.twimg.com/media/CT4521TWwAEvMyu.jpg   \n",
       "3  666044226329800704  https://pbs.twimg.com/media/CT5Dr8HUEAA-lEu.jpg   \n",
       "4  666049248165822465  https://pbs.twimg.com/media/CT5IQmsXIAAKY4A.jpg   \n",
       "\n",
       "   img_num                      p1   p1_conf  p1_dog                  p2  \\\n",
       "0        1  Welsh_springer_spaniel  0.465074    True              collie   \n",
       "1        1                 redbone  0.506826    True  miniature_pinscher   \n",
       "2        1         German_shepherd  0.596461    True            malinois   \n",
       "3        1     Rhodesian_ridgeback  0.408143    True             redbone   \n",
       "4        1      miniature_pinscher  0.560311    True          Rottweiler   \n",
       "\n",
       "    p2_conf  p2_dog                   p3   p3_conf  p3_dog  \n",
       "0  0.156665    True    Shetland_sheepdog  0.061428    True  \n",
       "1  0.074192    True  Rhodesian_ridgeback  0.072010    True  \n",
       "2  0.138584    True           bloodhound  0.116197    True  \n",
       "3  0.360687    True   miniature_pinscher  0.222752    True  \n",
       "4  0.243682    True             Doberman  0.154629    True  "
      ]
     },
     "execution_count": 176,
     "metadata": {},
     "output_type": "execute_result"
    }
   ],
   "source": [
    "# here we will open the image_predictions.tsv as it was provided in the project details page \n",
    "\n",
    "image_pred = pd.read_csv('image-predictions.tsv' , sep= '\\t')\n",
    "image_pred.head()"
   ]
  },
  {
   "cell_type": "code",
   "execution_count": 177,
   "metadata": {},
   "outputs": [
    {
     "data": {
      "text/plain": [
       "(2075, 12)"
      ]
     },
     "execution_count": 177,
     "metadata": {},
     "output_type": "execute_result"
    }
   ],
   "source": [
    "image_pred.shape"
   ]
  },
  {
   "cell_type": "markdown",
   "metadata": {},
   "source": [
    "When I tried this code : \n",
    "\n",
    "with open('tweet-json.txt) as json_file:\n",
    "\n",
    "    data = json.load(json_file) \n",
    "     \n",
    "###### I received an error states \"Extra data: line 2 column 1 (char 3974)\" , because json here has more than one object per line then I remebered that  pandas has the (read_json) function which I used it here it workd as below , using [pandas documentation](https://pandas.pydata.org/pandas-docs/stable/reference/api/pandas.read_json.html)"
   ]
  },
  {
   "cell_type": "code",
   "execution_count": 178,
   "metadata": {},
   "outputs": [],
   "source": [
    "tweets_info = pd.read_json('tweet-json.txt' , lines = True, encoding = 'utf-8')"
   ]
  },
  {
   "cell_type": "code",
   "execution_count": 179,
   "metadata": {},
   "outputs": [
    {
     "data": {
      "text/plain": [
       "(2354, 31)"
      ]
     },
     "execution_count": 179,
     "metadata": {},
     "output_type": "execute_result"
    }
   ],
   "source": [
    "tweets_info.shape"
   ]
  },
  {
   "cell_type": "code",
   "execution_count": 180,
   "metadata": {},
   "outputs": [
    {
     "data": {
      "text/html": [
       "<div>\n",
       "<style scoped>\n",
       "    .dataframe tbody tr th:only-of-type {\n",
       "        vertical-align: middle;\n",
       "    }\n",
       "\n",
       "    .dataframe tbody tr th {\n",
       "        vertical-align: top;\n",
       "    }\n",
       "\n",
       "    .dataframe thead th {\n",
       "        text-align: right;\n",
       "    }\n",
       "</style>\n",
       "<table border=\"1\" class=\"dataframe\">\n",
       "  <thead>\n",
       "    <tr style=\"text-align: right;\">\n",
       "      <th></th>\n",
       "      <th>created_at</th>\n",
       "      <th>id</th>\n",
       "      <th>id_str</th>\n",
       "      <th>full_text</th>\n",
       "      <th>truncated</th>\n",
       "      <th>display_text_range</th>\n",
       "      <th>entities</th>\n",
       "      <th>extended_entities</th>\n",
       "      <th>source</th>\n",
       "      <th>in_reply_to_status_id</th>\n",
       "      <th>...</th>\n",
       "      <th>favorite_count</th>\n",
       "      <th>favorited</th>\n",
       "      <th>retweeted</th>\n",
       "      <th>possibly_sensitive</th>\n",
       "      <th>possibly_sensitive_appealable</th>\n",
       "      <th>lang</th>\n",
       "      <th>retweeted_status</th>\n",
       "      <th>quoted_status_id</th>\n",
       "      <th>quoted_status_id_str</th>\n",
       "      <th>quoted_status</th>\n",
       "    </tr>\n",
       "  </thead>\n",
       "  <tbody>\n",
       "    <tr>\n",
       "      <th>0</th>\n",
       "      <td>2017-08-01 16:23:56+00:00</td>\n",
       "      <td>892420643555336193</td>\n",
       "      <td>892420643555336192</td>\n",
       "      <td>This is Phineas. He's a mystical boy. Only eve...</td>\n",
       "      <td>False</td>\n",
       "      <td>[0, 85]</td>\n",
       "      <td>{'hashtags': [], 'symbols': [], 'user_mentions...</td>\n",
       "      <td>{'media': [{'id': 892420639486877696, 'id_str'...</td>\n",
       "      <td>&lt;a href=\"http://twitter.com/download/iphone\" r...</td>\n",
       "      <td>NaN</td>\n",
       "      <td>...</td>\n",
       "      <td>39467</td>\n",
       "      <td>False</td>\n",
       "      <td>False</td>\n",
       "      <td>0.0</td>\n",
       "      <td>0.0</td>\n",
       "      <td>en</td>\n",
       "      <td>NaN</td>\n",
       "      <td>NaN</td>\n",
       "      <td>NaN</td>\n",
       "      <td>NaN</td>\n",
       "    </tr>\n",
       "    <tr>\n",
       "      <th>1</th>\n",
       "      <td>2017-08-01 00:17:27+00:00</td>\n",
       "      <td>892177421306343426</td>\n",
       "      <td>892177421306343424</td>\n",
       "      <td>This is Tilly. She's just checking pup on you....</td>\n",
       "      <td>False</td>\n",
       "      <td>[0, 138]</td>\n",
       "      <td>{'hashtags': [], 'symbols': [], 'user_mentions...</td>\n",
       "      <td>{'media': [{'id': 892177413194625024, 'id_str'...</td>\n",
       "      <td>&lt;a href=\"http://twitter.com/download/iphone\" r...</td>\n",
       "      <td>NaN</td>\n",
       "      <td>...</td>\n",
       "      <td>33819</td>\n",
       "      <td>False</td>\n",
       "      <td>False</td>\n",
       "      <td>0.0</td>\n",
       "      <td>0.0</td>\n",
       "      <td>en</td>\n",
       "      <td>NaN</td>\n",
       "      <td>NaN</td>\n",
       "      <td>NaN</td>\n",
       "      <td>NaN</td>\n",
       "    </tr>\n",
       "    <tr>\n",
       "      <th>2</th>\n",
       "      <td>2017-07-31 00:18:03+00:00</td>\n",
       "      <td>891815181378084864</td>\n",
       "      <td>891815181378084864</td>\n",
       "      <td>This is Archie. He is a rare Norwegian Pouncin...</td>\n",
       "      <td>False</td>\n",
       "      <td>[0, 121]</td>\n",
       "      <td>{'hashtags': [], 'symbols': [], 'user_mentions...</td>\n",
       "      <td>{'media': [{'id': 891815175371796480, 'id_str'...</td>\n",
       "      <td>&lt;a href=\"http://twitter.com/download/iphone\" r...</td>\n",
       "      <td>NaN</td>\n",
       "      <td>...</td>\n",
       "      <td>25461</td>\n",
       "      <td>False</td>\n",
       "      <td>False</td>\n",
       "      <td>0.0</td>\n",
       "      <td>0.0</td>\n",
       "      <td>en</td>\n",
       "      <td>NaN</td>\n",
       "      <td>NaN</td>\n",
       "      <td>NaN</td>\n",
       "      <td>NaN</td>\n",
       "    </tr>\n",
       "    <tr>\n",
       "      <th>3</th>\n",
       "      <td>2017-07-30 15:58:51+00:00</td>\n",
       "      <td>891689557279858688</td>\n",
       "      <td>891689557279858688</td>\n",
       "      <td>This is Darla. She commenced a snooze mid meal...</td>\n",
       "      <td>False</td>\n",
       "      <td>[0, 79]</td>\n",
       "      <td>{'hashtags': [], 'symbols': [], 'user_mentions...</td>\n",
       "      <td>{'media': [{'id': 891689552724799489, 'id_str'...</td>\n",
       "      <td>&lt;a href=\"http://twitter.com/download/iphone\" r...</td>\n",
       "      <td>NaN</td>\n",
       "      <td>...</td>\n",
       "      <td>42908</td>\n",
       "      <td>False</td>\n",
       "      <td>False</td>\n",
       "      <td>0.0</td>\n",
       "      <td>0.0</td>\n",
       "      <td>en</td>\n",
       "      <td>NaN</td>\n",
       "      <td>NaN</td>\n",
       "      <td>NaN</td>\n",
       "      <td>NaN</td>\n",
       "    </tr>\n",
       "    <tr>\n",
       "      <th>4</th>\n",
       "      <td>2017-07-29 16:00:24+00:00</td>\n",
       "      <td>891327558926688256</td>\n",
       "      <td>891327558926688256</td>\n",
       "      <td>This is Franklin. He would like you to stop ca...</td>\n",
       "      <td>False</td>\n",
       "      <td>[0, 138]</td>\n",
       "      <td>{'hashtags': [{'text': 'BarkWeek', 'indices': ...</td>\n",
       "      <td>{'media': [{'id': 891327551943041024, 'id_str'...</td>\n",
       "      <td>&lt;a href=\"http://twitter.com/download/iphone\" r...</td>\n",
       "      <td>NaN</td>\n",
       "      <td>...</td>\n",
       "      <td>41048</td>\n",
       "      <td>False</td>\n",
       "      <td>False</td>\n",
       "      <td>0.0</td>\n",
       "      <td>0.0</td>\n",
       "      <td>en</td>\n",
       "      <td>NaN</td>\n",
       "      <td>NaN</td>\n",
       "      <td>NaN</td>\n",
       "      <td>NaN</td>\n",
       "    </tr>\n",
       "  </tbody>\n",
       "</table>\n",
       "<p>5 rows × 31 columns</p>\n",
       "</div>"
      ],
      "text/plain": [
       "                 created_at                  id              id_str  \\\n",
       "0 2017-08-01 16:23:56+00:00  892420643555336193  892420643555336192   \n",
       "1 2017-08-01 00:17:27+00:00  892177421306343426  892177421306343424   \n",
       "2 2017-07-31 00:18:03+00:00  891815181378084864  891815181378084864   \n",
       "3 2017-07-30 15:58:51+00:00  891689557279858688  891689557279858688   \n",
       "4 2017-07-29 16:00:24+00:00  891327558926688256  891327558926688256   \n",
       "\n",
       "                                           full_text  truncated  \\\n",
       "0  This is Phineas. He's a mystical boy. Only eve...      False   \n",
       "1  This is Tilly. She's just checking pup on you....      False   \n",
       "2  This is Archie. He is a rare Norwegian Pouncin...      False   \n",
       "3  This is Darla. She commenced a snooze mid meal...      False   \n",
       "4  This is Franklin. He would like you to stop ca...      False   \n",
       "\n",
       "  display_text_range                                           entities  \\\n",
       "0            [0, 85]  {'hashtags': [], 'symbols': [], 'user_mentions...   \n",
       "1           [0, 138]  {'hashtags': [], 'symbols': [], 'user_mentions...   \n",
       "2           [0, 121]  {'hashtags': [], 'symbols': [], 'user_mentions...   \n",
       "3            [0, 79]  {'hashtags': [], 'symbols': [], 'user_mentions...   \n",
       "4           [0, 138]  {'hashtags': [{'text': 'BarkWeek', 'indices': ...   \n",
       "\n",
       "                                   extended_entities  \\\n",
       "0  {'media': [{'id': 892420639486877696, 'id_str'...   \n",
       "1  {'media': [{'id': 892177413194625024, 'id_str'...   \n",
       "2  {'media': [{'id': 891815175371796480, 'id_str'...   \n",
       "3  {'media': [{'id': 891689552724799489, 'id_str'...   \n",
       "4  {'media': [{'id': 891327551943041024, 'id_str'...   \n",
       "\n",
       "                                              source  in_reply_to_status_id  \\\n",
       "0  <a href=\"http://twitter.com/download/iphone\" r...                    NaN   \n",
       "1  <a href=\"http://twitter.com/download/iphone\" r...                    NaN   \n",
       "2  <a href=\"http://twitter.com/download/iphone\" r...                    NaN   \n",
       "3  <a href=\"http://twitter.com/download/iphone\" r...                    NaN   \n",
       "4  <a href=\"http://twitter.com/download/iphone\" r...                    NaN   \n",
       "\n",
       "   ...  favorite_count  favorited  retweeted possibly_sensitive  \\\n",
       "0  ...           39467      False      False                0.0   \n",
       "1  ...           33819      False      False                0.0   \n",
       "2  ...           25461      False      False                0.0   \n",
       "3  ...           42908      False      False                0.0   \n",
       "4  ...           41048      False      False                0.0   \n",
       "\n",
       "  possibly_sensitive_appealable  lang  retweeted_status quoted_status_id  \\\n",
       "0                           0.0    en               NaN              NaN   \n",
       "1                           0.0    en               NaN              NaN   \n",
       "2                           0.0    en               NaN              NaN   \n",
       "3                           0.0    en               NaN              NaN   \n",
       "4                           0.0    en               NaN              NaN   \n",
       "\n",
       "   quoted_status_id_str  quoted_status  \n",
       "0                   NaN            NaN  \n",
       "1                   NaN            NaN  \n",
       "2                   NaN            NaN  \n",
       "3                   NaN            NaN  \n",
       "4                   NaN            NaN  \n",
       "\n",
       "[5 rows x 31 columns]"
      ]
     },
     "execution_count": 180,
     "metadata": {},
     "output_type": "execute_result"
    }
   ],
   "source": [
    "tweets_info.head()"
   ]
  },
  {
   "cell_type": "code",
   "execution_count": 181,
   "metadata": {},
   "outputs": [
    {
     "data": {
      "text/html": [
       "<div>\n",
       "<style scoped>\n",
       "    .dataframe tbody tr th:only-of-type {\n",
       "        vertical-align: middle;\n",
       "    }\n",
       "\n",
       "    .dataframe tbody tr th {\n",
       "        vertical-align: top;\n",
       "    }\n",
       "\n",
       "    .dataframe thead th {\n",
       "        text-align: right;\n",
       "    }\n",
       "</style>\n",
       "<table border=\"1\" class=\"dataframe\">\n",
       "  <thead>\n",
       "    <tr style=\"text-align: right;\">\n",
       "      <th></th>\n",
       "      <th>id</th>\n",
       "      <th>retweet_count</th>\n",
       "      <th>favorite_count</th>\n",
       "    </tr>\n",
       "  </thead>\n",
       "  <tbody>\n",
       "    <tr>\n",
       "      <th>0</th>\n",
       "      <td>892420643555336193</td>\n",
       "      <td>8853</td>\n",
       "      <td>39467</td>\n",
       "    </tr>\n",
       "    <tr>\n",
       "      <th>1</th>\n",
       "      <td>892177421306343426</td>\n",
       "      <td>6514</td>\n",
       "      <td>33819</td>\n",
       "    </tr>\n",
       "    <tr>\n",
       "      <th>2</th>\n",
       "      <td>891815181378084864</td>\n",
       "      <td>4328</td>\n",
       "      <td>25461</td>\n",
       "    </tr>\n",
       "    <tr>\n",
       "      <th>3</th>\n",
       "      <td>891689557279858688</td>\n",
       "      <td>8964</td>\n",
       "      <td>42908</td>\n",
       "    </tr>\n",
       "    <tr>\n",
       "      <th>4</th>\n",
       "      <td>891327558926688256</td>\n",
       "      <td>9774</td>\n",
       "      <td>41048</td>\n",
       "    </tr>\n",
       "  </tbody>\n",
       "</table>\n",
       "</div>"
      ],
      "text/plain": [
       "                   id  retweet_count  favorite_count\n",
       "0  892420643555336193           8853           39467\n",
       "1  892177421306343426           6514           33819\n",
       "2  891815181378084864           4328           25461\n",
       "3  891689557279858688           8964           42908\n",
       "4  891327558926688256           9774           41048"
      ]
     },
     "execution_count": 181,
     "metadata": {},
     "output_type": "execute_result"
    }
   ],
   "source": [
    "# since we have been informed to consider the columns of 'retweet_count' & 'favorite_count' for this project we will make a new \n",
    "# dataframe that has only three columns ('tweet_id', 'retweet_count' and 'favorite_count') in order to be able to join them later \n",
    "# we will use here \".filter()\" method which allows us to make a copy with the selected columns.  \n",
    "tweets_info_df = tweets_info.filter(['id','retweet_count','favorite_count'] , axis = 1)\n",
    "tweets_info_df.head()"
   ]
  },
  {
   "cell_type": "code",
   "execution_count": 182,
   "metadata": {},
   "outputs": [
    {
     "data": {
      "text/html": [
       "<div>\n",
       "<style scoped>\n",
       "    .dataframe tbody tr th:only-of-type {\n",
       "        vertical-align: middle;\n",
       "    }\n",
       "\n",
       "    .dataframe tbody tr th {\n",
       "        vertical-align: top;\n",
       "    }\n",
       "\n",
       "    .dataframe thead th {\n",
       "        text-align: right;\n",
       "    }\n",
       "</style>\n",
       "<table border=\"1\" class=\"dataframe\">\n",
       "  <thead>\n",
       "    <tr style=\"text-align: right;\">\n",
       "      <th></th>\n",
       "      <th>tweet_id</th>\n",
       "      <th>retweet_count</th>\n",
       "      <th>favorite_count</th>\n",
       "    </tr>\n",
       "  </thead>\n",
       "  <tbody>\n",
       "    <tr>\n",
       "      <th>0</th>\n",
       "      <td>892420643555336193</td>\n",
       "      <td>8853</td>\n",
       "      <td>39467</td>\n",
       "    </tr>\n",
       "    <tr>\n",
       "      <th>1</th>\n",
       "      <td>892177421306343426</td>\n",
       "      <td>6514</td>\n",
       "      <td>33819</td>\n",
       "    </tr>\n",
       "  </tbody>\n",
       "</table>\n",
       "</div>"
      ],
      "text/plain": [
       "             tweet_id  retweet_count  favorite_count\n",
       "0  892420643555336193           8853           39467\n",
       "1  892177421306343426           6514           33819"
      ]
     },
     "execution_count": 182,
     "metadata": {},
     "output_type": "execute_result"
    }
   ],
   "source": [
    "# In order to be able to join our dataframes later we need rename id column here to match with the other two dataframes we have \n",
    "# so we will us the rename method in pandas\n",
    "\n",
    "tweets_info_df = tweets_info_df.rename(columns = {'id' : 'tweet_id'})\n",
    "tweets_info_df.head(2)"
   ]
  },
  {
   "cell_type": "markdown",
   "metadata": {},
   "source": [
    "#### Now we have three  different dataframes , that were gathred in multiple ways :  \n",
    "\n",
    "tweets_data\n",
    "\n",
    "image_pred\n",
    "\n",
    "tweets_info_df"
   ]
  },
  {
   "cell_type": "markdown",
   "metadata": {},
   "source": [
    "# Assessing \n",
    "\n",
    "let's start assess our data **visually** by looking at them "
   ]
  },
  {
   "cell_type": "code",
   "execution_count": 183,
   "metadata": {
    "scrolled": true
   },
   "outputs": [
    {
     "data": {
      "text/html": [
       "<div>\n",
       "<style scoped>\n",
       "    .dataframe tbody tr th:only-of-type {\n",
       "        vertical-align: middle;\n",
       "    }\n",
       "\n",
       "    .dataframe tbody tr th {\n",
       "        vertical-align: top;\n",
       "    }\n",
       "\n",
       "    .dataframe thead th {\n",
       "        text-align: right;\n",
       "    }\n",
       "</style>\n",
       "<table border=\"1\" class=\"dataframe\">\n",
       "  <thead>\n",
       "    <tr style=\"text-align: right;\">\n",
       "      <th></th>\n",
       "      <th>tweet_id</th>\n",
       "      <th>in_reply_to_status_id</th>\n",
       "      <th>in_reply_to_user_id</th>\n",
       "      <th>timestamp</th>\n",
       "      <th>source</th>\n",
       "      <th>text</th>\n",
       "      <th>retweeted_status_id</th>\n",
       "      <th>retweeted_status_user_id</th>\n",
       "      <th>retweeted_status_timestamp</th>\n",
       "      <th>expanded_urls</th>\n",
       "      <th>rating_numerator</th>\n",
       "      <th>rating_denominator</th>\n",
       "      <th>name</th>\n",
       "      <th>doggo</th>\n",
       "      <th>floofer</th>\n",
       "      <th>pupper</th>\n",
       "      <th>puppo</th>\n",
       "    </tr>\n",
       "  </thead>\n",
       "  <tbody>\n",
       "    <tr>\n",
       "      <th>0</th>\n",
       "      <td>892420643555336193</td>\n",
       "      <td>NaN</td>\n",
       "      <td>NaN</td>\n",
       "      <td>2017-08-01 16:23:56 +0000</td>\n",
       "      <td>&lt;a href=\"http://twitter.com/download/iphone\" r...</td>\n",
       "      <td>This is Phineas. He's a mystical boy. Only eve...</td>\n",
       "      <td>NaN</td>\n",
       "      <td>NaN</td>\n",
       "      <td>NaN</td>\n",
       "      <td>https://twitter.com/dog_rates/status/892420643...</td>\n",
       "      <td>13</td>\n",
       "      <td>10</td>\n",
       "      <td>Phineas</td>\n",
       "      <td>None</td>\n",
       "      <td>None</td>\n",
       "      <td>None</td>\n",
       "      <td>None</td>\n",
       "    </tr>\n",
       "    <tr>\n",
       "      <th>1</th>\n",
       "      <td>892177421306343426</td>\n",
       "      <td>NaN</td>\n",
       "      <td>NaN</td>\n",
       "      <td>2017-08-01 00:17:27 +0000</td>\n",
       "      <td>&lt;a href=\"http://twitter.com/download/iphone\" r...</td>\n",
       "      <td>This is Tilly. She's just checking pup on you....</td>\n",
       "      <td>NaN</td>\n",
       "      <td>NaN</td>\n",
       "      <td>NaN</td>\n",
       "      <td>https://twitter.com/dog_rates/status/892177421...</td>\n",
       "      <td>13</td>\n",
       "      <td>10</td>\n",
       "      <td>Tilly</td>\n",
       "      <td>None</td>\n",
       "      <td>None</td>\n",
       "      <td>None</td>\n",
       "      <td>None</td>\n",
       "    </tr>\n",
       "    <tr>\n",
       "      <th>2</th>\n",
       "      <td>891815181378084864</td>\n",
       "      <td>NaN</td>\n",
       "      <td>NaN</td>\n",
       "      <td>2017-07-31 00:18:03 +0000</td>\n",
       "      <td>&lt;a href=\"http://twitter.com/download/iphone\" r...</td>\n",
       "      <td>This is Archie. He is a rare Norwegian Pouncin...</td>\n",
       "      <td>NaN</td>\n",
       "      <td>NaN</td>\n",
       "      <td>NaN</td>\n",
       "      <td>https://twitter.com/dog_rates/status/891815181...</td>\n",
       "      <td>12</td>\n",
       "      <td>10</td>\n",
       "      <td>Archie</td>\n",
       "      <td>None</td>\n",
       "      <td>None</td>\n",
       "      <td>None</td>\n",
       "      <td>None</td>\n",
       "    </tr>\n",
       "    <tr>\n",
       "      <th>3</th>\n",
       "      <td>891689557279858688</td>\n",
       "      <td>NaN</td>\n",
       "      <td>NaN</td>\n",
       "      <td>2017-07-30 15:58:51 +0000</td>\n",
       "      <td>&lt;a href=\"http://twitter.com/download/iphone\" r...</td>\n",
       "      <td>This is Darla. She commenced a snooze mid meal...</td>\n",
       "      <td>NaN</td>\n",
       "      <td>NaN</td>\n",
       "      <td>NaN</td>\n",
       "      <td>https://twitter.com/dog_rates/status/891689557...</td>\n",
       "      <td>13</td>\n",
       "      <td>10</td>\n",
       "      <td>Darla</td>\n",
       "      <td>None</td>\n",
       "      <td>None</td>\n",
       "      <td>None</td>\n",
       "      <td>None</td>\n",
       "    </tr>\n",
       "    <tr>\n",
       "      <th>4</th>\n",
       "      <td>891327558926688256</td>\n",
       "      <td>NaN</td>\n",
       "      <td>NaN</td>\n",
       "      <td>2017-07-29 16:00:24 +0000</td>\n",
       "      <td>&lt;a href=\"http://twitter.com/download/iphone\" r...</td>\n",
       "      <td>This is Franklin. He would like you to stop ca...</td>\n",
       "      <td>NaN</td>\n",
       "      <td>NaN</td>\n",
       "      <td>NaN</td>\n",
       "      <td>https://twitter.com/dog_rates/status/891327558...</td>\n",
       "      <td>12</td>\n",
       "      <td>10</td>\n",
       "      <td>Franklin</td>\n",
       "      <td>None</td>\n",
       "      <td>None</td>\n",
       "      <td>None</td>\n",
       "      <td>None</td>\n",
       "    </tr>\n",
       "    <tr>\n",
       "      <th>...</th>\n",
       "      <td>...</td>\n",
       "      <td>...</td>\n",
       "      <td>...</td>\n",
       "      <td>...</td>\n",
       "      <td>...</td>\n",
       "      <td>...</td>\n",
       "      <td>...</td>\n",
       "      <td>...</td>\n",
       "      <td>...</td>\n",
       "      <td>...</td>\n",
       "      <td>...</td>\n",
       "      <td>...</td>\n",
       "      <td>...</td>\n",
       "      <td>...</td>\n",
       "      <td>...</td>\n",
       "      <td>...</td>\n",
       "      <td>...</td>\n",
       "    </tr>\n",
       "    <tr>\n",
       "      <th>2351</th>\n",
       "      <td>666049248165822465</td>\n",
       "      <td>NaN</td>\n",
       "      <td>NaN</td>\n",
       "      <td>2015-11-16 00:24:50 +0000</td>\n",
       "      <td>&lt;a href=\"http://twitter.com/download/iphone\" r...</td>\n",
       "      <td>Here we have a 1949 1st generation vulpix. Enj...</td>\n",
       "      <td>NaN</td>\n",
       "      <td>NaN</td>\n",
       "      <td>NaN</td>\n",
       "      <td>https://twitter.com/dog_rates/status/666049248...</td>\n",
       "      <td>5</td>\n",
       "      <td>10</td>\n",
       "      <td>None</td>\n",
       "      <td>None</td>\n",
       "      <td>None</td>\n",
       "      <td>None</td>\n",
       "      <td>None</td>\n",
       "    </tr>\n",
       "    <tr>\n",
       "      <th>2352</th>\n",
       "      <td>666044226329800704</td>\n",
       "      <td>NaN</td>\n",
       "      <td>NaN</td>\n",
       "      <td>2015-11-16 00:04:52 +0000</td>\n",
       "      <td>&lt;a href=\"http://twitter.com/download/iphone\" r...</td>\n",
       "      <td>This is a purebred Piers Morgan. Loves to Netf...</td>\n",
       "      <td>NaN</td>\n",
       "      <td>NaN</td>\n",
       "      <td>NaN</td>\n",
       "      <td>https://twitter.com/dog_rates/status/666044226...</td>\n",
       "      <td>6</td>\n",
       "      <td>10</td>\n",
       "      <td>a</td>\n",
       "      <td>None</td>\n",
       "      <td>None</td>\n",
       "      <td>None</td>\n",
       "      <td>None</td>\n",
       "    </tr>\n",
       "    <tr>\n",
       "      <th>2353</th>\n",
       "      <td>666033412701032449</td>\n",
       "      <td>NaN</td>\n",
       "      <td>NaN</td>\n",
       "      <td>2015-11-15 23:21:54 +0000</td>\n",
       "      <td>&lt;a href=\"http://twitter.com/download/iphone\" r...</td>\n",
       "      <td>Here is a very happy pup. Big fan of well-main...</td>\n",
       "      <td>NaN</td>\n",
       "      <td>NaN</td>\n",
       "      <td>NaN</td>\n",
       "      <td>https://twitter.com/dog_rates/status/666033412...</td>\n",
       "      <td>9</td>\n",
       "      <td>10</td>\n",
       "      <td>a</td>\n",
       "      <td>None</td>\n",
       "      <td>None</td>\n",
       "      <td>None</td>\n",
       "      <td>None</td>\n",
       "    </tr>\n",
       "    <tr>\n",
       "      <th>2354</th>\n",
       "      <td>666029285002620928</td>\n",
       "      <td>NaN</td>\n",
       "      <td>NaN</td>\n",
       "      <td>2015-11-15 23:05:30 +0000</td>\n",
       "      <td>&lt;a href=\"http://twitter.com/download/iphone\" r...</td>\n",
       "      <td>This is a western brown Mitsubishi terrier. Up...</td>\n",
       "      <td>NaN</td>\n",
       "      <td>NaN</td>\n",
       "      <td>NaN</td>\n",
       "      <td>https://twitter.com/dog_rates/status/666029285...</td>\n",
       "      <td>7</td>\n",
       "      <td>10</td>\n",
       "      <td>a</td>\n",
       "      <td>None</td>\n",
       "      <td>None</td>\n",
       "      <td>None</td>\n",
       "      <td>None</td>\n",
       "    </tr>\n",
       "    <tr>\n",
       "      <th>2355</th>\n",
       "      <td>666020888022790149</td>\n",
       "      <td>NaN</td>\n",
       "      <td>NaN</td>\n",
       "      <td>2015-11-15 22:32:08 +0000</td>\n",
       "      <td>&lt;a href=\"http://twitter.com/download/iphone\" r...</td>\n",
       "      <td>Here we have a Japanese Irish Setter. Lost eye...</td>\n",
       "      <td>NaN</td>\n",
       "      <td>NaN</td>\n",
       "      <td>NaN</td>\n",
       "      <td>https://twitter.com/dog_rates/status/666020888...</td>\n",
       "      <td>8</td>\n",
       "      <td>10</td>\n",
       "      <td>None</td>\n",
       "      <td>None</td>\n",
       "      <td>None</td>\n",
       "      <td>None</td>\n",
       "      <td>None</td>\n",
       "    </tr>\n",
       "  </tbody>\n",
       "</table>\n",
       "<p>2356 rows × 17 columns</p>\n",
       "</div>"
      ],
      "text/plain": [
       "                tweet_id  in_reply_to_status_id  in_reply_to_user_id  \\\n",
       "0     892420643555336193                    NaN                  NaN   \n",
       "1     892177421306343426                    NaN                  NaN   \n",
       "2     891815181378084864                    NaN                  NaN   \n",
       "3     891689557279858688                    NaN                  NaN   \n",
       "4     891327558926688256                    NaN                  NaN   \n",
       "...                  ...                    ...                  ...   \n",
       "2351  666049248165822465                    NaN                  NaN   \n",
       "2352  666044226329800704                    NaN                  NaN   \n",
       "2353  666033412701032449                    NaN                  NaN   \n",
       "2354  666029285002620928                    NaN                  NaN   \n",
       "2355  666020888022790149                    NaN                  NaN   \n",
       "\n",
       "                      timestamp  \\\n",
       "0     2017-08-01 16:23:56 +0000   \n",
       "1     2017-08-01 00:17:27 +0000   \n",
       "2     2017-07-31 00:18:03 +0000   \n",
       "3     2017-07-30 15:58:51 +0000   \n",
       "4     2017-07-29 16:00:24 +0000   \n",
       "...                         ...   \n",
       "2351  2015-11-16 00:24:50 +0000   \n",
       "2352  2015-11-16 00:04:52 +0000   \n",
       "2353  2015-11-15 23:21:54 +0000   \n",
       "2354  2015-11-15 23:05:30 +0000   \n",
       "2355  2015-11-15 22:32:08 +0000   \n",
       "\n",
       "                                                 source  \\\n",
       "0     <a href=\"http://twitter.com/download/iphone\" r...   \n",
       "1     <a href=\"http://twitter.com/download/iphone\" r...   \n",
       "2     <a href=\"http://twitter.com/download/iphone\" r...   \n",
       "3     <a href=\"http://twitter.com/download/iphone\" r...   \n",
       "4     <a href=\"http://twitter.com/download/iphone\" r...   \n",
       "...                                                 ...   \n",
       "2351  <a href=\"http://twitter.com/download/iphone\" r...   \n",
       "2352  <a href=\"http://twitter.com/download/iphone\" r...   \n",
       "2353  <a href=\"http://twitter.com/download/iphone\" r...   \n",
       "2354  <a href=\"http://twitter.com/download/iphone\" r...   \n",
       "2355  <a href=\"http://twitter.com/download/iphone\" r...   \n",
       "\n",
       "                                                   text  retweeted_status_id  \\\n",
       "0     This is Phineas. He's a mystical boy. Only eve...                  NaN   \n",
       "1     This is Tilly. She's just checking pup on you....                  NaN   \n",
       "2     This is Archie. He is a rare Norwegian Pouncin...                  NaN   \n",
       "3     This is Darla. She commenced a snooze mid meal...                  NaN   \n",
       "4     This is Franklin. He would like you to stop ca...                  NaN   \n",
       "...                                                 ...                  ...   \n",
       "2351  Here we have a 1949 1st generation vulpix. Enj...                  NaN   \n",
       "2352  This is a purebred Piers Morgan. Loves to Netf...                  NaN   \n",
       "2353  Here is a very happy pup. Big fan of well-main...                  NaN   \n",
       "2354  This is a western brown Mitsubishi terrier. Up...                  NaN   \n",
       "2355  Here we have a Japanese Irish Setter. Lost eye...                  NaN   \n",
       "\n",
       "      retweeted_status_user_id retweeted_status_timestamp  \\\n",
       "0                          NaN                        NaN   \n",
       "1                          NaN                        NaN   \n",
       "2                          NaN                        NaN   \n",
       "3                          NaN                        NaN   \n",
       "4                          NaN                        NaN   \n",
       "...                        ...                        ...   \n",
       "2351                       NaN                        NaN   \n",
       "2352                       NaN                        NaN   \n",
       "2353                       NaN                        NaN   \n",
       "2354                       NaN                        NaN   \n",
       "2355                       NaN                        NaN   \n",
       "\n",
       "                                          expanded_urls  rating_numerator  \\\n",
       "0     https://twitter.com/dog_rates/status/892420643...                13   \n",
       "1     https://twitter.com/dog_rates/status/892177421...                13   \n",
       "2     https://twitter.com/dog_rates/status/891815181...                12   \n",
       "3     https://twitter.com/dog_rates/status/891689557...                13   \n",
       "4     https://twitter.com/dog_rates/status/891327558...                12   \n",
       "...                                                 ...               ...   \n",
       "2351  https://twitter.com/dog_rates/status/666049248...                 5   \n",
       "2352  https://twitter.com/dog_rates/status/666044226...                 6   \n",
       "2353  https://twitter.com/dog_rates/status/666033412...                 9   \n",
       "2354  https://twitter.com/dog_rates/status/666029285...                 7   \n",
       "2355  https://twitter.com/dog_rates/status/666020888...                 8   \n",
       "\n",
       "      rating_denominator      name doggo floofer pupper puppo  \n",
       "0                     10   Phineas  None    None   None  None  \n",
       "1                     10     Tilly  None    None   None  None  \n",
       "2                     10    Archie  None    None   None  None  \n",
       "3                     10     Darla  None    None   None  None  \n",
       "4                     10  Franklin  None    None   None  None  \n",
       "...                  ...       ...   ...     ...    ...   ...  \n",
       "2351                  10      None  None    None   None  None  \n",
       "2352                  10         a  None    None   None  None  \n",
       "2353                  10         a  None    None   None  None  \n",
       "2354                  10         a  None    None   None  None  \n",
       "2355                  10      None  None    None   None  None  \n",
       "\n",
       "[2356 rows x 17 columns]"
      ]
     },
     "execution_count": 183,
     "metadata": {},
     "output_type": "execute_result"
    }
   ],
   "source": [
    "tweets_data"
   ]
  },
  {
   "cell_type": "code",
   "execution_count": 184,
   "metadata": {},
   "outputs": [
    {
     "data": {
      "text/html": [
       "<div>\n",
       "<style scoped>\n",
       "    .dataframe tbody tr th:only-of-type {\n",
       "        vertical-align: middle;\n",
       "    }\n",
       "\n",
       "    .dataframe tbody tr th {\n",
       "        vertical-align: top;\n",
       "    }\n",
       "\n",
       "    .dataframe thead th {\n",
       "        text-align: right;\n",
       "    }\n",
       "</style>\n",
       "<table border=\"1\" class=\"dataframe\">\n",
       "  <thead>\n",
       "    <tr style=\"text-align: right;\">\n",
       "      <th></th>\n",
       "      <th>tweet_id</th>\n",
       "      <th>jpg_url</th>\n",
       "      <th>img_num</th>\n",
       "      <th>p1</th>\n",
       "      <th>p1_conf</th>\n",
       "      <th>p1_dog</th>\n",
       "      <th>p2</th>\n",
       "      <th>p2_conf</th>\n",
       "      <th>p2_dog</th>\n",
       "      <th>p3</th>\n",
       "      <th>p3_conf</th>\n",
       "      <th>p3_dog</th>\n",
       "    </tr>\n",
       "  </thead>\n",
       "  <tbody>\n",
       "    <tr>\n",
       "      <th>0</th>\n",
       "      <td>666020888022790149</td>\n",
       "      <td>https://pbs.twimg.com/media/CT4udn0WwAA0aMy.jpg</td>\n",
       "      <td>1</td>\n",
       "      <td>Welsh_springer_spaniel</td>\n",
       "      <td>0.465074</td>\n",
       "      <td>True</td>\n",
       "      <td>collie</td>\n",
       "      <td>0.156665</td>\n",
       "      <td>True</td>\n",
       "      <td>Shetland_sheepdog</td>\n",
       "      <td>0.061428</td>\n",
       "      <td>True</td>\n",
       "    </tr>\n",
       "    <tr>\n",
       "      <th>1</th>\n",
       "      <td>666029285002620928</td>\n",
       "      <td>https://pbs.twimg.com/media/CT42GRgUYAA5iDo.jpg</td>\n",
       "      <td>1</td>\n",
       "      <td>redbone</td>\n",
       "      <td>0.506826</td>\n",
       "      <td>True</td>\n",
       "      <td>miniature_pinscher</td>\n",
       "      <td>0.074192</td>\n",
       "      <td>True</td>\n",
       "      <td>Rhodesian_ridgeback</td>\n",
       "      <td>0.072010</td>\n",
       "      <td>True</td>\n",
       "    </tr>\n",
       "    <tr>\n",
       "      <th>2</th>\n",
       "      <td>666033412701032449</td>\n",
       "      <td>https://pbs.twimg.com/media/CT4521TWwAEvMyu.jpg</td>\n",
       "      <td>1</td>\n",
       "      <td>German_shepherd</td>\n",
       "      <td>0.596461</td>\n",
       "      <td>True</td>\n",
       "      <td>malinois</td>\n",
       "      <td>0.138584</td>\n",
       "      <td>True</td>\n",
       "      <td>bloodhound</td>\n",
       "      <td>0.116197</td>\n",
       "      <td>True</td>\n",
       "    </tr>\n",
       "    <tr>\n",
       "      <th>3</th>\n",
       "      <td>666044226329800704</td>\n",
       "      <td>https://pbs.twimg.com/media/CT5Dr8HUEAA-lEu.jpg</td>\n",
       "      <td>1</td>\n",
       "      <td>Rhodesian_ridgeback</td>\n",
       "      <td>0.408143</td>\n",
       "      <td>True</td>\n",
       "      <td>redbone</td>\n",
       "      <td>0.360687</td>\n",
       "      <td>True</td>\n",
       "      <td>miniature_pinscher</td>\n",
       "      <td>0.222752</td>\n",
       "      <td>True</td>\n",
       "    </tr>\n",
       "    <tr>\n",
       "      <th>4</th>\n",
       "      <td>666049248165822465</td>\n",
       "      <td>https://pbs.twimg.com/media/CT5IQmsXIAAKY4A.jpg</td>\n",
       "      <td>1</td>\n",
       "      <td>miniature_pinscher</td>\n",
       "      <td>0.560311</td>\n",
       "      <td>True</td>\n",
       "      <td>Rottweiler</td>\n",
       "      <td>0.243682</td>\n",
       "      <td>True</td>\n",
       "      <td>Doberman</td>\n",
       "      <td>0.154629</td>\n",
       "      <td>True</td>\n",
       "    </tr>\n",
       "    <tr>\n",
       "      <th>...</th>\n",
       "      <td>...</td>\n",
       "      <td>...</td>\n",
       "      <td>...</td>\n",
       "      <td>...</td>\n",
       "      <td>...</td>\n",
       "      <td>...</td>\n",
       "      <td>...</td>\n",
       "      <td>...</td>\n",
       "      <td>...</td>\n",
       "      <td>...</td>\n",
       "      <td>...</td>\n",
       "      <td>...</td>\n",
       "    </tr>\n",
       "    <tr>\n",
       "      <th>2070</th>\n",
       "      <td>891327558926688256</td>\n",
       "      <td>https://pbs.twimg.com/media/DF6hr6BUMAAzZgT.jpg</td>\n",
       "      <td>2</td>\n",
       "      <td>basset</td>\n",
       "      <td>0.555712</td>\n",
       "      <td>True</td>\n",
       "      <td>English_springer</td>\n",
       "      <td>0.225770</td>\n",
       "      <td>True</td>\n",
       "      <td>German_short-haired_pointer</td>\n",
       "      <td>0.175219</td>\n",
       "      <td>True</td>\n",
       "    </tr>\n",
       "    <tr>\n",
       "      <th>2071</th>\n",
       "      <td>891689557279858688</td>\n",
       "      <td>https://pbs.twimg.com/media/DF_q7IAWsAEuuN8.jpg</td>\n",
       "      <td>1</td>\n",
       "      <td>paper_towel</td>\n",
       "      <td>0.170278</td>\n",
       "      <td>False</td>\n",
       "      <td>Labrador_retriever</td>\n",
       "      <td>0.168086</td>\n",
       "      <td>True</td>\n",
       "      <td>spatula</td>\n",
       "      <td>0.040836</td>\n",
       "      <td>False</td>\n",
       "    </tr>\n",
       "    <tr>\n",
       "      <th>2072</th>\n",
       "      <td>891815181378084864</td>\n",
       "      <td>https://pbs.twimg.com/media/DGBdLU1WsAANxJ9.jpg</td>\n",
       "      <td>1</td>\n",
       "      <td>Chihuahua</td>\n",
       "      <td>0.716012</td>\n",
       "      <td>True</td>\n",
       "      <td>malamute</td>\n",
       "      <td>0.078253</td>\n",
       "      <td>True</td>\n",
       "      <td>kelpie</td>\n",
       "      <td>0.031379</td>\n",
       "      <td>True</td>\n",
       "    </tr>\n",
       "    <tr>\n",
       "      <th>2073</th>\n",
       "      <td>892177421306343426</td>\n",
       "      <td>https://pbs.twimg.com/media/DGGmoV4XsAAUL6n.jpg</td>\n",
       "      <td>1</td>\n",
       "      <td>Chihuahua</td>\n",
       "      <td>0.323581</td>\n",
       "      <td>True</td>\n",
       "      <td>Pekinese</td>\n",
       "      <td>0.090647</td>\n",
       "      <td>True</td>\n",
       "      <td>papillon</td>\n",
       "      <td>0.068957</td>\n",
       "      <td>True</td>\n",
       "    </tr>\n",
       "    <tr>\n",
       "      <th>2074</th>\n",
       "      <td>892420643555336193</td>\n",
       "      <td>https://pbs.twimg.com/media/DGKD1-bXoAAIAUK.jpg</td>\n",
       "      <td>1</td>\n",
       "      <td>orange</td>\n",
       "      <td>0.097049</td>\n",
       "      <td>False</td>\n",
       "      <td>bagel</td>\n",
       "      <td>0.085851</td>\n",
       "      <td>False</td>\n",
       "      <td>banana</td>\n",
       "      <td>0.076110</td>\n",
       "      <td>False</td>\n",
       "    </tr>\n",
       "  </tbody>\n",
       "</table>\n",
       "<p>2075 rows × 12 columns</p>\n",
       "</div>"
      ],
      "text/plain": [
       "                tweet_id                                          jpg_url  \\\n",
       "0     666020888022790149  https://pbs.twimg.com/media/CT4udn0WwAA0aMy.jpg   \n",
       "1     666029285002620928  https://pbs.twimg.com/media/CT42GRgUYAA5iDo.jpg   \n",
       "2     666033412701032449  https://pbs.twimg.com/media/CT4521TWwAEvMyu.jpg   \n",
       "3     666044226329800704  https://pbs.twimg.com/media/CT5Dr8HUEAA-lEu.jpg   \n",
       "4     666049248165822465  https://pbs.twimg.com/media/CT5IQmsXIAAKY4A.jpg   \n",
       "...                  ...                                              ...   \n",
       "2070  891327558926688256  https://pbs.twimg.com/media/DF6hr6BUMAAzZgT.jpg   \n",
       "2071  891689557279858688  https://pbs.twimg.com/media/DF_q7IAWsAEuuN8.jpg   \n",
       "2072  891815181378084864  https://pbs.twimg.com/media/DGBdLU1WsAANxJ9.jpg   \n",
       "2073  892177421306343426  https://pbs.twimg.com/media/DGGmoV4XsAAUL6n.jpg   \n",
       "2074  892420643555336193  https://pbs.twimg.com/media/DGKD1-bXoAAIAUK.jpg   \n",
       "\n",
       "      img_num                      p1   p1_conf  p1_dog                  p2  \\\n",
       "0           1  Welsh_springer_spaniel  0.465074    True              collie   \n",
       "1           1                 redbone  0.506826    True  miniature_pinscher   \n",
       "2           1         German_shepherd  0.596461    True            malinois   \n",
       "3           1     Rhodesian_ridgeback  0.408143    True             redbone   \n",
       "4           1      miniature_pinscher  0.560311    True          Rottweiler   \n",
       "...       ...                     ...       ...     ...                 ...   \n",
       "2070        2                  basset  0.555712    True    English_springer   \n",
       "2071        1             paper_towel  0.170278   False  Labrador_retriever   \n",
       "2072        1               Chihuahua  0.716012    True            malamute   \n",
       "2073        1               Chihuahua  0.323581    True            Pekinese   \n",
       "2074        1                  orange  0.097049   False               bagel   \n",
       "\n",
       "       p2_conf  p2_dog                           p3   p3_conf  p3_dog  \n",
       "0     0.156665    True            Shetland_sheepdog  0.061428    True  \n",
       "1     0.074192    True          Rhodesian_ridgeback  0.072010    True  \n",
       "2     0.138584    True                   bloodhound  0.116197    True  \n",
       "3     0.360687    True           miniature_pinscher  0.222752    True  \n",
       "4     0.243682    True                     Doberman  0.154629    True  \n",
       "...        ...     ...                          ...       ...     ...  \n",
       "2070  0.225770    True  German_short-haired_pointer  0.175219    True  \n",
       "2071  0.168086    True                      spatula  0.040836   False  \n",
       "2072  0.078253    True                       kelpie  0.031379    True  \n",
       "2073  0.090647    True                     papillon  0.068957    True  \n",
       "2074  0.085851   False                       banana  0.076110   False  \n",
       "\n",
       "[2075 rows x 12 columns]"
      ]
     },
     "execution_count": 184,
     "metadata": {},
     "output_type": "execute_result"
    }
   ],
   "source": [
    "image_pred"
   ]
  },
  {
   "cell_type": "code",
   "execution_count": 185,
   "metadata": {},
   "outputs": [
    {
     "data": {
      "text/html": [
       "<div>\n",
       "<style scoped>\n",
       "    .dataframe tbody tr th:only-of-type {\n",
       "        vertical-align: middle;\n",
       "    }\n",
       "\n",
       "    .dataframe tbody tr th {\n",
       "        vertical-align: top;\n",
       "    }\n",
       "\n",
       "    .dataframe thead th {\n",
       "        text-align: right;\n",
       "    }\n",
       "</style>\n",
       "<table border=\"1\" class=\"dataframe\">\n",
       "  <thead>\n",
       "    <tr style=\"text-align: right;\">\n",
       "      <th></th>\n",
       "      <th>tweet_id</th>\n",
       "      <th>retweet_count</th>\n",
       "      <th>favorite_count</th>\n",
       "    </tr>\n",
       "  </thead>\n",
       "  <tbody>\n",
       "    <tr>\n",
       "      <th>0</th>\n",
       "      <td>892420643555336193</td>\n",
       "      <td>8853</td>\n",
       "      <td>39467</td>\n",
       "    </tr>\n",
       "    <tr>\n",
       "      <th>1</th>\n",
       "      <td>892177421306343426</td>\n",
       "      <td>6514</td>\n",
       "      <td>33819</td>\n",
       "    </tr>\n",
       "    <tr>\n",
       "      <th>2</th>\n",
       "      <td>891815181378084864</td>\n",
       "      <td>4328</td>\n",
       "      <td>25461</td>\n",
       "    </tr>\n",
       "    <tr>\n",
       "      <th>3</th>\n",
       "      <td>891689557279858688</td>\n",
       "      <td>8964</td>\n",
       "      <td>42908</td>\n",
       "    </tr>\n",
       "    <tr>\n",
       "      <th>4</th>\n",
       "      <td>891327558926688256</td>\n",
       "      <td>9774</td>\n",
       "      <td>41048</td>\n",
       "    </tr>\n",
       "    <tr>\n",
       "      <th>...</th>\n",
       "      <td>...</td>\n",
       "      <td>...</td>\n",
       "      <td>...</td>\n",
       "    </tr>\n",
       "    <tr>\n",
       "      <th>2349</th>\n",
       "      <td>666049248165822465</td>\n",
       "      <td>41</td>\n",
       "      <td>111</td>\n",
       "    </tr>\n",
       "    <tr>\n",
       "      <th>2350</th>\n",
       "      <td>666044226329800704</td>\n",
       "      <td>147</td>\n",
       "      <td>311</td>\n",
       "    </tr>\n",
       "    <tr>\n",
       "      <th>2351</th>\n",
       "      <td>666033412701032449</td>\n",
       "      <td>47</td>\n",
       "      <td>128</td>\n",
       "    </tr>\n",
       "    <tr>\n",
       "      <th>2352</th>\n",
       "      <td>666029285002620928</td>\n",
       "      <td>48</td>\n",
       "      <td>132</td>\n",
       "    </tr>\n",
       "    <tr>\n",
       "      <th>2353</th>\n",
       "      <td>666020888022790149</td>\n",
       "      <td>532</td>\n",
       "      <td>2535</td>\n",
       "    </tr>\n",
       "  </tbody>\n",
       "</table>\n",
       "<p>2354 rows × 3 columns</p>\n",
       "</div>"
      ],
      "text/plain": [
       "                tweet_id  retweet_count  favorite_count\n",
       "0     892420643555336193           8853           39467\n",
       "1     892177421306343426           6514           33819\n",
       "2     891815181378084864           4328           25461\n",
       "3     891689557279858688           8964           42908\n",
       "4     891327558926688256           9774           41048\n",
       "...                  ...            ...             ...\n",
       "2349  666049248165822465             41             111\n",
       "2350  666044226329800704            147             311\n",
       "2351  666033412701032449             47             128\n",
       "2352  666029285002620928             48             132\n",
       "2353  666020888022790149            532            2535\n",
       "\n",
       "[2354 rows x 3 columns]"
      ]
     },
     "execution_count": 185,
     "metadata": {},
     "output_type": "execute_result"
    }
   ],
   "source": [
    "tweets_info_df"
   ]
  },
  {
   "cell_type": "markdown",
   "metadata": {},
   "source": [
    "**let's assess the dataframes programmatically**\n"
   ]
  },
  {
   "cell_type": "code",
   "execution_count": 186,
   "metadata": {},
   "outputs": [
    {
     "name": "stdout",
     "output_type": "stream",
     "text": [
      "<class 'pandas.core.frame.DataFrame'>\n",
      "RangeIndex: 2356 entries, 0 to 2355\n",
      "Data columns (total 17 columns):\n",
      " #   Column                      Non-Null Count  Dtype  \n",
      "---  ------                      --------------  -----  \n",
      " 0   tweet_id                    2356 non-null   int64  \n",
      " 1   in_reply_to_status_id       78 non-null     float64\n",
      " 2   in_reply_to_user_id         78 non-null     float64\n",
      " 3   timestamp                   2356 non-null   object \n",
      " 4   source                      2356 non-null   object \n",
      " 5   text                        2356 non-null   object \n",
      " 6   retweeted_status_id         181 non-null    float64\n",
      " 7   retweeted_status_user_id    181 non-null    float64\n",
      " 8   retweeted_status_timestamp  181 non-null    object \n",
      " 9   expanded_urls               2297 non-null   object \n",
      " 10  rating_numerator            2356 non-null   int64  \n",
      " 11  rating_denominator          2356 non-null   int64  \n",
      " 12  name                        2356 non-null   object \n",
      " 13  doggo                       2356 non-null   object \n",
      " 14  floofer                     2356 non-null   object \n",
      " 15  pupper                      2356 non-null   object \n",
      " 16  puppo                       2356 non-null   object \n",
      "dtypes: float64(4), int64(3), object(10)\n",
      "memory usage: 313.0+ KB\n"
     ]
    }
   ],
   "source": [
    "tweets_data.info()"
   ]
  },
  {
   "cell_type": "code",
   "execution_count": 187,
   "metadata": {},
   "outputs": [
    {
     "data": {
      "text/html": [
       "<div>\n",
       "<style scoped>\n",
       "    .dataframe tbody tr th:only-of-type {\n",
       "        vertical-align: middle;\n",
       "    }\n",
       "\n",
       "    .dataframe tbody tr th {\n",
       "        vertical-align: top;\n",
       "    }\n",
       "\n",
       "    .dataframe thead th {\n",
       "        text-align: right;\n",
       "    }\n",
       "</style>\n",
       "<table border=\"1\" class=\"dataframe\">\n",
       "  <thead>\n",
       "    <tr style=\"text-align: right;\">\n",
       "      <th></th>\n",
       "      <th>tweet_id</th>\n",
       "      <th>in_reply_to_status_id</th>\n",
       "      <th>in_reply_to_user_id</th>\n",
       "      <th>retweeted_status_id</th>\n",
       "      <th>retweeted_status_user_id</th>\n",
       "      <th>rating_numerator</th>\n",
       "      <th>rating_denominator</th>\n",
       "    </tr>\n",
       "  </thead>\n",
       "  <tbody>\n",
       "    <tr>\n",
       "      <th>count</th>\n",
       "      <td>2.356000e+03</td>\n",
       "      <td>7.800000e+01</td>\n",
       "      <td>7.800000e+01</td>\n",
       "      <td>1.810000e+02</td>\n",
       "      <td>1.810000e+02</td>\n",
       "      <td>2356.000000</td>\n",
       "      <td>2356.000000</td>\n",
       "    </tr>\n",
       "    <tr>\n",
       "      <th>mean</th>\n",
       "      <td>7.427716e+17</td>\n",
       "      <td>7.455079e+17</td>\n",
       "      <td>2.014171e+16</td>\n",
       "      <td>7.720400e+17</td>\n",
       "      <td>1.241698e+16</td>\n",
       "      <td>13.126486</td>\n",
       "      <td>10.455433</td>\n",
       "    </tr>\n",
       "    <tr>\n",
       "      <th>std</th>\n",
       "      <td>6.856705e+16</td>\n",
       "      <td>7.582492e+16</td>\n",
       "      <td>1.252797e+17</td>\n",
       "      <td>6.236928e+16</td>\n",
       "      <td>9.599254e+16</td>\n",
       "      <td>45.876648</td>\n",
       "      <td>6.745237</td>\n",
       "    </tr>\n",
       "    <tr>\n",
       "      <th>min</th>\n",
       "      <td>6.660209e+17</td>\n",
       "      <td>6.658147e+17</td>\n",
       "      <td>1.185634e+07</td>\n",
       "      <td>6.661041e+17</td>\n",
       "      <td>7.832140e+05</td>\n",
       "      <td>0.000000</td>\n",
       "      <td>0.000000</td>\n",
       "    </tr>\n",
       "    <tr>\n",
       "      <th>25%</th>\n",
       "      <td>6.783989e+17</td>\n",
       "      <td>6.757419e+17</td>\n",
       "      <td>3.086374e+08</td>\n",
       "      <td>7.186315e+17</td>\n",
       "      <td>4.196984e+09</td>\n",
       "      <td>10.000000</td>\n",
       "      <td>10.000000</td>\n",
       "    </tr>\n",
       "    <tr>\n",
       "      <th>50%</th>\n",
       "      <td>7.196279e+17</td>\n",
       "      <td>7.038708e+17</td>\n",
       "      <td>4.196984e+09</td>\n",
       "      <td>7.804657e+17</td>\n",
       "      <td>4.196984e+09</td>\n",
       "      <td>11.000000</td>\n",
       "      <td>10.000000</td>\n",
       "    </tr>\n",
       "    <tr>\n",
       "      <th>75%</th>\n",
       "      <td>7.993373e+17</td>\n",
       "      <td>8.257804e+17</td>\n",
       "      <td>4.196984e+09</td>\n",
       "      <td>8.203146e+17</td>\n",
       "      <td>4.196984e+09</td>\n",
       "      <td>12.000000</td>\n",
       "      <td>10.000000</td>\n",
       "    </tr>\n",
       "    <tr>\n",
       "      <th>max</th>\n",
       "      <td>8.924206e+17</td>\n",
       "      <td>8.862664e+17</td>\n",
       "      <td>8.405479e+17</td>\n",
       "      <td>8.874740e+17</td>\n",
       "      <td>7.874618e+17</td>\n",
       "      <td>1776.000000</td>\n",
       "      <td>170.000000</td>\n",
       "    </tr>\n",
       "  </tbody>\n",
       "</table>\n",
       "</div>"
      ],
      "text/plain": [
       "           tweet_id  in_reply_to_status_id  in_reply_to_user_id  \\\n",
       "count  2.356000e+03           7.800000e+01         7.800000e+01   \n",
       "mean   7.427716e+17           7.455079e+17         2.014171e+16   \n",
       "std    6.856705e+16           7.582492e+16         1.252797e+17   \n",
       "min    6.660209e+17           6.658147e+17         1.185634e+07   \n",
       "25%    6.783989e+17           6.757419e+17         3.086374e+08   \n",
       "50%    7.196279e+17           7.038708e+17         4.196984e+09   \n",
       "75%    7.993373e+17           8.257804e+17         4.196984e+09   \n",
       "max    8.924206e+17           8.862664e+17         8.405479e+17   \n",
       "\n",
       "       retweeted_status_id  retweeted_status_user_id  rating_numerator  \\\n",
       "count         1.810000e+02              1.810000e+02       2356.000000   \n",
       "mean          7.720400e+17              1.241698e+16         13.126486   \n",
       "std           6.236928e+16              9.599254e+16         45.876648   \n",
       "min           6.661041e+17              7.832140e+05          0.000000   \n",
       "25%           7.186315e+17              4.196984e+09         10.000000   \n",
       "50%           7.804657e+17              4.196984e+09         11.000000   \n",
       "75%           8.203146e+17              4.196984e+09         12.000000   \n",
       "max           8.874740e+17              7.874618e+17       1776.000000   \n",
       "\n",
       "       rating_denominator  \n",
       "count         2356.000000  \n",
       "mean            10.455433  \n",
       "std              6.745237  \n",
       "min              0.000000  \n",
       "25%             10.000000  \n",
       "50%             10.000000  \n",
       "75%             10.000000  \n",
       "max            170.000000  "
      ]
     },
     "execution_count": 187,
     "metadata": {},
     "output_type": "execute_result"
    }
   ],
   "source": [
    "tweets_data.describe()"
   ]
  },
  {
   "cell_type": "code",
   "execution_count": 188,
   "metadata": {},
   "outputs": [
    {
     "data": {
      "text/plain": [
       "tweet_id                         0\n",
       "in_reply_to_status_id         2278\n",
       "in_reply_to_user_id           2278\n",
       "timestamp                        0\n",
       "source                           0\n",
       "text                             0\n",
       "retweeted_status_id           2175\n",
       "retweeted_status_user_id      2175\n",
       "retweeted_status_timestamp    2175\n",
       "expanded_urls                   59\n",
       "rating_numerator                 0\n",
       "rating_denominator               0\n",
       "name                             0\n",
       "doggo                            0\n",
       "floofer                          0\n",
       "pupper                           0\n",
       "puppo                            0\n",
       "dtype: int64"
      ]
     },
     "execution_count": 188,
     "metadata": {},
     "output_type": "execute_result"
    }
   ],
   "source": [
    "tweets_data.isnull().sum()"
   ]
  },
  {
   "cell_type": "code",
   "execution_count": 189,
   "metadata": {},
   "outputs": [
    {
     "data": {
      "text/plain": [
       "0"
      ]
     },
     "execution_count": 189,
     "metadata": {},
     "output_type": "execute_result"
    }
   ],
   "source": [
    "sum(tweets_data['tweet_id'].duplicated())"
   ]
  },
  {
   "cell_type": "code",
   "execution_count": 190,
   "metadata": {},
   "outputs": [
    {
     "data": {
      "text/plain": [
       "10     2333\n",
       "11        3\n",
       "50        3\n",
       "80        2\n",
       "20        2\n",
       "2         1\n",
       "16        1\n",
       "40        1\n",
       "70        1\n",
       "15        1\n",
       "90        1\n",
       "110       1\n",
       "120       1\n",
       "130       1\n",
       "150       1\n",
       "170       1\n",
       "7         1\n",
       "0         1\n",
       "Name: rating_denominator, dtype: int64"
      ]
     },
     "execution_count": 190,
     "metadata": {},
     "output_type": "execute_result"
    }
   ],
   "source": [
    "tweets_data['rating_denominator'].value_counts()"
   ]
  },
  {
   "cell_type": "code",
   "execution_count": 191,
   "metadata": {},
   "outputs": [
    {
     "data": {
      "text/plain": [
       "12      558\n",
       "11      464\n",
       "10      461\n",
       "13      351\n",
       "9       158\n",
       "8       102\n",
       "7        55\n",
       "14       54\n",
       "5        37\n",
       "6        32\n",
       "3        19\n",
       "4        17\n",
       "1         9\n",
       "2         9\n",
       "420       2\n",
       "0         2\n",
       "15        2\n",
       "75        2\n",
       "80        1\n",
       "20        1\n",
       "24        1\n",
       "26        1\n",
       "44        1\n",
       "50        1\n",
       "60        1\n",
       "165       1\n",
       "84        1\n",
       "88        1\n",
       "144       1\n",
       "182       1\n",
       "143       1\n",
       "666       1\n",
       "960       1\n",
       "1776      1\n",
       "17        1\n",
       "27        1\n",
       "45        1\n",
       "99        1\n",
       "121       1\n",
       "204       1\n",
       "Name: rating_numerator, dtype: int64"
      ]
     },
     "execution_count": 191,
     "metadata": {},
     "output_type": "execute_result"
    }
   ],
   "source": [
    "tweets_data['rating_numerator'].value_counts()"
   ]
  },
  {
   "cell_type": "code",
   "execution_count": 192,
   "metadata": {},
   "outputs": [
    {
     "data": {
      "text/plain": [
       "None       745\n",
       "a           55\n",
       "Charlie     12\n",
       "Oliver      11\n",
       "Lucy        11\n",
       "          ... \n",
       "Bronte       1\n",
       "Julio        1\n",
       "Lulu         1\n",
       "Swagger      1\n",
       "Stefan       1\n",
       "Name: name, Length: 957, dtype: int64"
      ]
     },
     "execution_count": 192,
     "metadata": {},
     "output_type": "execute_result"
    }
   ],
   "source": [
    "tweets_data['name'].value_counts()"
   ]
  },
  {
   "cell_type": "code",
   "execution_count": 193,
   "metadata": {},
   "outputs": [
    {
     "data": {
      "text/plain": [
       "1885    <a href=\"http://twitter.com/download/iphone\" r...\n",
       "1789    <a href=\"http://twitter.com/download/iphone\" r...\n",
       "2274    <a href=\"http://twitter.com\" rel=\"nofollow\">Tw...\n",
       "147     <a href=\"http://twitter.com/download/iphone\" r...\n",
       "36      <a href=\"http://twitter.com/download/iphone\" r...\n",
       "43      <a href=\"http://twitter.com/download/iphone\" r...\n",
       "2042    <a href=\"http://twitter.com/download/iphone\" r...\n",
       "2299    <a href=\"http://twitter.com/download/iphone\" r...\n",
       "690     <a href=\"http://twitter.com/download/iphone\" r...\n",
       "1997    <a href=\"http://twitter.com/download/iphone\" r...\n",
       "Name: source, dtype: object"
      ]
     },
     "execution_count": 193,
     "metadata": {},
     "output_type": "execute_result"
    }
   ],
   "source": [
    "tweets_data['source'].sample(10)"
   ]
  },
  {
   "cell_type": "code",
   "execution_count": 194,
   "metadata": {},
   "outputs": [
    {
     "name": "stdout",
     "output_type": "stream",
     "text": [
      "<class 'pandas.core.frame.DataFrame'>\n",
      "RangeIndex: 2075 entries, 0 to 2074\n",
      "Data columns (total 12 columns):\n",
      " #   Column    Non-Null Count  Dtype  \n",
      "---  ------    --------------  -----  \n",
      " 0   tweet_id  2075 non-null   int64  \n",
      " 1   jpg_url   2075 non-null   object \n",
      " 2   img_num   2075 non-null   int64  \n",
      " 3   p1        2075 non-null   object \n",
      " 4   p1_conf   2075 non-null   float64\n",
      " 5   p1_dog    2075 non-null   bool   \n",
      " 6   p2        2075 non-null   object \n",
      " 7   p2_conf   2075 non-null   float64\n",
      " 8   p2_dog    2075 non-null   bool   \n",
      " 9   p3        2075 non-null   object \n",
      " 10  p3_conf   2075 non-null   float64\n",
      " 11  p3_dog    2075 non-null   bool   \n",
      "dtypes: bool(3), float64(3), int64(2), object(4)\n",
      "memory usage: 152.1+ KB\n"
     ]
    }
   ],
   "source": [
    "image_pred.info()"
   ]
  },
  {
   "cell_type": "code",
   "execution_count": 195,
   "metadata": {},
   "outputs": [
    {
     "data": {
      "text/html": [
       "<div>\n",
       "<style scoped>\n",
       "    .dataframe tbody tr th:only-of-type {\n",
       "        vertical-align: middle;\n",
       "    }\n",
       "\n",
       "    .dataframe tbody tr th {\n",
       "        vertical-align: top;\n",
       "    }\n",
       "\n",
       "    .dataframe thead th {\n",
       "        text-align: right;\n",
       "    }\n",
       "</style>\n",
       "<table border=\"1\" class=\"dataframe\">\n",
       "  <thead>\n",
       "    <tr style=\"text-align: right;\">\n",
       "      <th></th>\n",
       "      <th>tweet_id</th>\n",
       "      <th>img_num</th>\n",
       "      <th>p1_conf</th>\n",
       "      <th>p2_conf</th>\n",
       "      <th>p3_conf</th>\n",
       "    </tr>\n",
       "  </thead>\n",
       "  <tbody>\n",
       "    <tr>\n",
       "      <th>count</th>\n",
       "      <td>2.075000e+03</td>\n",
       "      <td>2075.000000</td>\n",
       "      <td>2075.000000</td>\n",
       "      <td>2.075000e+03</td>\n",
       "      <td>2.075000e+03</td>\n",
       "    </tr>\n",
       "    <tr>\n",
       "      <th>mean</th>\n",
       "      <td>7.384514e+17</td>\n",
       "      <td>1.203855</td>\n",
       "      <td>0.594548</td>\n",
       "      <td>1.345886e-01</td>\n",
       "      <td>6.032417e-02</td>\n",
       "    </tr>\n",
       "    <tr>\n",
       "      <th>std</th>\n",
       "      <td>6.785203e+16</td>\n",
       "      <td>0.561875</td>\n",
       "      <td>0.271174</td>\n",
       "      <td>1.006657e-01</td>\n",
       "      <td>5.090593e-02</td>\n",
       "    </tr>\n",
       "    <tr>\n",
       "      <th>min</th>\n",
       "      <td>6.660209e+17</td>\n",
       "      <td>1.000000</td>\n",
       "      <td>0.044333</td>\n",
       "      <td>1.011300e-08</td>\n",
       "      <td>1.740170e-10</td>\n",
       "    </tr>\n",
       "    <tr>\n",
       "      <th>25%</th>\n",
       "      <td>6.764835e+17</td>\n",
       "      <td>1.000000</td>\n",
       "      <td>0.364412</td>\n",
       "      <td>5.388625e-02</td>\n",
       "      <td>1.622240e-02</td>\n",
       "    </tr>\n",
       "    <tr>\n",
       "      <th>50%</th>\n",
       "      <td>7.119988e+17</td>\n",
       "      <td>1.000000</td>\n",
       "      <td>0.588230</td>\n",
       "      <td>1.181810e-01</td>\n",
       "      <td>4.944380e-02</td>\n",
       "    </tr>\n",
       "    <tr>\n",
       "      <th>75%</th>\n",
       "      <td>7.932034e+17</td>\n",
       "      <td>1.000000</td>\n",
       "      <td>0.843855</td>\n",
       "      <td>1.955655e-01</td>\n",
       "      <td>9.180755e-02</td>\n",
       "    </tr>\n",
       "    <tr>\n",
       "      <th>max</th>\n",
       "      <td>8.924206e+17</td>\n",
       "      <td>4.000000</td>\n",
       "      <td>1.000000</td>\n",
       "      <td>4.880140e-01</td>\n",
       "      <td>2.734190e-01</td>\n",
       "    </tr>\n",
       "  </tbody>\n",
       "</table>\n",
       "</div>"
      ],
      "text/plain": [
       "           tweet_id      img_num      p1_conf       p2_conf       p3_conf\n",
       "count  2.075000e+03  2075.000000  2075.000000  2.075000e+03  2.075000e+03\n",
       "mean   7.384514e+17     1.203855     0.594548  1.345886e-01  6.032417e-02\n",
       "std    6.785203e+16     0.561875     0.271174  1.006657e-01  5.090593e-02\n",
       "min    6.660209e+17     1.000000     0.044333  1.011300e-08  1.740170e-10\n",
       "25%    6.764835e+17     1.000000     0.364412  5.388625e-02  1.622240e-02\n",
       "50%    7.119988e+17     1.000000     0.588230  1.181810e-01  4.944380e-02\n",
       "75%    7.932034e+17     1.000000     0.843855  1.955655e-01  9.180755e-02\n",
       "max    8.924206e+17     4.000000     1.000000  4.880140e-01  2.734190e-01"
      ]
     },
     "execution_count": 195,
     "metadata": {},
     "output_type": "execute_result"
    }
   ],
   "source": [
    "image_pred.describe()"
   ]
  },
  {
   "cell_type": "code",
   "execution_count": 196,
   "metadata": {},
   "outputs": [
    {
     "data": {
      "text/plain": [
       "golden_retriever      150\n",
       "Labrador_retriever    100\n",
       "Pembroke               89\n",
       "Chihuahua              83\n",
       "pug                    57\n",
       "                     ... \n",
       "radio_telescope         1\n",
       "bannister               1\n",
       "damselfly               1\n",
       "crane                   1\n",
       "clog                    1\n",
       "Name: p1, Length: 378, dtype: int64"
      ]
     },
     "execution_count": 196,
     "metadata": {},
     "output_type": "execute_result"
    }
   ],
   "source": [
    "image_pred['p1'].value_counts()"
   ]
  },
  {
   "cell_type": "code",
   "execution_count": 197,
   "metadata": {},
   "outputs": [
    {
     "data": {
      "text/plain": [
       "array(['Welsh_springer_spaniel', 'redbone', 'German_shepherd',\n",
       "       'Rhodesian_ridgeback', 'miniature_pinscher',\n",
       "       'Bernese_mountain_dog', 'box_turtle', 'chow', 'shopping_cart',\n",
       "       'miniature_poodle', 'golden_retriever', 'Gordon_setter',\n",
       "       'Walker_hound', 'pug', 'bloodhound', 'Lhasa', 'English_setter',\n",
       "       'hen', 'desktop_computer', 'Italian_greyhound', 'Maltese_dog',\n",
       "       'three-toed_sloth', 'ox', 'malamute', 'guinea_pig',\n",
       "       'soft-coated_wheaten_terrier', 'Chihuahua',\n",
       "       'black-and-tan_coonhound', 'coho', 'toy_terrier',\n",
       "       'Blenheim_spaniel', 'Pembroke', 'llama',\n",
       "       'Chesapeake_Bay_retriever', 'curly-coated_retriever', 'dalmatian',\n",
       "       'Ibizan_hound', 'Border_collie', 'Labrador_retriever', 'seat_belt',\n",
       "       'snail', 'miniature_schnauzer', 'Airedale', 'triceratops', 'swab',\n",
       "       'hay', 'hyena', 'jigsaw_puzzle', 'West_Highland_white_terrier',\n",
       "       'toy_poodle', 'giant_schnauzer', 'vizsla', 'vacuum', 'Rottweiler',\n",
       "       'Siberian_husky', 'teddy', 'papillon', 'Saint_Bernard',\n",
       "       'porcupine', 'goose', 'Tibetan_terrier', 'borzoi', 'beagle',\n",
       "       'hare', 'Yorkshire_terrier', 'Pomeranian', 'electric_fan',\n",
       "       'web_site', 'ibex', 'kuvasz', 'fire_engine', 'lorikeet',\n",
       "       'flat-coated_retriever', 'toyshop', 'common_iguana',\n",
       "       'Norwegian_elkhound', 'frilled_lizard', 'leatherback_turtle',\n",
       "       'hamster', 'Angora', 'Arctic_fox', 'trombone', 'canoe',\n",
       "       'king_penguin', 'shopping_basket', 'standard_poodle',\n",
       "       'Staffordshire_bullterrier', 'basenji', 'Lakeland_terrier',\n",
       "       'American_Staffordshire_terrier', 'bearskin', 'Shih-Tzu',\n",
       "       'bustard', 'crash_helmet', 'French_bulldog', 'Pekinese',\n",
       "       'komondor', 'ski_mask', 'malinois', 'kelpie', 'Brittany_spaniel',\n",
       "       'cocker_spaniel', 'shower_curtain', 'basset', 'jellyfish',\n",
       "       'doormat', 'Arabian_camel', 'lynx', 'hog', 'comic_book', 'minivan',\n",
       "       'seashore', 'cuirass', 'Brabancon_griffon', 'candle', 'Eskimo_dog',\n",
       "       'weasel', 'Christmas_stocking', 'washbasin', 'car_mirror',\n",
       "       'piggy_bank', 'pot', 'boathouse', 'mud_turtle',\n",
       "       'German_short-haired_pointer', 'Shetland_sheepdog',\n",
       "       'Irish_terrier', 'cairn', 'platypus', 'English_springer',\n",
       "       'whippet', 'ping-pong_ball', 'sea_urchin', 'bow_tie',\n",
       "       'window_shade', \"jack-o'-lantern\", 'sorrel', 'Sussex_spaniel',\n",
       "       'peacock', 'axolotl', 'wool', 'banana', 'Dandie_Dinmont',\n",
       "       'Norwich_terrier', 'wood_rabbit', 'dhole', 'keeshond',\n",
       "       'Norfolk_terrier', 'lacewing', 'dingo', 'brown_bear',\n",
       "       'Old_English_sheepdog', 'scorpion', 'flamingo', 'microphone',\n",
       "       'Samoyed', 'pitcher', 'African_hunting_dog', 'refrigerator',\n",
       "       'picket_fence', 'tub', 'zebra', 'hermit_crab', 'swing', 'Doberman',\n",
       "       'park_bench', 'feather_boa', 'Loafer', 'stone_wall', 'ice_bear',\n",
       "       'prayer_rug', 'chimpanzee', 'china_cabinet', 'bee_eater',\n",
       "       'tennis_ball', 'carton', 'killer_whale', 'ostrich', 'terrapin',\n",
       "       'Siamese_cat', 'gondola', 'Great_Pyrenees', 'microwave',\n",
       "       'starfish', 'sandbar', 'tusker', 'motor_scooter', 'ram',\n",
       "       'leaf_beetle', 'wombat', 'schipperke', 'Newfoundland',\n",
       "       'bull_mastiff', 'water_bottle', 'suit', 'toilet_seat', 'collie',\n",
       "       'robin', 'Cardigan', 'Greater_Swiss_Mountain_dog', 'slug',\n",
       "       'toilet_tissue', 'acorn_squash', 'soccer_ball',\n",
       "       'African_crocodile', 'tick', 'ocarina', 'boxer', 'street_sign',\n",
       "       'bow', 'stove', 'paper_towel', 'upright', 'dough',\n",
       "       'Scottish_deerhound', 'bath_towel', 'standard_schnauzer',\n",
       "       'walking_stick', 'Irish_water_spaniel', 'bubble', 'Boston_bull',\n",
       "       'book_jacket', 'rain_barrel', 'black-footed_ferret', 'guenon',\n",
       "       'Japanese_spaniel', 'water_buffalo', 'patio', 'cowboy_hat',\n",
       "       'dogsled', 'maze', 'harp', 'panpipe', 'cash_machine', 'mailbox',\n",
       "       'wallaby', 'EntleBucher', 'earthstar', 'pillow', 'bluetick',\n",
       "       'space_heater', 'carousel', 'Irish_setter', 'birdhouse', 'snorkel',\n",
       "       'bald_eagle', 'koala', 'Leonberg', 'cheetah', 'minibus',\n",
       "       'Weimaraner', 'clog', 'dishwasher', 'white_wolf', 'sliding_door',\n",
       "       'damselfly', 'Great_Dane', 'Tibetan_mastiff', 'cheeseburger',\n",
       "       'fiddler_crab', 'bannister', 'crane', 'Scotch_terrier',\n",
       "       'snowmobile', 'badger', 'bighorn', 'geyser', 'barrow', 'bison',\n",
       "       'Mexican_hairless', 'ice_lolly', 'sea_lion', 'dining_table',\n",
       "       'groenendael', 'Australian_terrier', 'beaver', 'briard',\n",
       "       'Appenzeller', 'grey_fox', 'mousetrap', 'hippopotamus',\n",
       "       'Border_terrier', 'hummingbird', 'tailed_frog', 'otter',\n",
       "       'Egyptian_cat', 'four-poster', 'wild_boar', 'bathtub', 'agama',\n",
       "       'muzzle', 'hotdog', 'bib', 'espresso', 'timber_wolf', 'meerkat',\n",
       "       'nail', 'hammer', 'home_theater', 'alp', 'bonnet', 'handkerchief',\n",
       "       'hand_blower', 'polecat', 'lakeside', 'studio_couch', 'cup',\n",
       "       'cliff', 'Bedlington_terrier', 'lawn_mower', 'balloon',\n",
       "       'sunglasses', 'rapeseed', 'traffic_light', 'coil', 'binoculars',\n",
       "       'paddle', 'tiger_shark', 'sulphur-crested_cockatoo',\n",
       "       'wire-haired_fox_terrier', 'Saluki', 'American_black_bear',\n",
       "       'rotisserie', 'conch', 'skunk', 'bookshop', 'radio_telescope',\n",
       "       'cougar', 'African_grey', 'coral_reef', 'lion', 'maillot',\n",
       "       'Madagascar_cat', 'tabby', 'silky_terrier', 'giant_panda',\n",
       "       'long-horned_beetle', 'Afghan_hound', 'clumber', 'sundial',\n",
       "       'padlock', 'pool_table', 'quilt', 'beach_wagon', 'remote_control',\n",
       "       'bakery', 'pedestal', 'gas_pump', 'bookcase', 'shield', 'loupe',\n",
       "       'restaurant', 'prison', 'school_bus', 'cowboy_boot', 'jersey',\n",
       "       'wooden_spoon', 'leopard', 'mortarboard', 'teapot',\n",
       "       'military_uniform', 'washer', 'coffee_mug', 'fountain',\n",
       "       'pencil_box', 'barbell', 'grille', 'revolver', 'envelope',\n",
       "       'syringe', 'marmot', 'pole', 'laptop', 'basketball', 'tricycle',\n",
       "       'convertible', 'limousine', 'orange'], dtype=object)"
      ]
     },
     "execution_count": 197,
     "metadata": {},
     "output_type": "execute_result"
    }
   ],
   "source": [
    "image_pred['p1'].unique()"
   ]
  },
  {
   "cell_type": "code",
   "execution_count": 198,
   "metadata": {},
   "outputs": [
    {
     "data": {
      "text/plain": [
       "array(['collie', 'miniature_pinscher', 'malinois', 'redbone',\n",
       "       'Rottweiler', 'English_springer', 'mud_turtle', 'Tibetan_mastiff',\n",
       "       'shopping_basket', 'komondor', 'Yorkshire_terrier',\n",
       "       'English_foxhound', 'bull_mastiff', 'German_shepherd', 'Shih-Tzu',\n",
       "       'Newfoundland', 'cock', 'desk', 'toy_terrier', 'toy_poodle',\n",
       "       'otter', 'Chesapeake_Bay_retriever', 'Siberian_husky', 'skunk',\n",
       "       'Afghan_hound', 'bloodhound', 'barracouta', 'papillon',\n",
       "       'cocker_spaniel', 'chow', 'Irish_terrier', 'chain_saw', 'beagle',\n",
       "       'giant_schnauzer', 'Labrador_retriever', 'Pembroke', 'Chihuahua',\n",
       "       'Weimaraner', 'slug', 'Brittany_spaniel', 'standard_schnauzer',\n",
       "       'teddy', 'armadillo', 'African_hunting_dog', 'vizsla', 'doormat',\n",
       "       'pug', 'Italian_greyhound', 'Samoyed', 'Pomeranian',\n",
       "       'miniature_poodle', 'Lakeland_terrier', 'Irish_setter', 'swab',\n",
       "       'malamute', 'bath_towel', 'Border_collie', 'Leonberg', 'drake',\n",
       "       'French_bulldog', 'ice_bear', 'Christmas_stocking',\n",
       "       'golden_retriever', 'standard_poodle', 'dhole', 'kuvasz',\n",
       "       'Cardigan', 'silky_terrier', 'spotlight', 'dishwasher', 'bighorn',\n",
       "       'tow_truck', 'hummingbird', 'English_setter', 'prayer_rug',\n",
       "       'frilled_lizard', 'Pekinese', 'ox', 'boxer', 'hog', 'guinea_pig',\n",
       "       'hen', 'wallaby', 'cowboy_boot', 'cornet', 'minivan', 'paddle',\n",
       "       'basset', 'hamper', 'Bedlington_terrier', 'Shetland_sheepdog',\n",
       "       'bow', 'Lhasa', 'pelican', 'toaster', 'groenendael',\n",
       "       'Australian_terrier', 'llama', 'knee_pad', 'pillow',\n",
       "       'Ibizan_hound', 'Old_English_sheepdog', 'Welsh_springer_spaniel',\n",
       "       'coral_reef', 'bison', 'waffle_iron', 'tabby', 'bib', 'police_van',\n",
       "       'Eskimo_dog', 'breastplate', 'German_short-haired_pointer',\n",
       "       'Norfolk_terrier', 'Blenheim_spaniel', 'pickup',\n",
       "       'miniature_schnauzer', 'lampshade', 'Tibetan_terrier',\n",
       "       'Siamese_cat', 'borzoi', 'studio_couch', 'toilet_seat', 'hamster',\n",
       "       'seat_belt', 'keeshond', 'koala', 'hair_spray', 'Saint_Bernard',\n",
       "       'tray', 'American_Staffordshire_terrier', 'birdhouse', 'terrapin',\n",
       "       'Staffordshire_bullterrier', 'briard',\n",
       "       'West_Highland_white_terrier', 'spotted_salamander', 'tennis_ball',\n",
       "       'porcupine', 'cardigan', 'corn', 'basenji', 'otterhound',\n",
       "       'European_gallinule', 'indri', 'tailed_frog', 'beach_wagon',\n",
       "       'siamang', 'orange', 'home_theater', 'cairn', 'hare',\n",
       "       'Norwegian_elkhound', 'Brabancon_griffon', 'American_black_bear',\n",
       "       'sulphur_butterfly', 'Sealyham_terrier', 'Walker_hound',\n",
       "       'tarantula', 'Persian_cat', 'coral_fungus', 'accordion', 'kelpie',\n",
       "       'Great_Pyrenees', 'wood_rabbit', 'black-and-tan_coonhound',\n",
       "       'sunglasses', 'plow', 'whippet', 'rain_barrel', 'bathtub', 'tiger',\n",
       "       'snail', 'tick', 'wire-haired_fox_terrier', 'water_bottle', 'wig',\n",
       "       'platypus', 'Irish_wolfhound', 'ram', 'gorilla',\n",
       "       'entertainment_center', 'toucan', 'mask', 'shopping_cart',\n",
       "       'Sussex_spaniel', 'crate', 'grey_whale', 'badger', 'Airedale',\n",
       "       'Arabian_camel', 'cockroach', 'lifeboat', 'rotisserie', 'goldfish',\n",
       "       'stingray', 'warthog', 'bobsled', 'rhinoceros_beetle', 'beaver',\n",
       "       'brown_bear', 'Maltese_dog', 'weasel', 'quill',\n",
       "       'Rhodesian_ridgeback', 'Arctic_fox', 'ashcan', 'bow_tie',\n",
       "       'soft-coated_wheaten_terrier', 'schipperke', 'bearskin',\n",
       "       'Kerry_blue_terrier', 'ice_lolly', 'American_alligator',\n",
       "       'mosquito_net', 'sea_lion', 'Boston_bull', 'nail',\n",
       "       'black-footed_ferret', 'promontory', 'sarong', 'Doberman',\n",
       "       'space_heater', 'Great_Dane', 'mailbox', 'Saluki', 'bakery',\n",
       "       'sandal', 'leafhopper', 'barrel', 'water_buffalo', 'polecat',\n",
       "       'macaque', 'Japanese_spaniel', 'folding_chair', 'trench_coat',\n",
       "       'Angora', 'junco', 'crib', 'dalmatian', 'snowmobile',\n",
       "       'flat-coated_retriever', 'streetcar', 'window_screen', 'bannister',\n",
       "       'hair_slide', 'meerkat', 'cannon', 'jaguar', 'Border_terrier',\n",
       "       'Greater_Swiss_Mountain_dog', 'hay', 'apron', 'cloak', 'radiator',\n",
       "       'muzzle', 'feather_boa', 'rifle', 'chimpanzee', 'loggerhead',\n",
       "       'torch', 'Mexican_hairless', 'spindle', 'triceratops',\n",
       "       'Appenzeller', 'stove', 'dingo', 'oscilloscope', 'common_newt',\n",
       "       'hotdog', 'medicine_chest', 'quail', 'horse_cart', 'four-poster',\n",
       "       'pier', 'red_fox', 'affenpinscher', 'assault_rifle',\n",
       "       'mashed_potato', 'moped', 'hyena', 'seashore', 'tub', 'sports_car',\n",
       "       'swing', 'mink', 'bluetick', 'neck_brace', 'grey_fox', 'mongoose',\n",
       "       'fur_coat', 'Scotch_terrier', 'spatula', 'paper_towel', 'shoji',\n",
       "       'toyshop', 'banded_gecko', 'peacock', 'crossword_puzzle',\n",
       "       'tree_frog', 'wombat', 'turnstile', 'sleeping_bag', 'quilt',\n",
       "       'Gila_monster', 'giant_panda', 'Dandie_Dinmont', 'handkerchief',\n",
       "       'sombrero', 'Indian_elephant', 'coffee_mug', 'gibbon', 'carton',\n",
       "       'screw', 'minibus', 'hatchet', 'window_shade', 'lawn_mower',\n",
       "       'washbasin', 'sock', 'prison', 'patio', 'china_cabinet',\n",
       "       'chain_mail', 'breakwater', 'computer_keyboard', 'goose',\n",
       "       'lakeside', 'solar_dish', 'table_lamp', 'Windsor_tie',\n",
       "       'punching_bag', 'comic_book', 'sunglass', 'great_white_shark',\n",
       "       'timber_wolf', 'fountain', 'dugong', 'marmot', 'barbershop',\n",
       "       'shovel', 'curly-coated_retriever', 'lesser_panda', 'monitor',\n",
       "       'crutch', 'cash_machine', 'printer', 'volcano', 'wallet', 'laptop',\n",
       "       'bathing_cap', 'confectionery', 'dam', 'killer_whale', 'canoe',\n",
       "       'Madagascar_cat', 'jean', 'boathouse', 'cliff', 'maillot', 'iPod',\n",
       "       'hand-held_computer', 'black_widow', 'Norwich_terrier', 'necklace',\n",
       "       'dining_table', 'binoculars', 'cradle', 'sea_urchin', 'cougar',\n",
       "       'EntleBucher', 'basketball', 'lighter', 'saltshaker', 'harvester',\n",
       "       'television', 'envelope', 'house_finch', 'web_site', 'palace',\n",
       "       'shower_curtain', 'cab', 'snorkel', 'jigsaw_puzzle', 'sweatshirt',\n",
       "       'white_wolf', 'sliding_door', 'academic_gown', 'cowboy_hat',\n",
       "       'can_opener', 'cup', 'rule', 'soccer_ball', 'bucket', 'racket',\n",
       "       'menu', 'purse', 'Bernese_mountain_dog', 'dumbbell', 'projectile',\n",
       "       'dock', 'oxygen_mask', 'sandbar', 'umbrella', 'shower_cap',\n",
       "       'bagel'], dtype=object)"
      ]
     },
     "execution_count": 198,
     "metadata": {},
     "output_type": "execute_result"
    }
   ],
   "source": [
    "image_pred['p2'].unique()"
   ]
  },
  {
   "cell_type": "code",
   "execution_count": 199,
   "metadata": {},
   "outputs": [
    {
     "name": "stdout",
     "output_type": "stream",
     "text": [
      "<class 'pandas.core.frame.DataFrame'>\n",
      "RangeIndex: 2354 entries, 0 to 2353\n",
      "Data columns (total 3 columns):\n",
      " #   Column          Non-Null Count  Dtype\n",
      "---  ------          --------------  -----\n",
      " 0   tweet_id        2354 non-null   int64\n",
      " 1   retweet_count   2354 non-null   int64\n",
      " 2   favorite_count  2354 non-null   int64\n",
      "dtypes: int64(3)\n",
      "memory usage: 55.3 KB\n"
     ]
    }
   ],
   "source": [
    "tweets_info_df.info()"
   ]
  },
  {
   "cell_type": "code",
   "execution_count": 200,
   "metadata": {},
   "outputs": [
    {
     "data": {
      "text/html": [
       "<div>\n",
       "<style scoped>\n",
       "    .dataframe tbody tr th:only-of-type {\n",
       "        vertical-align: middle;\n",
       "    }\n",
       "\n",
       "    .dataframe tbody tr th {\n",
       "        vertical-align: top;\n",
       "    }\n",
       "\n",
       "    .dataframe thead th {\n",
       "        text-align: right;\n",
       "    }\n",
       "</style>\n",
       "<table border=\"1\" class=\"dataframe\">\n",
       "  <thead>\n",
       "    <tr style=\"text-align: right;\">\n",
       "      <th></th>\n",
       "      <th>tweet_id</th>\n",
       "      <th>retweet_count</th>\n",
       "      <th>favorite_count</th>\n",
       "    </tr>\n",
       "  </thead>\n",
       "  <tbody>\n",
       "    <tr>\n",
       "      <th>count</th>\n",
       "      <td>2.354000e+03</td>\n",
       "      <td>2354.000000</td>\n",
       "      <td>2354.000000</td>\n",
       "    </tr>\n",
       "    <tr>\n",
       "      <th>mean</th>\n",
       "      <td>7.426978e+17</td>\n",
       "      <td>3164.797366</td>\n",
       "      <td>8080.968564</td>\n",
       "    </tr>\n",
       "    <tr>\n",
       "      <th>std</th>\n",
       "      <td>6.852812e+16</td>\n",
       "      <td>5284.770364</td>\n",
       "      <td>11814.771334</td>\n",
       "    </tr>\n",
       "    <tr>\n",
       "      <th>min</th>\n",
       "      <td>6.660209e+17</td>\n",
       "      <td>0.000000</td>\n",
       "      <td>0.000000</td>\n",
       "    </tr>\n",
       "    <tr>\n",
       "      <th>25%</th>\n",
       "      <td>6.783975e+17</td>\n",
       "      <td>624.500000</td>\n",
       "      <td>1415.000000</td>\n",
       "    </tr>\n",
       "    <tr>\n",
       "      <th>50%</th>\n",
       "      <td>7.194596e+17</td>\n",
       "      <td>1473.500000</td>\n",
       "      <td>3603.500000</td>\n",
       "    </tr>\n",
       "    <tr>\n",
       "      <th>75%</th>\n",
       "      <td>7.993058e+17</td>\n",
       "      <td>3652.000000</td>\n",
       "      <td>10122.250000</td>\n",
       "    </tr>\n",
       "    <tr>\n",
       "      <th>max</th>\n",
       "      <td>8.924206e+17</td>\n",
       "      <td>79515.000000</td>\n",
       "      <td>132810.000000</td>\n",
       "    </tr>\n",
       "  </tbody>\n",
       "</table>\n",
       "</div>"
      ],
      "text/plain": [
       "           tweet_id  retweet_count  favorite_count\n",
       "count  2.354000e+03    2354.000000     2354.000000\n",
       "mean   7.426978e+17    3164.797366     8080.968564\n",
       "std    6.852812e+16    5284.770364    11814.771334\n",
       "min    6.660209e+17       0.000000        0.000000\n",
       "25%    6.783975e+17     624.500000     1415.000000\n",
       "50%    7.194596e+17    1473.500000     3603.500000\n",
       "75%    7.993058e+17    3652.000000    10122.250000\n",
       "max    8.924206e+17   79515.000000   132810.000000"
      ]
     },
     "execution_count": 200,
     "metadata": {},
     "output_type": "execute_result"
    }
   ],
   "source": [
    "tweets_info_df.describe()"
   ]
  },
  {
   "cell_type": "markdown",
   "metadata": {},
   "source": [
    " we will start with **tweets_data** dataframe for specifying quality & tidiness issues , after looking visually in both pandas & spreadsheet (excel) \n",
    "I found the following : "
   ]
  },
  {
   "cell_type": "markdown",
   "metadata": {},
   "source": [
    "### Tidiness\n",
    "\n",
    "• the most obvious one here is dog stages which are separated into four columns whcih should be under one column , every dog stage with its value.\n",
    "\n",
    "• join all dataframes under one dataframe instead of having having three dataframes"
   ]
  },
  {
   "cell_type": "markdown",
   "metadata": {},
   "source": [
    "### Quality \n",
    "\n",
    "for the quality issues as you can see here there are many which we found them using different pandas functions as well as using the spreadsheet so let's highligh them:\n",
    "\n",
    "**tweets_data :**\n",
    "\n",
    "• timestamp dtype here is incorrect.\n",
    "\n",
    "• tweet_id is int should be string as no mathematical calculations will be made with it.\n",
    "\n",
    "• Columns like (\"in_reply_to_status_id\",\"in_reply_to_user_id\",\"retweeted_status_id\",\"retweeted_status_user_id\" and \"retweeted_status_timestamp\") as we have been advised to not consider retweets nor replies we will drop it's columns & rows.\n",
    "\n",
    "• some dogs name are incorrect like (a,an,this and the) I found out that by scrolling in Excel using (filter) as it's hard to see them all here in jupyter notebook.\n",
    "\n",
    "• expanded_urls has missing values.\n",
    "\n",
    "• rating_numerator has some wrong values like min value (zero) and max value (1776).\n",
    "\n",
    "• rating_denominator has some wrong values like min (zero) and max value (170).\n",
    "\n",
    "• source column has the opening & closing HTML tags which make it hard to read.\n",
    "\n",
    "• Dogs stages has to many none values \n",
    "\n",
    "\n",
    "**image_pred** : \n",
    "\n",
    "• Dog breed's names some are capitalized some are lower cases - inconsistency \n",
    "\n"
   ]
  },
  {
   "cell_type": "markdown",
   "metadata": {},
   "source": [
    "# Cleaning "
   ]
  },
  {
   "cell_type": "code",
   "execution_count": 201,
   "metadata": {},
   "outputs": [],
   "source": [
    "tweets_data_clean = tweets_data.copy()\n",
    "image_pred_clean = image_pred.copy()"
   ]
  },
  {
   "cell_type": "markdown",
   "metadata": {},
   "source": [
    "###### Incorrect dtype"
   ]
  },
  {
   "cell_type": "markdown",
   "metadata": {},
   "source": [
    "**Define**"
   ]
  },
  {
   "cell_type": "markdown",
   "metadata": {},
   "source": [
    "Convert **timestamp** data type to datetime data type & **tweet_id** into string in each dataframe we have"
   ]
  },
  {
   "cell_type": "markdown",
   "metadata": {},
   "source": [
    "**Code**"
   ]
  },
  {
   "cell_type": "code",
   "execution_count": 202,
   "metadata": {},
   "outputs": [],
   "source": [
    "tweets_data_clean['timestamp'] = pd.to_datetime(tweets_data_clean['timestamp'])\n",
    "tweets_data_clean['timestamp'] = tweets_data_clean['timestamp'].dt.floor('S') \n",
    "\n",
    "# here in order to get timestamp I used dt.floor('S') from this pandas documentation\n",
    "##(https://pandas.pydata.org/pandas-docs/stable/reference/api/pandas.Series.dt.floor.html)"
   ]
  },
  {
   "cell_type": "code",
   "execution_count": 203,
   "metadata": {},
   "outputs": [],
   "source": [
    "tweets_data_clean['tweet_id'] = tweets_data_clean['tweet_id'].astype(str)"
   ]
  },
  {
   "cell_type": "code",
   "execution_count": 204,
   "metadata": {},
   "outputs": [],
   "source": [
    "image_pred_clean['tweet_id'] = image_pred_clean['tweet_id'].astype(str)"
   ]
  },
  {
   "cell_type": "code",
   "execution_count": 205,
   "metadata": {},
   "outputs": [],
   "source": [
    "tweets_info_df['tweet_id'] = tweets_info_df['tweet_id'].astype(str) "
   ]
  },
  {
   "cell_type": "markdown",
   "metadata": {},
   "source": [
    "**Test**"
   ]
  },
  {
   "cell_type": "code",
   "execution_count": 206,
   "metadata": {},
   "outputs": [
    {
     "name": "stdout",
     "output_type": "stream",
     "text": [
      "<class 'pandas.core.frame.DataFrame'>\n",
      "RangeIndex: 2356 entries, 0 to 2355\n",
      "Data columns (total 17 columns):\n",
      " #   Column                      Non-Null Count  Dtype              \n",
      "---  ------                      --------------  -----              \n",
      " 0   tweet_id                    2356 non-null   object             \n",
      " 1   in_reply_to_status_id       78 non-null     float64            \n",
      " 2   in_reply_to_user_id         78 non-null     float64            \n",
      " 3   timestamp                   2356 non-null   datetime64[ns, UTC]\n",
      " 4   source                      2356 non-null   object             \n",
      " 5   text                        2356 non-null   object             \n",
      " 6   retweeted_status_id         181 non-null    float64            \n",
      " 7   retweeted_status_user_id    181 non-null    float64            \n",
      " 8   retweeted_status_timestamp  181 non-null    object             \n",
      " 9   expanded_urls               2297 non-null   object             \n",
      " 10  rating_numerator            2356 non-null   int64              \n",
      " 11  rating_denominator          2356 non-null   int64              \n",
      " 12  name                        2356 non-null   object             \n",
      " 13  doggo                       2356 non-null   object             \n",
      " 14  floofer                     2356 non-null   object             \n",
      " 15  pupper                      2356 non-null   object             \n",
      " 16  puppo                       2356 non-null   object             \n",
      "dtypes: datetime64[ns, UTC](1), float64(4), int64(2), object(10)\n",
      "memory usage: 313.0+ KB\n"
     ]
    }
   ],
   "source": [
    "tweets_data_clean.info()"
   ]
  },
  {
   "cell_type": "code",
   "execution_count": 207,
   "metadata": {},
   "outputs": [
    {
     "name": "stdout",
     "output_type": "stream",
     "text": [
      "<class 'pandas.core.frame.DataFrame'>\n",
      "RangeIndex: 2075 entries, 0 to 2074\n",
      "Data columns (total 12 columns):\n",
      " #   Column    Non-Null Count  Dtype  \n",
      "---  ------    --------------  -----  \n",
      " 0   tweet_id  2075 non-null   object \n",
      " 1   jpg_url   2075 non-null   object \n",
      " 2   img_num   2075 non-null   int64  \n",
      " 3   p1        2075 non-null   object \n",
      " 4   p1_conf   2075 non-null   float64\n",
      " 5   p1_dog    2075 non-null   bool   \n",
      " 6   p2        2075 non-null   object \n",
      " 7   p2_conf   2075 non-null   float64\n",
      " 8   p2_dog    2075 non-null   bool   \n",
      " 9   p3        2075 non-null   object \n",
      " 10  p3_conf   2075 non-null   float64\n",
      " 11  p3_dog    2075 non-null   bool   \n",
      "dtypes: bool(3), float64(3), int64(1), object(5)\n",
      "memory usage: 152.1+ KB\n"
     ]
    }
   ],
   "source": [
    "image_pred_clean.info()"
   ]
  },
  {
   "cell_type": "code",
   "execution_count": 208,
   "metadata": {},
   "outputs": [
    {
     "name": "stdout",
     "output_type": "stream",
     "text": [
      "<class 'pandas.core.frame.DataFrame'>\n",
      "RangeIndex: 2354 entries, 0 to 2353\n",
      "Data columns (total 3 columns):\n",
      " #   Column          Non-Null Count  Dtype \n",
      "---  ------          --------------  ----- \n",
      " 0   tweet_id        2354 non-null   object\n",
      " 1   retweet_count   2354 non-null   int64 \n",
      " 2   favorite_count  2354 non-null   int64 \n",
      "dtypes: int64(2), object(1)\n",
      "memory usage: 55.3+ KB\n"
     ]
    }
   ],
   "source": [
    "tweets_info_df.info()"
   ]
  },
  {
   "cell_type": "markdown",
   "metadata": {},
   "source": [
    "###### Extra data related to retweets and replies"
   ]
  },
  {
   "cell_type": "markdown",
   "metadata": {},
   "source": [
    "**Define**"
   ]
  },
  {
   "cell_type": "markdown",
   "metadata": {},
   "source": [
    "drop all columns that related to retweet & replies , here we have two quality issues to handle the first one is with rows and the second is with columns. "
   ]
  },
  {
   "cell_type": "markdown",
   "metadata": {},
   "source": [
    "after checking the tweets_data we found that wherever we have a retweet or reply the related columns will not be null , unlike the original tweets which have null values for the related columns."
   ]
  },
  {
   "cell_type": "code",
   "execution_count": 209,
   "metadata": {},
   "outputs": [
    {
     "name": "stdout",
     "output_type": "stream",
     "text": [
      "78\n",
      "True\n"
     ]
    }
   ],
   "source": [
    "# let's see how many replies we have in our tweets_data , to do so we need to use pandas isnull & notnull methods \n",
    "print(tweets_data_clean['in_reply_to_status_id'].notna().sum())\n",
    "print(tweets_data_clean['in_reply_to_status_id'].notna().sum() == tweets_data_clean['in_reply_to_user_id'].notna().sum())"
   ]
  },
  {
   "cell_type": "code",
   "execution_count": 210,
   "metadata": {},
   "outputs": [
    {
     "name": "stdout",
     "output_type": "stream",
     "text": [
      "181\n",
      "True\n"
     ]
    }
   ],
   "source": [
    "# let's see how many retweets we have in our tweets_data \n",
    "print(tweets_data_clean['retweeted_status_id'].notna().sum())\n",
    "print(tweets_data_clean['retweeted_status_id'].notna().sum() == tweets_data_clean['retweeted_status_user_id'].notna().sum())"
   ]
  },
  {
   "cell_type": "markdown",
   "metadata": {},
   "source": [
    "**Code**"
   ]
  },
  {
   "cell_type": "code",
   "execution_count": 211,
   "metadata": {},
   "outputs": [],
   "source": [
    "tweets_data_clean = tweets_data_clean[tweets_data_clean['in_reply_to_status_id'].isna()]"
   ]
  },
  {
   "cell_type": "code",
   "execution_count": 212,
   "metadata": {},
   "outputs": [],
   "source": [
    "tweets_data_clean = tweets_data_clean[tweets_data_clean['retweeted_status_id'].isna()]"
   ]
  },
  {
   "cell_type": "markdown",
   "metadata": {},
   "source": [
    "**Test**"
   ]
  },
  {
   "cell_type": "code",
   "execution_count": 213,
   "metadata": {},
   "outputs": [
    {
     "name": "stdout",
     "output_type": "stream",
     "text": [
      "(2097, 17)\n",
      "0\n",
      "0\n"
     ]
    }
   ],
   "source": [
    "print(tweets_data_clean.shape)\n",
    "print(tweets_data_clean['retweeted_status_id'].notna().sum())\n",
    "print(tweets_data_clean['in_reply_to_status_id'].notna().sum())"
   ]
  },
  {
   "cell_type": "markdown",
   "metadata": {},
   "source": [
    "**Code**"
   ]
  },
  {
   "cell_type": "code",
   "execution_count": 214,
   "metadata": {},
   "outputs": [],
   "source": [
    "tweets_data_clean = tweets_data_clean.drop(['in_reply_to_status_id','in_reply_to_user_id','retweeted_status_id','retweeted_status_user_id',\n",
    "                            'retweeted_status_timestamp'], axis = 1)"
   ]
  },
  {
   "cell_type": "markdown",
   "metadata": {},
   "source": [
    "**Test**"
   ]
  },
  {
   "cell_type": "code",
   "execution_count": 215,
   "metadata": {},
   "outputs": [
    {
     "name": "stdout",
     "output_type": "stream",
     "text": [
      "Index(['tweet_id', 'timestamp', 'source', 'text', 'expanded_urls',\n",
      "       'rating_numerator', 'rating_denominator', 'name', 'doggo', 'floofer',\n",
      "       'pupper', 'puppo'],\n",
      "      dtype='object')\n",
      "12\n"
     ]
    }
   ],
   "source": [
    "print(tweets_data_clean.columns)\n",
    "print(len(tweets_data_clean.columns))"
   ]
  },
  {
   "cell_type": "markdown",
   "metadata": {},
   "source": [
    "###### Incorrect dog names "
   ]
  },
  {
   "cell_type": "markdown",
   "metadata": {},
   "source": [
    "**Define** "
   ]
  },
  {
   "cell_type": "markdown",
   "metadata": {},
   "source": [
    "Correct the dog names by using replace method with Regex."
   ]
  },
  {
   "cell_type": "markdown",
   "metadata": {},
   "source": [
    "**Code**"
   ]
  },
  {
   "cell_type": "code",
   "execution_count": 216,
   "metadata": {},
   "outputs": [
    {
     "data": {
      "text/plain": [
       "False    1993\n",
       "True      104\n",
       "Name: name, dtype: int64"
      ]
     },
     "execution_count": 216,
     "metadata": {},
     "output_type": "execute_result"
    }
   ],
   "source": [
    "# here we can see that there are 104 lowercase and 1993 Uppercase.\n",
    "tweets_data_clean['name'].str.islower().value_counts() "
   ]
  },
  {
   "cell_type": "markdown",
   "metadata": {},
   "source": [
    "From the two cells below we can see that the lowercases were almost wrong data due to whatever reason , so will replace their values with None."
   ]
  },
  {
   "cell_type": "code",
   "execution_count": 217,
   "metadata": {},
   "outputs": [
    {
     "data": {
      "text/plain": [
       "array(['such', 'a', 'quite', 'not', 'one', 'incredibly', 'very', 'my',\n",
       "       'his', 'an', 'actually', 'just', 'getting', 'mad', 'this',\n",
       "       'unacceptable', 'all', 'old', 'infuriating', 'the', 'by',\n",
       "       'officially', 'life', 'light', 'space'], dtype=object)"
      ]
     },
     "execution_count": 217,
     "metadata": {},
     "output_type": "execute_result"
    }
   ],
   "source": [
    "# we will use str.contains method to check for the values of both lowercase & uppercase using regex , to see what values\n",
    "# \\ do they have\n",
    "tweets_data_clean[tweets_data_clean['name'].str.contains('^[a-z]')== True]['name'].unique()"
   ]
  },
  {
   "cell_type": "code",
   "execution_count": 218,
   "metadata": {},
   "outputs": [
    {
     "data": {
      "text/plain": [
       "1963         None\n",
       "1440         None\n",
       "2223         None\n",
       "2108         None\n",
       "828         Kirby\n",
       "1365         Lucy\n",
       "616          None\n",
       "1287       Oliver\n",
       "918          Gert\n",
       "864         Buddy\n",
       "2046    Alejandro\n",
       "1009         None\n",
       "2056         None\n",
       "2295         Gabe\n",
       "226          None\n",
       "1142         None\n",
       "1745         None\n",
       "1957        Sandy\n",
       "256          None\n",
       "216          Kyle\n",
       "Name: name, dtype: object"
      ]
     },
     "execution_count": 218,
     "metadata": {},
     "output_type": "execute_result"
    }
   ],
   "source": [
    "tweets_data_clean[tweets_data_clean['name'].str.contains('^[A-Z]')== True]['name'].sample(20)"
   ]
  },
  {
   "cell_type": "code",
   "execution_count": 219,
   "metadata": {},
   "outputs": [],
   "source": [
    "tweets_data_clean['name'] = tweets_data_clean['name'].str.replace('^[a-z]' , 'None')"
   ]
  },
  {
   "cell_type": "markdown",
   "metadata": {},
   "source": [
    "**Test**"
   ]
  },
  {
   "cell_type": "code",
   "execution_count": 220,
   "metadata": {},
   "outputs": [
    {
     "data": {
      "text/plain": [
       "0"
      ]
     },
     "execution_count": 220,
     "metadata": {},
     "output_type": "execute_result"
    }
   ],
   "source": [
    "len(tweets_data_clean[tweets_data_clean['name'] == '^[a-z]']) "
   ]
  },
  {
   "cell_type": "markdown",
   "metadata": {},
   "source": [
    "###### expanded_urls has missing values"
   ]
  },
  {
   "cell_type": "code",
   "execution_count": 221,
   "metadata": {},
   "outputs": [
    {
     "data": {
      "text/plain": [
       "3"
      ]
     },
     "execution_count": 221,
     "metadata": {},
     "output_type": "execute_result"
    }
   ],
   "source": [
    "len(tweets_data_clean[tweets_data_clean['expanded_urls'].isnull()])"
   ]
  },
  {
   "cell_type": "markdown",
   "metadata": {},
   "source": [
    "Here I just realized that most of the missing url which we found earlier were for retweets and replies and they have already been removed ('expanded_urls') when we filtered our dataframe to consider only original tweets."
   ]
  },
  {
   "cell_type": "markdown",
   "metadata": {},
   "source": [
    "**Define**"
   ]
  },
  {
   "cell_type": "markdown",
   "metadata": {},
   "source": [
    "Delete the rows that has missing expanded_urls that means there is not picture which will not help us in our analysis "
   ]
  },
  {
   "cell_type": "markdown",
   "metadata": {},
   "source": [
    "**Code**"
   ]
  },
  {
   "cell_type": "code",
   "execution_count": 222,
   "metadata": {},
   "outputs": [],
   "source": [
    "tweets_data_clean = tweets_data_clean[tweets_data_clean['expanded_urls'].notna()] "
   ]
  },
  {
   "cell_type": "markdown",
   "metadata": {},
   "source": [
    "**Test**"
   ]
  },
  {
   "cell_type": "code",
   "execution_count": 223,
   "metadata": {},
   "outputs": [
    {
     "name": "stdout",
     "output_type": "stream",
     "text": [
      "0\n",
      "(2094, 12)\n"
     ]
    }
   ],
   "source": [
    "print(len(tweets_data_clean[tweets_data_clean['expanded_urls'].isnull()]))\n",
    "print(tweets_data_clean.shape)"
   ]
  },
  {
   "cell_type": "markdown",
   "metadata": {},
   "source": [
    "### rating_denominator  &  rating_numerator"
   ]
  },
  {
   "cell_type": "markdown",
   "metadata": {},
   "source": [
    "######  rating_denominator"
   ]
  },
  {
   "cell_type": "code",
   "execution_count": 224,
   "metadata": {},
   "outputs": [
    {
     "data": {
      "text/html": [
       "<div>\n",
       "<style scoped>\n",
       "    .dataframe tbody tr th:only-of-type {\n",
       "        vertical-align: middle;\n",
       "    }\n",
       "\n",
       "    .dataframe tbody tr th {\n",
       "        vertical-align: top;\n",
       "    }\n",
       "\n",
       "    .dataframe thead th {\n",
       "        text-align: right;\n",
       "    }\n",
       "</style>\n",
       "<table border=\"1\" class=\"dataframe\">\n",
       "  <thead>\n",
       "    <tr style=\"text-align: right;\">\n",
       "      <th></th>\n",
       "      <th>tweet_id</th>\n",
       "      <th>text</th>\n",
       "      <th>rating_numerator</th>\n",
       "      <th>rating_denominator</th>\n",
       "    </tr>\n",
       "  </thead>\n",
       "  <tbody>\n",
       "    <tr>\n",
       "      <th>433</th>\n",
       "      <td>820690176645140481</td>\n",
       "      <td>The floofs have been released I repeat the flo...</td>\n",
       "      <td>84</td>\n",
       "      <td>70</td>\n",
       "    </tr>\n",
       "    <tr>\n",
       "      <th>516</th>\n",
       "      <td>810984652412424192</td>\n",
       "      <td>Meet Sam. She smiles 24/7 &amp;amp; secretly aspir...</td>\n",
       "      <td>24</td>\n",
       "      <td>7</td>\n",
       "    </tr>\n",
       "    <tr>\n",
       "      <th>902</th>\n",
       "      <td>758467244762497024</td>\n",
       "      <td>Why does this never happen at my front door......</td>\n",
       "      <td>165</td>\n",
       "      <td>150</td>\n",
       "    </tr>\n",
       "    <tr>\n",
       "      <th>1068</th>\n",
       "      <td>740373189193256964</td>\n",
       "      <td>After so many requests, this is Bretagne. She ...</td>\n",
       "      <td>9</td>\n",
       "      <td>11</td>\n",
       "    </tr>\n",
       "    <tr>\n",
       "      <th>1120</th>\n",
       "      <td>731156023742988288</td>\n",
       "      <td>Say hello to this unbelievably well behaved sq...</td>\n",
       "      <td>204</td>\n",
       "      <td>170</td>\n",
       "    </tr>\n",
       "    <tr>\n",
       "      <th>1165</th>\n",
       "      <td>722974582966214656</td>\n",
       "      <td>Happy 4/20 from the squad! 13/10 for all https...</td>\n",
       "      <td>4</td>\n",
       "      <td>20</td>\n",
       "    </tr>\n",
       "    <tr>\n",
       "      <th>1202</th>\n",
       "      <td>716439118184652801</td>\n",
       "      <td>This is Bluebert. He just saw that both #Final...</td>\n",
       "      <td>50</td>\n",
       "      <td>50</td>\n",
       "    </tr>\n",
       "    <tr>\n",
       "      <th>1228</th>\n",
       "      <td>713900603437621249</td>\n",
       "      <td>Happy Saturday here's 9 puppers on a bench. 99...</td>\n",
       "      <td>99</td>\n",
       "      <td>90</td>\n",
       "    </tr>\n",
       "    <tr>\n",
       "      <th>1254</th>\n",
       "      <td>710658690886586372</td>\n",
       "      <td>Here's a brigade of puppers. All look very pre...</td>\n",
       "      <td>80</td>\n",
       "      <td>80</td>\n",
       "    </tr>\n",
       "    <tr>\n",
       "      <th>1274</th>\n",
       "      <td>709198395643068416</td>\n",
       "      <td>From left to right:\\nCletus, Jerome, Alejandro...</td>\n",
       "      <td>45</td>\n",
       "      <td>50</td>\n",
       "    </tr>\n",
       "    <tr>\n",
       "      <th>1351</th>\n",
       "      <td>704054845121142784</td>\n",
       "      <td>Here is a whole flock of puppers.  60/50 I'll ...</td>\n",
       "      <td>60</td>\n",
       "      <td>50</td>\n",
       "    </tr>\n",
       "    <tr>\n",
       "      <th>1433</th>\n",
       "      <td>697463031882764288</td>\n",
       "      <td>Happy Wednesday here's a bucket of pups. 44/40...</td>\n",
       "      <td>44</td>\n",
       "      <td>40</td>\n",
       "    </tr>\n",
       "    <tr>\n",
       "      <th>1635</th>\n",
       "      <td>684222868335505415</td>\n",
       "      <td>Someone help the girl is being mugged. Several...</td>\n",
       "      <td>121</td>\n",
       "      <td>110</td>\n",
       "    </tr>\n",
       "    <tr>\n",
       "      <th>1662</th>\n",
       "      <td>682962037429899265</td>\n",
       "      <td>This is Darrel. He just robbed a 7/11 and is i...</td>\n",
       "      <td>7</td>\n",
       "      <td>11</td>\n",
       "    </tr>\n",
       "    <tr>\n",
       "      <th>1779</th>\n",
       "      <td>677716515794329600</td>\n",
       "      <td>IT'S PUPPERGEDDON. Total of 144/120 ...I think...</td>\n",
       "      <td>144</td>\n",
       "      <td>120</td>\n",
       "    </tr>\n",
       "    <tr>\n",
       "      <th>1843</th>\n",
       "      <td>675853064436391936</td>\n",
       "      <td>Here we have an entire platoon of puppers. Tot...</td>\n",
       "      <td>88</td>\n",
       "      <td>80</td>\n",
       "    </tr>\n",
       "    <tr>\n",
       "      <th>2335</th>\n",
       "      <td>666287406224695296</td>\n",
       "      <td>This is an Albanian 3 1/2 legged  Episcopalian...</td>\n",
       "      <td>1</td>\n",
       "      <td>2</td>\n",
       "    </tr>\n",
       "  </tbody>\n",
       "</table>\n",
       "</div>"
      ],
      "text/plain": [
       "                tweet_id                                               text  \\\n",
       "433   820690176645140481  The floofs have been released I repeat the flo...   \n",
       "516   810984652412424192  Meet Sam. She smiles 24/7 &amp; secretly aspir...   \n",
       "902   758467244762497024  Why does this never happen at my front door......   \n",
       "1068  740373189193256964  After so many requests, this is Bretagne. She ...   \n",
       "1120  731156023742988288  Say hello to this unbelievably well behaved sq...   \n",
       "1165  722974582966214656  Happy 4/20 from the squad! 13/10 for all https...   \n",
       "1202  716439118184652801  This is Bluebert. He just saw that both #Final...   \n",
       "1228  713900603437621249  Happy Saturday here's 9 puppers on a bench. 99...   \n",
       "1254  710658690886586372  Here's a brigade of puppers. All look very pre...   \n",
       "1274  709198395643068416  From left to right:\\nCletus, Jerome, Alejandro...   \n",
       "1351  704054845121142784  Here is a whole flock of puppers.  60/50 I'll ...   \n",
       "1433  697463031882764288  Happy Wednesday here's a bucket of pups. 44/40...   \n",
       "1635  684222868335505415  Someone help the girl is being mugged. Several...   \n",
       "1662  682962037429899265  This is Darrel. He just robbed a 7/11 and is i...   \n",
       "1779  677716515794329600  IT'S PUPPERGEDDON. Total of 144/120 ...I think...   \n",
       "1843  675853064436391936  Here we have an entire platoon of puppers. Tot...   \n",
       "2335  666287406224695296  This is an Albanian 3 1/2 legged  Episcopalian...   \n",
       "\n",
       "      rating_numerator  rating_denominator  \n",
       "433                 84                  70  \n",
       "516                 24                   7  \n",
       "902                165                 150  \n",
       "1068                 9                  11  \n",
       "1120               204                 170  \n",
       "1165                 4                  20  \n",
       "1202                50                  50  \n",
       "1228                99                  90  \n",
       "1254                80                  80  \n",
       "1274                45                  50  \n",
       "1351                60                  50  \n",
       "1433                44                  40  \n",
       "1635               121                 110  \n",
       "1662                 7                  11  \n",
       "1779               144                 120  \n",
       "1843                88                  80  \n",
       "2335                 1                   2  "
      ]
     },
     "execution_count": 224,
     "metadata": {},
     "output_type": "execute_result"
    }
   ],
   "source": [
    "# let's have a look at the demominator with values that differ from 10. \n",
    "\n",
    "tweets_data_clean[tweets_data_clean['rating_denominator'] != 10][['tweet_id','text','rating_numerator','rating_denominator']]"
   ]
  },
  {
   "cell_type": "markdown",
   "metadata": {},
   "source": [
    "From the code above we can see some values of rating_denominator & rating_numerator are within the text , but this type error might happend beacsue of software misinterpreting while transfering the data and some because we have multiple dogs as shown in the text, so here we can fix the issue by dropping the rows that have multiple dogs and fixing the remainings manually more clarification you can find in the report attached.  "
   ]
  },
  {
   "cell_type": "markdown",
   "metadata": {},
   "source": [
    "**Define** \n"
   ]
  },
  {
   "cell_type": "markdown",
   "metadata": {},
   "source": [
    "Adjust the ratings of denominator & numerator manaually for the row_index numbers (1068, 1202, 1662, 2335) "
   ]
  },
  {
   "cell_type": "markdown",
   "metadata": {},
   "source": [
    "**Code**"
   ]
  },
  {
   "cell_type": "code",
   "execution_count": 225,
   "metadata": {},
   "outputs": [],
   "source": [
    "tweets_data_clean.loc[1068 ,'rating_numerator'] = 14\n",
    "tweets_data_clean.loc[1068 ,'rating_denominator'] = 10"
   ]
  },
  {
   "cell_type": "code",
   "execution_count": 226,
   "metadata": {},
   "outputs": [],
   "source": [
    "tweets_data_clean.loc[1202 ,'rating_numerator'] = 11\n",
    "tweets_data_clean.loc[1202 ,'rating_denominator'] = 10"
   ]
  },
  {
   "cell_type": "code",
   "execution_count": 227,
   "metadata": {},
   "outputs": [],
   "source": [
    "tweets_data_clean.loc[1662 ,'rating_numerator'] = 10\n",
    "tweets_data_clean.loc[1662 ,'rating_denominator'] = 10"
   ]
  },
  {
   "cell_type": "code",
   "execution_count": 228,
   "metadata": {},
   "outputs": [],
   "source": [
    "tweets_data_clean.loc[2335 ,'rating_numerator'] = 9\n",
    "tweets_data_clean.loc[2335 ,'rating_denominator'] = 10"
   ]
  },
  {
   "cell_type": "markdown",
   "metadata": {},
   "source": [
    "**Test** "
   ]
  },
  {
   "cell_type": "code",
   "execution_count": 229,
   "metadata": {},
   "outputs": [
    {
     "name": "stdout",
     "output_type": "stream",
     "text": [
      "rating_numerator      14\n",
      "rating_denominator    10\n",
      "Name: 1068, dtype: object\n",
      "rating_numerator      11\n",
      "rating_denominator    10\n",
      "Name: 1202, dtype: object\n",
      "rating_numerator      10\n",
      "rating_denominator    10\n",
      "Name: 1662, dtype: object\n",
      "rating_numerator       9\n",
      "rating_denominator    10\n",
      "Name: 2335, dtype: object\n"
     ]
    }
   ],
   "source": [
    "print(tweets_data_clean.loc[1068][['rating_numerator','rating_denominator']])\n",
    "print(tweets_data_clean.loc[1202][['rating_numerator','rating_denominator']])\n",
    "print(tweets_data_clean.loc[1662][['rating_numerator','rating_denominator']])\n",
    "print(tweets_data_clean.loc[2335][['rating_numerator','rating_denominator']])"
   ]
  },
  {
   "cell_type": "markdown",
   "metadata": {},
   "source": [
    "**Define**"
   ]
  },
  {
   "cell_type": "markdown",
   "metadata": {},
   "source": [
    "Drop all rows that have values bigger than 10 in rating_denominator & and for multiple set of dogs."
   ]
  },
  {
   "cell_type": "markdown",
   "metadata": {},
   "source": [
    "**Code**"
   ]
  },
  {
   "cell_type": "code",
   "execution_count": 230,
   "metadata": {},
   "outputs": [],
   "source": [
    "tweets_data_clean = tweets_data_clean[tweets_data_clean['rating_denominator'] == 10]"
   ]
  },
  {
   "cell_type": "markdown",
   "metadata": {},
   "source": [
    "**Test**"
   ]
  },
  {
   "cell_type": "code",
   "execution_count": 231,
   "metadata": {},
   "outputs": [
    {
     "data": {
      "text/plain": [
       "(2081, 12)"
      ]
     },
     "execution_count": 231,
     "metadata": {},
     "output_type": "execute_result"
    }
   ],
   "source": [
    "tweets_data_clean.shape"
   ]
  },
  {
   "cell_type": "code",
   "execution_count": 232,
   "metadata": {},
   "outputs": [
    {
     "data": {
      "text/plain": [
       "0"
      ]
     },
     "execution_count": 232,
     "metadata": {},
     "output_type": "execute_result"
    }
   ],
   "source": [
    "len(tweets_data_clean[tweets_data_clean['rating_denominator'] != 10])"
   ]
  },
  {
   "cell_type": "markdown",
   "metadata": {},
   "source": [
    "######  rating_numerator"
   ]
  },
  {
   "cell_type": "code",
   "execution_count": 233,
   "metadata": {},
   "outputs": [
    {
     "data": {
      "text/html": [
       "<div>\n",
       "<style scoped>\n",
       "    .dataframe tbody tr th:only-of-type {\n",
       "        vertical-align: middle;\n",
       "    }\n",
       "\n",
       "    .dataframe tbody tr th {\n",
       "        vertical-align: top;\n",
       "    }\n",
       "\n",
       "    .dataframe thead th {\n",
       "        text-align: right;\n",
       "    }\n",
       "</style>\n",
       "<table border=\"1\" class=\"dataframe\">\n",
       "  <thead>\n",
       "    <tr style=\"text-align: right;\">\n",
       "      <th></th>\n",
       "      <th>tweet_id</th>\n",
       "      <th>timestamp</th>\n",
       "      <th>source</th>\n",
       "      <th>text</th>\n",
       "      <th>expanded_urls</th>\n",
       "      <th>rating_numerator</th>\n",
       "      <th>rating_denominator</th>\n",
       "      <th>name</th>\n",
       "      <th>doggo</th>\n",
       "      <th>floofer</th>\n",
       "      <th>pupper</th>\n",
       "      <th>puppo</th>\n",
       "    </tr>\n",
       "  </thead>\n",
       "  <tbody>\n",
       "    <tr>\n",
       "      <th>695</th>\n",
       "      <td>786709082849828864</td>\n",
       "      <td>2016-10-13 23:23:56+00:00</td>\n",
       "      <td>&lt;a href=\"http://twitter.com/download/iphone\" r...</td>\n",
       "      <td>This is Logan, the Chow who lived. He solemnly...</td>\n",
       "      <td>https://twitter.com/dog_rates/status/786709082...</td>\n",
       "      <td>75</td>\n",
       "      <td>10</td>\n",
       "      <td>Logan</td>\n",
       "      <td>None</td>\n",
       "      <td>None</td>\n",
       "      <td>None</td>\n",
       "      <td>None</td>\n",
       "    </tr>\n",
       "    <tr>\n",
       "      <th>763</th>\n",
       "      <td>778027034220126208</td>\n",
       "      <td>2016-09-20 00:24:34+00:00</td>\n",
       "      <td>&lt;a href=\"http://twitter.com/download/iphone\" r...</td>\n",
       "      <td>This is Sophie. She's a Jubilant Bush Pupper. ...</td>\n",
       "      <td>https://twitter.com/dog_rates/status/778027034...</td>\n",
       "      <td>27</td>\n",
       "      <td>10</td>\n",
       "      <td>Sophie</td>\n",
       "      <td>None</td>\n",
       "      <td>None</td>\n",
       "      <td>pupper</td>\n",
       "      <td>None</td>\n",
       "    </tr>\n",
       "    <tr>\n",
       "      <th>979</th>\n",
       "      <td>749981277374128128</td>\n",
       "      <td>2016-07-04 15:00:45+00:00</td>\n",
       "      <td>&lt;a href=\"https://about.twitter.com/products/tw...</td>\n",
       "      <td>This is Atticus. He's quite simply America af....</td>\n",
       "      <td>https://twitter.com/dog_rates/status/749981277...</td>\n",
       "      <td>1776</td>\n",
       "      <td>10</td>\n",
       "      <td>Atticus</td>\n",
       "      <td>None</td>\n",
       "      <td>None</td>\n",
       "      <td>None</td>\n",
       "      <td>None</td>\n",
       "    </tr>\n",
       "    <tr>\n",
       "      <th>1712</th>\n",
       "      <td>680494726643068929</td>\n",
       "      <td>2015-12-25 21:06:00+00:00</td>\n",
       "      <td>&lt;a href=\"http://twitter.com/download/iphone\" r...</td>\n",
       "      <td>Here we have uncovered an entire battalion of ...</td>\n",
       "      <td>https://twitter.com/dog_rates/status/680494726...</td>\n",
       "      <td>26</td>\n",
       "      <td>10</td>\n",
       "      <td>None</td>\n",
       "      <td>None</td>\n",
       "      <td>None</td>\n",
       "      <td>None</td>\n",
       "      <td>None</td>\n",
       "    </tr>\n",
       "    <tr>\n",
       "      <th>2074</th>\n",
       "      <td>670842764863651840</td>\n",
       "      <td>2015-11-29 05:52:33+00:00</td>\n",
       "      <td>&lt;a href=\"http://twitter.com/download/iphone\" r...</td>\n",
       "      <td>After so many requests... here you go.\\n\\nGood...</td>\n",
       "      <td>https://twitter.com/dog_rates/status/670842764...</td>\n",
       "      <td>420</td>\n",
       "      <td>10</td>\n",
       "      <td>None</td>\n",
       "      <td>None</td>\n",
       "      <td>None</td>\n",
       "      <td>None</td>\n",
       "      <td>None</td>\n",
       "    </tr>\n",
       "  </tbody>\n",
       "</table>\n",
       "</div>"
      ],
      "text/plain": [
       "                tweet_id                 timestamp  \\\n",
       "695   786709082849828864 2016-10-13 23:23:56+00:00   \n",
       "763   778027034220126208 2016-09-20 00:24:34+00:00   \n",
       "979   749981277374128128 2016-07-04 15:00:45+00:00   \n",
       "1712  680494726643068929 2015-12-25 21:06:00+00:00   \n",
       "2074  670842764863651840 2015-11-29 05:52:33+00:00   \n",
       "\n",
       "                                                 source  \\\n",
       "695   <a href=\"http://twitter.com/download/iphone\" r...   \n",
       "763   <a href=\"http://twitter.com/download/iphone\" r...   \n",
       "979   <a href=\"https://about.twitter.com/products/tw...   \n",
       "1712  <a href=\"http://twitter.com/download/iphone\" r...   \n",
       "2074  <a href=\"http://twitter.com/download/iphone\" r...   \n",
       "\n",
       "                                                   text  \\\n",
       "695   This is Logan, the Chow who lived. He solemnly...   \n",
       "763   This is Sophie. She's a Jubilant Bush Pupper. ...   \n",
       "979   This is Atticus. He's quite simply America af....   \n",
       "1712  Here we have uncovered an entire battalion of ...   \n",
       "2074  After so many requests... here you go.\\n\\nGood...   \n",
       "\n",
       "                                          expanded_urls  rating_numerator  \\\n",
       "695   https://twitter.com/dog_rates/status/786709082...                75   \n",
       "763   https://twitter.com/dog_rates/status/778027034...                27   \n",
       "979   https://twitter.com/dog_rates/status/749981277...              1776   \n",
       "1712  https://twitter.com/dog_rates/status/680494726...                26   \n",
       "2074  https://twitter.com/dog_rates/status/670842764...               420   \n",
       "\n",
       "      rating_denominator     name doggo floofer  pupper puppo  \n",
       "695                   10    Logan  None    None    None  None  \n",
       "763                   10   Sophie  None    None  pupper  None  \n",
       "979                   10  Atticus  None    None    None  None  \n",
       "1712                  10     None  None    None    None  None  \n",
       "2074                  10     None  None    None    None  None  "
      ]
     },
     "execution_count": 233,
     "metadata": {},
     "output_type": "execute_result"
    }
   ],
   "source": [
    "# let's see what values here we have bigger than 14 in numerator , I chose (14) because the next nearest number was (26) which \\\n",
    "# is high and it doesn't make sense. \n",
    "tweets_data_clean[tweets_data_clean['rating_numerator'] > 14 ]"
   ]
  },
  {
   "cell_type": "markdown",
   "metadata": {},
   "source": [
    "From the code above we can see that we only have 5 values higher than 14 within numerator column , 2 of them with row_index number (695 , 763) can be fixed manually since their ratings is inclued in the text with decimals and row_index (2074,1712,979) will be dropped ,  you can more clarification in the report attached , by the way I didn't include (1712) here because it has multiple columns  "
   ]
  },
  {
   "cell_type": "markdown",
   "metadata": {},
   "source": [
    "**Define**"
   ]
  },
  {
   "cell_type": "markdown",
   "metadata": {},
   "source": [
    "Adjust the numerator values for the row_index number (695, 763)"
   ]
  },
  {
   "cell_type": "markdown",
   "metadata": {},
   "source": [
    "**Code**"
   ]
  },
  {
   "cell_type": "code",
   "execution_count": 234,
   "metadata": {},
   "outputs": [],
   "source": [
    "tweets_data_clean.loc[695 ,'rating_numerator'] = 10\n",
    "tweets_data_clean.loc[763 ,'rating_numerator'] = 11"
   ]
  },
  {
   "cell_type": "markdown",
   "metadata": {},
   "source": [
    "**Test**"
   ]
  },
  {
   "cell_type": "code",
   "execution_count": 235,
   "metadata": {},
   "outputs": [
    {
     "data": {
      "text/html": [
       "<div>\n",
       "<style scoped>\n",
       "    .dataframe tbody tr th:only-of-type {\n",
       "        vertical-align: middle;\n",
       "    }\n",
       "\n",
       "    .dataframe tbody tr th {\n",
       "        vertical-align: top;\n",
       "    }\n",
       "\n",
       "    .dataframe thead th {\n",
       "        text-align: right;\n",
       "    }\n",
       "</style>\n",
       "<table border=\"1\" class=\"dataframe\">\n",
       "  <thead>\n",
       "    <tr style=\"text-align: right;\">\n",
       "      <th></th>\n",
       "      <th>tweet_id</th>\n",
       "      <th>timestamp</th>\n",
       "      <th>source</th>\n",
       "      <th>text</th>\n",
       "      <th>expanded_urls</th>\n",
       "      <th>rating_numerator</th>\n",
       "      <th>rating_denominator</th>\n",
       "      <th>name</th>\n",
       "      <th>doggo</th>\n",
       "      <th>floofer</th>\n",
       "      <th>pupper</th>\n",
       "      <th>puppo</th>\n",
       "    </tr>\n",
       "  </thead>\n",
       "  <tbody>\n",
       "    <tr>\n",
       "      <th>695</th>\n",
       "      <td>786709082849828864</td>\n",
       "      <td>2016-10-13 23:23:56+00:00</td>\n",
       "      <td>&lt;a href=\"http://twitter.com/download/iphone\" r...</td>\n",
       "      <td>This is Logan, the Chow who lived. He solemnly...</td>\n",
       "      <td>https://twitter.com/dog_rates/status/786709082...</td>\n",
       "      <td>10</td>\n",
       "      <td>10</td>\n",
       "      <td>Logan</td>\n",
       "      <td>None</td>\n",
       "      <td>None</td>\n",
       "      <td>None</td>\n",
       "      <td>None</td>\n",
       "    </tr>\n",
       "    <tr>\n",
       "      <th>763</th>\n",
       "      <td>778027034220126208</td>\n",
       "      <td>2016-09-20 00:24:34+00:00</td>\n",
       "      <td>&lt;a href=\"http://twitter.com/download/iphone\" r...</td>\n",
       "      <td>This is Sophie. She's a Jubilant Bush Pupper. ...</td>\n",
       "      <td>https://twitter.com/dog_rates/status/778027034...</td>\n",
       "      <td>11</td>\n",
       "      <td>10</td>\n",
       "      <td>Sophie</td>\n",
       "      <td>None</td>\n",
       "      <td>None</td>\n",
       "      <td>pupper</td>\n",
       "      <td>None</td>\n",
       "    </tr>\n",
       "  </tbody>\n",
       "</table>\n",
       "</div>"
      ],
      "text/plain": [
       "               tweet_id                 timestamp  \\\n",
       "695  786709082849828864 2016-10-13 23:23:56+00:00   \n",
       "763  778027034220126208 2016-09-20 00:24:34+00:00   \n",
       "\n",
       "                                                source  \\\n",
       "695  <a href=\"http://twitter.com/download/iphone\" r...   \n",
       "763  <a href=\"http://twitter.com/download/iphone\" r...   \n",
       "\n",
       "                                                  text  \\\n",
       "695  This is Logan, the Chow who lived. He solemnly...   \n",
       "763  This is Sophie. She's a Jubilant Bush Pupper. ...   \n",
       "\n",
       "                                         expanded_urls  rating_numerator  \\\n",
       "695  https://twitter.com/dog_rates/status/786709082...                10   \n",
       "763  https://twitter.com/dog_rates/status/778027034...                11   \n",
       "\n",
       "     rating_denominator    name doggo floofer  pupper puppo  \n",
       "695                  10   Logan  None    None    None  None  \n",
       "763                  10  Sophie  None    None  pupper  None  "
      ]
     },
     "execution_count": 235,
     "metadata": {},
     "output_type": "execute_result"
    }
   ],
   "source": [
    "tweets_data_clean[tweets_data_clean['tweet_id'].isin(['786709082849828864','778027034220126208'])]"
   ]
  },
  {
   "cell_type": "code",
   "execution_count": 236,
   "metadata": {},
   "outputs": [],
   "source": [
    "tweets_data_clean =tweets_data_clean[tweets_data_clean['rating_numerator'] <= 14] "
   ]
  },
  {
   "cell_type": "markdown",
   "metadata": {},
   "source": [
    "**Test**"
   ]
  },
  {
   "cell_type": "code",
   "execution_count": 237,
   "metadata": {},
   "outputs": [
    {
     "data": {
      "text/plain": [
       "(2078, 12)"
      ]
     },
     "execution_count": 237,
     "metadata": {},
     "output_type": "execute_result"
    }
   ],
   "source": [
    "tweets_data_clean.shape"
   ]
  },
  {
   "cell_type": "code",
   "execution_count": 238,
   "metadata": {},
   "outputs": [
    {
     "data": {
      "text/plain": [
       "0"
      ]
     },
     "execution_count": 238,
     "metadata": {},
     "output_type": "execute_result"
    }
   ],
   "source": [
    "len(tweets_data_clean[tweets_data_clean['rating_numerator'] > 14])"
   ]
  },
  {
   "cell_type": "markdown",
   "metadata": {},
   "source": [
    "##### Dog's breed names have capotalized letters and small letters  which may result in data inconsistency\n"
   ]
  },
  {
   "cell_type": "markdown",
   "metadata": {},
   "source": [
    "**Define**"
   ]
  },
  {
   "cell_type": "markdown",
   "metadata": {},
   "source": [
    "Change all dog's breed to be lowercases by using str.lower() method"
   ]
  },
  {
   "cell_type": "markdown",
   "metadata": {},
   "source": [
    "**Code**"
   ]
  },
  {
   "cell_type": "code",
   "execution_count": 239,
   "metadata": {},
   "outputs": [],
   "source": [
    "image_pred_clean['p1'] = image_pred_clean['p1'].str.lower()\n",
    "image_pred_clean['p2'] = image_pred_clean['p2'].str.lower()\n",
    "image_pred_clean['p3'] = image_pred_clean['p3'].str.lower()"
   ]
  },
  {
   "cell_type": "markdown",
   "metadata": {},
   "source": [
    "**Test**"
   ]
  },
  {
   "cell_type": "code",
   "execution_count": 240,
   "metadata": {},
   "outputs": [
    {
     "name": "stdout",
     "output_type": "stream",
     "text": [
      "0\n",
      "0\n",
      "0\n"
     ]
    }
   ],
   "source": [
    "print(image_pred_clean['p1'].str.isupper().sum())\n",
    "print(image_pred_clean['p2'].str.isupper().sum())\n",
    "print(image_pred_clean['p3'].str.isupper().sum())"
   ]
  },
  {
   "cell_type": "markdown",
   "metadata": {},
   "source": [
    "###### Source column is hard to read\n",
    "\n",
    "let's have a look at it"
   ]
  },
  {
   "cell_type": "code",
   "execution_count": 241,
   "metadata": {},
   "outputs": [
    {
     "data": {
      "text/plain": [
       "<a href=\"http://twitter.com/download/iphone\" rel=\"nofollow\">Twitter for iPhone</a>     1947\n",
       "<a href=\"http://vine.co\" rel=\"nofollow\">Vine - Make a Scene</a>                          91\n",
       "<a href=\"http://twitter.com\" rel=\"nofollow\">Twitter Web Client</a>                       30\n",
       "<a href=\"https://about.twitter.com/products/tweetdeck\" rel=\"nofollow\">TweetDeck</a>      10\n",
       "Name: source, dtype: int64"
      ]
     },
     "execution_count": 241,
     "metadata": {},
     "output_type": "execute_result"
    }
   ],
   "source": [
    "tweets_data_clean['source'].value_counts()\n",
    "\n",
    "# here we can see here we only have 4 different sources "
   ]
  },
  {
   "cell_type": "markdown",
   "metadata": {},
   "source": [
    "**Define**"
   ]
  },
  {
   "cell_type": "markdown",
   "metadata": {},
   "source": [
    "extract the source from the provided URL using Regex"
   ]
  },
  {
   "cell_type": "markdown",
   "metadata": {},
   "source": [
    "**Code**"
   ]
  },
  {
   "cell_type": "code",
   "execution_count": 242,
   "metadata": {},
   "outputs": [],
   "source": [
    "tweets_data_clean['source'] = tweets_data_clean['source'].str.extract(r'([A-Z][a-z]+\\s?[a-zA-Z-]?[a-zA-Z\\s]+)')"
   ]
  },
  {
   "cell_type": "code",
   "execution_count": 243,
   "metadata": {},
   "outputs": [
    {
     "data": {
      "text/plain": [
       "824      Twitter for iPhone\n",
       "1403     Twitter for iPhone\n",
       "1797     Twitter for iPhone\n",
       "832      Twitter for iPhone\n",
       "1307     Twitter for iPhone\n",
       "919      Twitter for iPhone\n",
       "1742     Twitter for iPhone\n",
       "1648     Twitter for iPhone\n",
       "1108    Vine - Make a Scene\n",
       "2131     Twitter for iPhone\n",
       "Name: source, dtype: object"
      ]
     },
     "execution_count": 243,
     "metadata": {},
     "output_type": "execute_result"
    }
   ],
   "source": [
    "tweets_data_clean['source'].sample(10)"
   ]
  },
  {
   "cell_type": "markdown",
   "metadata": {},
   "source": [
    "**Test**"
   ]
  },
  {
   "cell_type": "code",
   "execution_count": 244,
   "metadata": {},
   "outputs": [
    {
     "data": {
      "text/plain": [
       "Twitter for iPhone     1947\n",
       "Vine - Make a Scene      91\n",
       "Twitter Web Client       30\n",
       "TweetDeck                10\n",
       "Name: source, dtype: int64"
      ]
     },
     "execution_count": 244,
     "metadata": {},
     "output_type": "execute_result"
    }
   ],
   "source": [
    "tweets_data_clean['source'].value_counts()"
   ]
  },
  {
   "cell_type": "code",
   "execution_count": 245,
   "metadata": {},
   "outputs": [
    {
     "data": {
      "text/html": [
       "<div>\n",
       "<style scoped>\n",
       "    .dataframe tbody tr th:only-of-type {\n",
       "        vertical-align: middle;\n",
       "    }\n",
       "\n",
       "    .dataframe tbody tr th {\n",
       "        vertical-align: top;\n",
       "    }\n",
       "\n",
       "    .dataframe thead th {\n",
       "        text-align: right;\n",
       "    }\n",
       "</style>\n",
       "<table border=\"1\" class=\"dataframe\">\n",
       "  <thead>\n",
       "    <tr style=\"text-align: right;\">\n",
       "      <th></th>\n",
       "      <th>tweet_id</th>\n",
       "      <th>timestamp</th>\n",
       "      <th>source</th>\n",
       "      <th>text</th>\n",
       "      <th>expanded_urls</th>\n",
       "      <th>rating_numerator</th>\n",
       "      <th>rating_denominator</th>\n",
       "      <th>name</th>\n",
       "      <th>doggo</th>\n",
       "      <th>floofer</th>\n",
       "      <th>pupper</th>\n",
       "      <th>puppo</th>\n",
       "    </tr>\n",
       "  </thead>\n",
       "  <tbody>\n",
       "    <tr>\n",
       "      <th>2076</th>\n",
       "      <td>670838202509447168</td>\n",
       "      <td>2015-11-29 05:34:25+00:00</td>\n",
       "      <td>Twitter for iPhone</td>\n",
       "      <td>Pink dogs here. Unreasonably long necks. Left ...</td>\n",
       "      <td>https://twitter.com/dog_rates/status/670838202...</td>\n",
       "      <td>4</td>\n",
       "      <td>10</td>\n",
       "      <td>None</td>\n",
       "      <td>None</td>\n",
       "      <td>None</td>\n",
       "      <td>None</td>\n",
       "      <td>None</td>\n",
       "    </tr>\n",
       "  </tbody>\n",
       "</table>\n",
       "</div>"
      ],
      "text/plain": [
       "                tweet_id                 timestamp              source  \\\n",
       "2076  670838202509447168 2015-11-29 05:34:25+00:00  Twitter for iPhone   \n",
       "\n",
       "                                                   text  \\\n",
       "2076  Pink dogs here. Unreasonably long necks. Left ...   \n",
       "\n",
       "                                          expanded_urls  rating_numerator  \\\n",
       "2076  https://twitter.com/dog_rates/status/670838202...                 4   \n",
       "\n",
       "      rating_denominator  name doggo floofer pupper puppo  \n",
       "2076                  10  None  None    None   None  None  "
      ]
     },
     "execution_count": 245,
     "metadata": {},
     "output_type": "execute_result"
    }
   ],
   "source": [
    "tweets_data_clean.sample(1)"
   ]
  },
  {
   "cell_type": "markdown",
   "metadata": {},
   "source": [
    "### Tidiness "
   ]
  },
  {
   "cell_type": "markdown",
   "metadata": {},
   "source": [
    "###### Five variables in four columns in `tweets_data_clean`  table (stage,doggo,floofer,pupper and puppo)"
   ]
  },
  {
   "cell_type": "markdown",
   "metadata": {},
   "source": [
    "**Define**"
   ]
  },
  {
   "cell_type": "markdown",
   "metadata": {},
   "source": [
    "Put doggo,floofer,pupper and puppo to a dog_stage column , **Note** :  here I could have been able to use melt function to do that as we learned in lesson 4 of data wrangling at udacity , but melt function will create a new row for each variable we have in dog stage value , which means I'll have to duplicated rows for each tweet with four dog stage values, so instead I'll use `.loc indexing` the same way I tused it earlier here to create dog_stage column with each row variable that match the stage."
   ]
  },
  {
   "cell_type": "markdown",
   "metadata": {},
   "source": [
    "**Code**"
   ]
  },
  {
   "cell_type": "code",
   "execution_count": 246,
   "metadata": {},
   "outputs": [],
   "source": [
    "# first I'll replace each 'None' value with NaN to avoid any confusion,for sure it'll fill name column wherever there is 'None'.\n",
    "\n",
    "tweets_data_clean = tweets_data_clean .replace('None' , np.nan) "
   ]
  },
  {
   "cell_type": "code",
   "execution_count": 247,
   "metadata": {},
   "outputs": [
    {
     "data": {
      "text/html": [
       "<div>\n",
       "<style scoped>\n",
       "    .dataframe tbody tr th:only-of-type {\n",
       "        vertical-align: middle;\n",
       "    }\n",
       "\n",
       "    .dataframe tbody tr th {\n",
       "        vertical-align: top;\n",
       "    }\n",
       "\n",
       "    .dataframe thead th {\n",
       "        text-align: right;\n",
       "    }\n",
       "</style>\n",
       "<table border=\"1\" class=\"dataframe\">\n",
       "  <thead>\n",
       "    <tr style=\"text-align: right;\">\n",
       "      <th></th>\n",
       "      <th>name</th>\n",
       "      <th>doggo</th>\n",
       "      <th>floofer</th>\n",
       "      <th>pupper</th>\n",
       "      <th>puppo</th>\n",
       "    </tr>\n",
       "  </thead>\n",
       "  <tbody>\n",
       "    <tr>\n",
       "      <th>1199</th>\n",
       "      <td>Jennifur</td>\n",
       "      <td>NaN</td>\n",
       "      <td>NaN</td>\n",
       "      <td>NaN</td>\n",
       "      <td>NaN</td>\n",
       "    </tr>\n",
       "    <tr>\n",
       "      <th>995</th>\n",
       "      <td>NaN</td>\n",
       "      <td>NaN</td>\n",
       "      <td>NaN</td>\n",
       "      <td>NaN</td>\n",
       "      <td>NaN</td>\n",
       "    </tr>\n",
       "    <tr>\n",
       "      <th>953</th>\n",
       "      <td>Tucker</td>\n",
       "      <td>NaN</td>\n",
       "      <td>NaN</td>\n",
       "      <td>NaN</td>\n",
       "      <td>NaN</td>\n",
       "    </tr>\n",
       "    <tr>\n",
       "      <th>226</th>\n",
       "      <td>NaN</td>\n",
       "      <td>NaN</td>\n",
       "      <td>NaN</td>\n",
       "      <td>NaN</td>\n",
       "      <td>NaN</td>\n",
       "    </tr>\n",
       "    <tr>\n",
       "      <th>492</th>\n",
       "      <td>Atlas</td>\n",
       "      <td>NaN</td>\n",
       "      <td>NaN</td>\n",
       "      <td>NaN</td>\n",
       "      <td>NaN</td>\n",
       "    </tr>\n",
       "  </tbody>\n",
       "</table>\n",
       "</div>"
      ],
      "text/plain": [
       "          name doggo floofer pupper puppo\n",
       "1199  Jennifur   NaN     NaN    NaN   NaN\n",
       "995        NaN   NaN     NaN    NaN   NaN\n",
       "953     Tucker   NaN     NaN    NaN   NaN\n",
       "226        NaN   NaN     NaN    NaN   NaN\n",
       "492      Atlas   NaN     NaN    NaN   NaN"
      ]
     },
     "execution_count": 247,
     "metadata": {},
     "output_type": "execute_result"
    }
   ],
   "source": [
    "# to check the code above : \n",
    "\n",
    "tweets_data_clean[['name','doggo','floofer','pupper','puppo']].sample(5)"
   ]
  },
  {
   "cell_type": "code",
   "execution_count": 248,
   "metadata": {},
   "outputs": [],
   "source": [
    "tweets_data_clean.loc[tweets_data_clean['doggo'] == 'doggo' , 'dog_stage'] = 'doggo'\n",
    "tweets_data_clean.loc[tweets_data_clean['floofer'] == 'floofer' , 'dog_stage'] = 'floofer'\n",
    "tweets_data_clean.loc[tweets_data_clean['pupper'] == 'pupper' , 'dog_stage'] = 'pupper'\n",
    "tweets_data_clean.loc[tweets_data_clean['puppo'] == 'puppo' , 'dog_stage'] = 'puppo'"
   ]
  },
  {
   "cell_type": "code",
   "execution_count": 249,
   "metadata": {},
   "outputs": [
    {
     "data": {
      "text/plain": [
       "pupper     229\n",
       "doggo       72\n",
       "puppo       24\n",
       "floofer     10\n",
       "Name: dog_stage, dtype: int64"
      ]
     },
     "execution_count": 249,
     "metadata": {},
     "output_type": "execute_result"
    }
   ],
   "source": [
    "tweets_data_clean['dog_stage'].value_counts()"
   ]
  },
  {
   "cell_type": "code",
   "execution_count": 250,
   "metadata": {},
   "outputs": [
    {
     "data": {
      "text/plain": [
       "(2078, 13)"
      ]
     },
     "execution_count": 250,
     "metadata": {},
     "output_type": "execute_result"
    }
   ],
   "source": [
    "tweets_data_clean.shape"
   ]
  },
  {
   "cell_type": "code",
   "execution_count": 251,
   "metadata": {},
   "outputs": [],
   "source": [
    "# drop the four columns (doggo, floofer, pupper and puppo)\n",
    "\n",
    "tweets_data_clean = tweets_data_clean.drop(['doggo','floofer','pupper','puppo'], axis = 1) "
   ]
  },
  {
   "cell_type": "markdown",
   "metadata": {},
   "source": [
    "**Test**"
   ]
  },
  {
   "cell_type": "code",
   "execution_count": 252,
   "metadata": {},
   "outputs": [
    {
     "data": {
      "text/plain": [
       "Index(['tweet_id', 'timestamp', 'source', 'text', 'expanded_urls',\n",
       "       'rating_numerator', 'rating_denominator', 'name', 'dog_stage'],\n",
       "      dtype='object')"
      ]
     },
     "execution_count": 252,
     "metadata": {},
     "output_type": "execute_result"
    }
   ],
   "source": [
    "tweets_data_clean.columns"
   ]
  },
  {
   "cell_type": "code",
   "execution_count": 253,
   "metadata": {
    "scrolled": true
   },
   "outputs": [
    {
     "data": {
      "text/html": [
       "<div>\n",
       "<style scoped>\n",
       "    .dataframe tbody tr th:only-of-type {\n",
       "        vertical-align: middle;\n",
       "    }\n",
       "\n",
       "    .dataframe tbody tr th {\n",
       "        vertical-align: top;\n",
       "    }\n",
       "\n",
       "    .dataframe thead th {\n",
       "        text-align: right;\n",
       "    }\n",
       "</style>\n",
       "<table border=\"1\" class=\"dataframe\">\n",
       "  <thead>\n",
       "    <tr style=\"text-align: right;\">\n",
       "      <th></th>\n",
       "      <th>tweet_id</th>\n",
       "      <th>timestamp</th>\n",
       "      <th>source</th>\n",
       "      <th>text</th>\n",
       "      <th>expanded_urls</th>\n",
       "      <th>rating_numerator</th>\n",
       "      <th>rating_denominator</th>\n",
       "      <th>name</th>\n",
       "      <th>dog_stage</th>\n",
       "    </tr>\n",
       "  </thead>\n",
       "  <tbody>\n",
       "    <tr>\n",
       "      <th>1608</th>\n",
       "      <td>685641971164143616</td>\n",
       "      <td>2016-01-09 01:59:19+00:00</td>\n",
       "      <td>Twitter for iPhone</td>\n",
       "      <td>This is Otis. He just passed a cop while going...</td>\n",
       "      <td>https://twitter.com/dog_rates/status/685641971...</td>\n",
       "      <td>7</td>\n",
       "      <td>10</td>\n",
       "      <td>Otis</td>\n",
       "      <td>pupper</td>\n",
       "    </tr>\n",
       "    <tr>\n",
       "      <th>744</th>\n",
       "      <td>780192070812196864</td>\n",
       "      <td>2016-09-25 23:47:39+00:00</td>\n",
       "      <td>Twitter for iPhone</td>\n",
       "      <td>We only rate dogs. Pls stop sending in non-can...</td>\n",
       "      <td>https://twitter.com/dog_rates/status/780192070...</td>\n",
       "      <td>11</td>\n",
       "      <td>10</td>\n",
       "      <td>NaN</td>\n",
       "      <td>NaN</td>\n",
       "    </tr>\n",
       "    <tr>\n",
       "      <th>1973</th>\n",
       "      <td>673213039743795200</td>\n",
       "      <td>2015-12-05 18:51:11+00:00</td>\n",
       "      <td>Twitter for iPhone</td>\n",
       "      <td>This is Dexter. He just got some big news. 10/...</td>\n",
       "      <td>https://twitter.com/dog_rates/status/673213039...</td>\n",
       "      <td>10</td>\n",
       "      <td>10</td>\n",
       "      <td>Dexter</td>\n",
       "      <td>NaN</td>\n",
       "    </tr>\n",
       "    <tr>\n",
       "      <th>176</th>\n",
       "      <td>857746408056729600</td>\n",
       "      <td>2017-04-28 00:00:54+00:00</td>\n",
       "      <td>Twitter for iPhone</td>\n",
       "      <td>Meet Thor. He doesn't have finals because he's...</td>\n",
       "      <td>https://twitter.com/dog_rates/status/857746408...</td>\n",
       "      <td>13</td>\n",
       "      <td>10</td>\n",
       "      <td>Thor</td>\n",
       "      <td>NaN</td>\n",
       "    </tr>\n",
       "    <tr>\n",
       "      <th>1522</th>\n",
       "      <td>690649993829576704</td>\n",
       "      <td>2016-01-22 21:39:24+00:00</td>\n",
       "      <td>Twitter for iPhone</td>\n",
       "      <td>This is Hazel. She's a gymnast. Training hard ...</td>\n",
       "      <td>https://twitter.com/dog_rates/status/690649993...</td>\n",
       "      <td>11</td>\n",
       "      <td>10</td>\n",
       "      <td>Hazel</td>\n",
       "      <td>NaN</td>\n",
       "    </tr>\n",
       "  </tbody>\n",
       "</table>\n",
       "</div>"
      ],
      "text/plain": [
       "                tweet_id                 timestamp              source  \\\n",
       "1608  685641971164143616 2016-01-09 01:59:19+00:00  Twitter for iPhone   \n",
       "744   780192070812196864 2016-09-25 23:47:39+00:00  Twitter for iPhone   \n",
       "1973  673213039743795200 2015-12-05 18:51:11+00:00  Twitter for iPhone   \n",
       "176   857746408056729600 2017-04-28 00:00:54+00:00  Twitter for iPhone   \n",
       "1522  690649993829576704 2016-01-22 21:39:24+00:00  Twitter for iPhone   \n",
       "\n",
       "                                                   text  \\\n",
       "1608  This is Otis. He just passed a cop while going...   \n",
       "744   We only rate dogs. Pls stop sending in non-can...   \n",
       "1973  This is Dexter. He just got some big news. 10/...   \n",
       "176   Meet Thor. He doesn't have finals because he's...   \n",
       "1522  This is Hazel. She's a gymnast. Training hard ...   \n",
       "\n",
       "                                          expanded_urls  rating_numerator  \\\n",
       "1608  https://twitter.com/dog_rates/status/685641971...                 7   \n",
       "744   https://twitter.com/dog_rates/status/780192070...                11   \n",
       "1973  https://twitter.com/dog_rates/status/673213039...                10   \n",
       "176   https://twitter.com/dog_rates/status/857746408...                13   \n",
       "1522  https://twitter.com/dog_rates/status/690649993...                11   \n",
       "\n",
       "      rating_denominator    name dog_stage  \n",
       "1608                  10    Otis    pupper  \n",
       "744                   10     NaN       NaN  \n",
       "1973                  10  Dexter       NaN  \n",
       "176                   10    Thor       NaN  \n",
       "1522                  10   Hazel       NaN  "
      ]
     },
     "execution_count": 253,
     "metadata": {},
     "output_type": "execute_result"
    }
   ],
   "source": [
    "tweets_data_clean.sample(5)"
   ]
  },
  {
   "cell_type": "code",
   "execution_count": 254,
   "metadata": {},
   "outputs": [
    {
     "data": {
      "text/plain": [
       "0"
      ]
     },
     "execution_count": 254,
     "metadata": {},
     "output_type": "execute_result"
    }
   ],
   "source": [
    "# to check that there is no duplicated rows like we could have using melt method.\n",
    "tweets_data_clean['tweet_id'].duplicated().sum()"
   ]
  },
  {
   "cell_type": "markdown",
   "metadata": {},
   "source": [
    "###### Joining all Dataframes into one main dataframe"
   ]
  },
  {
   "cell_type": "code",
   "execution_count": 255,
   "metadata": {},
   "outputs": [],
   "source": [
    "tweets_combined_clean = pd.merge(tweets_data_clean , tweets_info_df , how ='inner' , on = 'tweet_id')"
   ]
  },
  {
   "cell_type": "code",
   "execution_count": 256,
   "metadata": {},
   "outputs": [
    {
     "name": "stdout",
     "output_type": "stream",
     "text": [
      "<class 'pandas.core.frame.DataFrame'>\n",
      "Int64Index: 2078 entries, 0 to 2077\n",
      "Data columns (total 11 columns):\n",
      " #   Column              Non-Null Count  Dtype              \n",
      "---  ------              --------------  -----              \n",
      " 0   tweet_id            2078 non-null   object             \n",
      " 1   timestamp           2078 non-null   datetime64[ns, UTC]\n",
      " 2   source              2078 non-null   object             \n",
      " 3   text                2078 non-null   object             \n",
      " 4   expanded_urls       2078 non-null   object             \n",
      " 5   rating_numerator    2078 non-null   int64              \n",
      " 6   rating_denominator  2078 non-null   int64              \n",
      " 7   name                1436 non-null   object             \n",
      " 8   dog_stage           335 non-null    object             \n",
      " 9   retweet_count       2078 non-null   int64              \n",
      " 10  favorite_count      2078 non-null   int64              \n",
      "dtypes: datetime64[ns, UTC](1), int64(4), object(6)\n",
      "memory usage: 194.8+ KB\n"
     ]
    }
   ],
   "source": [
    "tweets_combined_clean.info()"
   ]
  },
  {
   "cell_type": "code",
   "execution_count": 257,
   "metadata": {},
   "outputs": [
    {
     "data": {
      "text/plain": [
       "(2078, 11)"
      ]
     },
     "execution_count": 257,
     "metadata": {},
     "output_type": "execute_result"
    }
   ],
   "source": [
    "tweets_combined_clean.shape"
   ]
  },
  {
   "cell_type": "code",
   "execution_count": 258,
   "metadata": {},
   "outputs": [
    {
     "data": {
      "text/html": [
       "<div>\n",
       "<style scoped>\n",
       "    .dataframe tbody tr th:only-of-type {\n",
       "        vertical-align: middle;\n",
       "    }\n",
       "\n",
       "    .dataframe tbody tr th {\n",
       "        vertical-align: top;\n",
       "    }\n",
       "\n",
       "    .dataframe thead th {\n",
       "        text-align: right;\n",
       "    }\n",
       "</style>\n",
       "<table border=\"1\" class=\"dataframe\">\n",
       "  <thead>\n",
       "    <tr style=\"text-align: right;\">\n",
       "      <th></th>\n",
       "      <th>tweet_id</th>\n",
       "      <th>timestamp</th>\n",
       "      <th>source</th>\n",
       "      <th>text</th>\n",
       "      <th>expanded_urls</th>\n",
       "      <th>rating_numerator</th>\n",
       "      <th>rating_denominator</th>\n",
       "      <th>name</th>\n",
       "      <th>dog_stage</th>\n",
       "      <th>retweet_count</th>\n",
       "      <th>favorite_count</th>\n",
       "    </tr>\n",
       "  </thead>\n",
       "  <tbody>\n",
       "    <tr>\n",
       "      <th>471</th>\n",
       "      <td>795076730285391872</td>\n",
       "      <td>2016-11-06 01:33:58+00:00</td>\n",
       "      <td>Twitter for iPhone</td>\n",
       "      <td>This is Bailey. She loves going down slides bu...</td>\n",
       "      <td>https://twitter.com/dog_rates/status/795076730...</td>\n",
       "      <td>11</td>\n",
       "      <td>10</td>\n",
       "      <td>Bailey</td>\n",
       "      <td>NaN</td>\n",
       "      <td>6288</td>\n",
       "      <td>18139</td>\n",
       "    </tr>\n",
       "    <tr>\n",
       "      <th>1396</th>\n",
       "      <td>683828599284170753</td>\n",
       "      <td>2016-01-04 01:53:37+00:00</td>\n",
       "      <td>Twitter for iPhone</td>\n",
       "      <td>Breathtaking pupper here. Should be on the cov...</td>\n",
       "      <td>https://twitter.com/dog_rates/status/683828599...</td>\n",
       "      <td>12</td>\n",
       "      <td>10</td>\n",
       "      <td>NaN</td>\n",
       "      <td>pupper</td>\n",
       "      <td>1195</td>\n",
       "      <td>3053</td>\n",
       "    </tr>\n",
       "    <tr>\n",
       "      <th>1745</th>\n",
       "      <td>672222792075620352</td>\n",
       "      <td>2015-12-03 01:16:17+00:00</td>\n",
       "      <td>Twitter for iPhone</td>\n",
       "      <td>This is Cal. He's a Swedish Geriatric Cheddar....</td>\n",
       "      <td>https://twitter.com/dog_rates/status/672222792...</td>\n",
       "      <td>9</td>\n",
       "      <td>10</td>\n",
       "      <td>Cal</td>\n",
       "      <td>NaN</td>\n",
       "      <td>231</td>\n",
       "      <td>833</td>\n",
       "    </tr>\n",
       "    <tr>\n",
       "      <th>239</th>\n",
       "      <td>836380477523124226</td>\n",
       "      <td>2017-02-28 01:00:19+00:00</td>\n",
       "      <td>Twitter for iPhone</td>\n",
       "      <td>This is Ava. She just blasted off. Streamline ...</td>\n",
       "      <td>https://twitter.com/dog_rates/status/836380477...</td>\n",
       "      <td>12</td>\n",
       "      <td>10</td>\n",
       "      <td>Ava</td>\n",
       "      <td>pupper</td>\n",
       "      <td>3337</td>\n",
       "      <td>16037</td>\n",
       "    </tr>\n",
       "    <tr>\n",
       "      <th>341</th>\n",
       "      <td>819924195358416896</td>\n",
       "      <td>2017-01-13 15:08:56+00:00</td>\n",
       "      <td>Twitter for iPhone</td>\n",
       "      <td>Here we have a doggo who has messed up. He was...</td>\n",
       "      <td>https://twitter.com/dog_rates/status/819924195...</td>\n",
       "      <td>11</td>\n",
       "      <td>10</td>\n",
       "      <td>NaN</td>\n",
       "      <td>doggo</td>\n",
       "      <td>5607</td>\n",
       "      <td>14305</td>\n",
       "    </tr>\n",
       "  </tbody>\n",
       "</table>\n",
       "</div>"
      ],
      "text/plain": [
       "                tweet_id                 timestamp              source  \\\n",
       "471   795076730285391872 2016-11-06 01:33:58+00:00  Twitter for iPhone   \n",
       "1396  683828599284170753 2016-01-04 01:53:37+00:00  Twitter for iPhone   \n",
       "1745  672222792075620352 2015-12-03 01:16:17+00:00  Twitter for iPhone   \n",
       "239   836380477523124226 2017-02-28 01:00:19+00:00  Twitter for iPhone   \n",
       "341   819924195358416896 2017-01-13 15:08:56+00:00  Twitter for iPhone   \n",
       "\n",
       "                                                   text  \\\n",
       "471   This is Bailey. She loves going down slides bu...   \n",
       "1396  Breathtaking pupper here. Should be on the cov...   \n",
       "1745  This is Cal. He's a Swedish Geriatric Cheddar....   \n",
       "239   This is Ava. She just blasted off. Streamline ...   \n",
       "341   Here we have a doggo who has messed up. He was...   \n",
       "\n",
       "                                          expanded_urls  rating_numerator  \\\n",
       "471   https://twitter.com/dog_rates/status/795076730...                11   \n",
       "1396  https://twitter.com/dog_rates/status/683828599...                12   \n",
       "1745  https://twitter.com/dog_rates/status/672222792...                 9   \n",
       "239   https://twitter.com/dog_rates/status/836380477...                12   \n",
       "341   https://twitter.com/dog_rates/status/819924195...                11   \n",
       "\n",
       "      rating_denominator    name dog_stage  retweet_count  favorite_count  \n",
       "471                   10  Bailey       NaN           6288           18139  \n",
       "1396                  10     NaN    pupper           1195            3053  \n",
       "1745                  10     Cal       NaN            231             833  \n",
       "239                   10     Ava    pupper           3337           16037  \n",
       "341                   10     NaN     doggo           5607           14305  "
      ]
     },
     "execution_count": 258,
     "metadata": {},
     "output_type": "execute_result"
    }
   ],
   "source": [
    "tweets_combined_clean.sample(5)"
   ]
  },
  {
   "cell_type": "code",
   "execution_count": 259,
   "metadata": {},
   "outputs": [],
   "source": [
    "tweets_combined_clean = pd.merge(tweets_combined_clean, image_pred_clean , how = 'inner', on = 'tweet_id')"
   ]
  },
  {
   "cell_type": "code",
   "execution_count": 260,
   "metadata": {},
   "outputs": [
    {
     "name": "stdout",
     "output_type": "stream",
     "text": [
      "<class 'pandas.core.frame.DataFrame'>\n",
      "Int64Index: 1955 entries, 0 to 1954\n",
      "Data columns (total 22 columns):\n",
      " #   Column              Non-Null Count  Dtype              \n",
      "---  ------              --------------  -----              \n",
      " 0   tweet_id            1955 non-null   object             \n",
      " 1   timestamp           1955 non-null   datetime64[ns, UTC]\n",
      " 2   source              1955 non-null   object             \n",
      " 3   text                1955 non-null   object             \n",
      " 4   expanded_urls       1955 non-null   object             \n",
      " 5   rating_numerator    1955 non-null   int64              \n",
      " 6   rating_denominator  1955 non-null   int64              \n",
      " 7   name                1389 non-null   object             \n",
      " 8   dog_stage           303 non-null    object             \n",
      " 9   retweet_count       1955 non-null   int64              \n",
      " 10  favorite_count      1955 non-null   int64              \n",
      " 11  jpg_url             1955 non-null   object             \n",
      " 12  img_num             1955 non-null   int64              \n",
      " 13  p1                  1955 non-null   object             \n",
      " 14  p1_conf             1955 non-null   float64            \n",
      " 15  p1_dog              1955 non-null   bool               \n",
      " 16  p2                  1955 non-null   object             \n",
      " 17  p2_conf             1955 non-null   float64            \n",
      " 18  p2_dog              1955 non-null   bool               \n",
      " 19  p3                  1955 non-null   object             \n",
      " 20  p3_conf             1955 non-null   float64            \n",
      " 21  p3_dog              1955 non-null   bool               \n",
      "dtypes: bool(3), datetime64[ns, UTC](1), float64(3), int64(5), object(10)\n",
      "memory usage: 311.2+ KB\n"
     ]
    }
   ],
   "source": [
    "tweets_combined_clean.info()"
   ]
  },
  {
   "cell_type": "code",
   "execution_count": 261,
   "metadata": {},
   "outputs": [
    {
     "data": {
      "text/plain": [
       "10    1955\n",
       "Name: rating_denominator, dtype: int64"
      ]
     },
     "execution_count": 261,
     "metadata": {},
     "output_type": "execute_result"
    }
   ],
   "source": [
    "# since we have all rating_denominator values 10 I'll drop this column \n",
    "tweets_combined_clean['rating_denominator'].value_counts()"
   ]
  },
  {
   "cell_type": "code",
   "execution_count": 262,
   "metadata": {},
   "outputs": [],
   "source": [
    "tweets_combined_clean = tweets_combined_clean.drop('rating_denominator' , axis = 1)"
   ]
  },
  {
   "cell_type": "code",
   "execution_count": 263,
   "metadata": {},
   "outputs": [
    {
     "data": {
      "text/plain": [
       "(1955, 21)"
      ]
     },
     "execution_count": 263,
     "metadata": {},
     "output_type": "execute_result"
    }
   ],
   "source": [
    "tweets_combined_clean.shape"
   ]
  },
  {
   "cell_type": "code",
   "execution_count": 264,
   "metadata": {},
   "outputs": [
    {
     "data": {
      "text/html": [
       "<div>\n",
       "<style scoped>\n",
       "    .dataframe tbody tr th:only-of-type {\n",
       "        vertical-align: middle;\n",
       "    }\n",
       "\n",
       "    .dataframe tbody tr th {\n",
       "        vertical-align: top;\n",
       "    }\n",
       "\n",
       "    .dataframe thead th {\n",
       "        text-align: right;\n",
       "    }\n",
       "</style>\n",
       "<table border=\"1\" class=\"dataframe\">\n",
       "  <thead>\n",
       "    <tr style=\"text-align: right;\">\n",
       "      <th></th>\n",
       "      <th>rating_numerator</th>\n",
       "      <th>retweet_count</th>\n",
       "      <th>favorite_count</th>\n",
       "      <th>img_num</th>\n",
       "      <th>p1_conf</th>\n",
       "      <th>p2_conf</th>\n",
       "      <th>p3_conf</th>\n",
       "    </tr>\n",
       "  </thead>\n",
       "  <tbody>\n",
       "    <tr>\n",
       "      <th>count</th>\n",
       "      <td>1955.00000</td>\n",
       "      <td>1955.000000</td>\n",
       "      <td>1955.000000</td>\n",
       "      <td>1955.000000</td>\n",
       "      <td>1955.000000</td>\n",
       "      <td>1.955000e+03</td>\n",
       "      <td>1.955000e+03</td>\n",
       "    </tr>\n",
       "    <tr>\n",
       "      <th>mean</th>\n",
       "      <td>10.53913</td>\n",
       "      <td>2793.100256</td>\n",
       "      <td>8984.221483</td>\n",
       "      <td>1.203069</td>\n",
       "      <td>0.594411</td>\n",
       "      <td>1.350060e-01</td>\n",
       "      <td>6.023112e-02</td>\n",
       "    </tr>\n",
       "    <tr>\n",
       "      <th>std</th>\n",
       "      <td>2.17313</td>\n",
       "      <td>4714.904108</td>\n",
       "      <td>12309.268943</td>\n",
       "      <td>0.560734</td>\n",
       "      <td>0.272245</td>\n",
       "      <td>1.012242e-01</td>\n",
       "      <td>5.108010e-02</td>\n",
       "    </tr>\n",
       "    <tr>\n",
       "      <th>min</th>\n",
       "      <td>0.00000</td>\n",
       "      <td>16.000000</td>\n",
       "      <td>81.000000</td>\n",
       "      <td>1.000000</td>\n",
       "      <td>0.044333</td>\n",
       "      <td>1.011300e-08</td>\n",
       "      <td>1.740170e-10</td>\n",
       "    </tr>\n",
       "    <tr>\n",
       "      <th>25%</th>\n",
       "      <td>10.00000</td>\n",
       "      <td>623.500000</td>\n",
       "      <td>1964.000000</td>\n",
       "      <td>1.000000</td>\n",
       "      <td>0.362715</td>\n",
       "      <td>5.370120e-02</td>\n",
       "      <td>1.600860e-02</td>\n",
       "    </tr>\n",
       "    <tr>\n",
       "      <th>50%</th>\n",
       "      <td>11.00000</td>\n",
       "      <td>1366.000000</td>\n",
       "      <td>4147.000000</td>\n",
       "      <td>1.000000</td>\n",
       "      <td>0.587764</td>\n",
       "      <td>1.180890e-01</td>\n",
       "      <td>4.934910e-02</td>\n",
       "    </tr>\n",
       "    <tr>\n",
       "      <th>75%</th>\n",
       "      <td>12.00000</td>\n",
       "      <td>3246.500000</td>\n",
       "      <td>11459.500000</td>\n",
       "      <td>1.000000</td>\n",
       "      <td>0.847139</td>\n",
       "      <td>1.963605e-01</td>\n",
       "      <td>9.164355e-02</td>\n",
       "    </tr>\n",
       "    <tr>\n",
       "      <th>max</th>\n",
       "      <td>14.00000</td>\n",
       "      <td>79515.000000</td>\n",
       "      <td>132810.000000</td>\n",
       "      <td>4.000000</td>\n",
       "      <td>1.000000</td>\n",
       "      <td>4.880140e-01</td>\n",
       "      <td>2.734190e-01</td>\n",
       "    </tr>\n",
       "  </tbody>\n",
       "</table>\n",
       "</div>"
      ],
      "text/plain": [
       "       rating_numerator  retweet_count  favorite_count      img_num  \\\n",
       "count        1955.00000    1955.000000     1955.000000  1955.000000   \n",
       "mean           10.53913    2793.100256     8984.221483     1.203069   \n",
       "std             2.17313    4714.904108    12309.268943     0.560734   \n",
       "min             0.00000      16.000000       81.000000     1.000000   \n",
       "25%            10.00000     623.500000     1964.000000     1.000000   \n",
       "50%            11.00000    1366.000000     4147.000000     1.000000   \n",
       "75%            12.00000    3246.500000    11459.500000     1.000000   \n",
       "max            14.00000   79515.000000   132810.000000     4.000000   \n",
       "\n",
       "           p1_conf       p2_conf       p3_conf  \n",
       "count  1955.000000  1.955000e+03  1.955000e+03  \n",
       "mean      0.594411  1.350060e-01  6.023112e-02  \n",
       "std       0.272245  1.012242e-01  5.108010e-02  \n",
       "min       0.044333  1.011300e-08  1.740170e-10  \n",
       "25%       0.362715  5.370120e-02  1.600860e-02  \n",
       "50%       0.587764  1.180890e-01  4.934910e-02  \n",
       "75%       0.847139  1.963605e-01  9.164355e-02  \n",
       "max       1.000000  4.880140e-01  2.734190e-01  "
      ]
     },
     "execution_count": 264,
     "metadata": {},
     "output_type": "execute_result"
    }
   ],
   "source": [
    "tweets_combined_clean.describe()"
   ]
  },
  {
   "cell_type": "code",
   "execution_count": 265,
   "metadata": {},
   "outputs": [
    {
     "data": {
      "text/html": [
       "<div>\n",
       "<style scoped>\n",
       "    .dataframe tbody tr th:only-of-type {\n",
       "        vertical-align: middle;\n",
       "    }\n",
       "\n",
       "    .dataframe tbody tr th {\n",
       "        vertical-align: top;\n",
       "    }\n",
       "\n",
       "    .dataframe thead th {\n",
       "        text-align: right;\n",
       "    }\n",
       "</style>\n",
       "<table border=\"1\" class=\"dataframe\">\n",
       "  <thead>\n",
       "    <tr style=\"text-align: right;\">\n",
       "      <th></th>\n",
       "      <th>tweet_id</th>\n",
       "      <th>timestamp</th>\n",
       "      <th>source</th>\n",
       "      <th>text</th>\n",
       "      <th>expanded_urls</th>\n",
       "      <th>rating_numerator</th>\n",
       "      <th>name</th>\n",
       "      <th>dog_stage</th>\n",
       "      <th>retweet_count</th>\n",
       "      <th>favorite_count</th>\n",
       "      <th>...</th>\n",
       "      <th>img_num</th>\n",
       "      <th>p1</th>\n",
       "      <th>p1_conf</th>\n",
       "      <th>p1_dog</th>\n",
       "      <th>p2</th>\n",
       "      <th>p2_conf</th>\n",
       "      <th>p2_dog</th>\n",
       "      <th>p3</th>\n",
       "      <th>p3_conf</th>\n",
       "      <th>p3_dog</th>\n",
       "    </tr>\n",
       "  </thead>\n",
       "  <tbody>\n",
       "    <tr>\n",
       "      <th>232</th>\n",
       "      <td>835152434251116546</td>\n",
       "      <td>2017-02-24 15:40:31+00:00</td>\n",
       "      <td>Twitter for iPhone</td>\n",
       "      <td>When you're so blinded by your systematic plag...</td>\n",
       "      <td>https://twitter.com/dog_rates/status/835152434...</td>\n",
       "      <td>0</td>\n",
       "      <td>NaN</td>\n",
       "      <td>NaN</td>\n",
       "      <td>3443</td>\n",
       "      <td>24574</td>\n",
       "      <td>...</td>\n",
       "      <td>3</td>\n",
       "      <td>swing</td>\n",
       "      <td>0.967066</td>\n",
       "      <td>False</td>\n",
       "      <td>american_staffordshire_terrier</td>\n",
       "      <td>0.012731</td>\n",
       "      <td>True</td>\n",
       "      <td>staffordshire_bullterrier</td>\n",
       "      <td>0.007039</td>\n",
       "      <td>True</td>\n",
       "    </tr>\n",
       "  </tbody>\n",
       "</table>\n",
       "<p>1 rows × 21 columns</p>\n",
       "</div>"
      ],
      "text/plain": [
       "               tweet_id                 timestamp              source  \\\n",
       "232  835152434251116546 2017-02-24 15:40:31+00:00  Twitter for iPhone   \n",
       "\n",
       "                                                  text  \\\n",
       "232  When you're so blinded by your systematic plag...   \n",
       "\n",
       "                                         expanded_urls  rating_numerator name  \\\n",
       "232  https://twitter.com/dog_rates/status/835152434...                 0  NaN   \n",
       "\n",
       "    dog_stage  retweet_count  favorite_count  ... img_num     p1   p1_conf  \\\n",
       "232       NaN           3443           24574  ...       3  swing  0.967066   \n",
       "\n",
       "     p1_dog                              p2   p2_conf  p2_dog  \\\n",
       "232   False  american_staffordshire_terrier  0.012731    True   \n",
       "\n",
       "                            p3   p3_conf  p3_dog  \n",
       "232  staffordshire_bullterrier  0.007039    True  \n",
       "\n",
       "[1 rows x 21 columns]"
      ]
     },
     "execution_count": 265,
     "metadata": {},
     "output_type": "execute_result"
    }
   ],
   "source": [
    "# Here I noticed that we still have zero value for rating_numerator so I'll check which tweet_id and if we can enter the value \\\n",
    "# manually \n",
    "\n",
    "tweets_combined_clean[tweets_combined_clean['rating_numerator'] == 0]"
   ]
  },
  {
   "cell_type": "code",
   "execution_count": 266,
   "metadata": {},
   "outputs": [],
   "source": [
    "# Here I checked the tweet itself on twitter and the rate given was really zero so I'll drop this row \n",
    "\n",
    "tweets_combined_clean = tweets_combined_clean[tweets_combined_clean['rating_numerator'] != 0]"
   ]
  },
  {
   "cell_type": "code",
   "execution_count": 267,
   "metadata": {},
   "outputs": [
    {
     "data": {
      "text/plain": [
       "(1954, 21)"
      ]
     },
     "execution_count": 267,
     "metadata": {},
     "output_type": "execute_result"
    }
   ],
   "source": [
    "tweets_combined_clean.shape"
   ]
  },
  {
   "cell_type": "markdown",
   "metadata": {},
   "source": [
    "### Re-asseses & Re-clean for `tweets_cmbined_clean`"
   ]
  },
  {
   "cell_type": "markdown",
   "metadata": {},
   "source": [
    "###### I just noticed I haven't paid much attenion to `image_pred_clean` table but as far as I rememeber and as what I mentioned earlier there were some dog breeds (i.e website, orange and many more) which don't belong to dog breed so I expect that will result in False prediction , therefore I won't inculde these rows in my analysis here , I do believe that we need to do more data gathring to get these breeds right but due to limited time I am going  just to drop them."
   ]
  },
  {
   "cell_type": "code",
   "execution_count": 268,
   "metadata": {},
   "outputs": [
    {
     "data": {
      "text/html": [
       "<div>\n",
       "<style scoped>\n",
       "    .dataframe tbody tr th:only-of-type {\n",
       "        vertical-align: middle;\n",
       "    }\n",
       "\n",
       "    .dataframe tbody tr th {\n",
       "        vertical-align: top;\n",
       "    }\n",
       "\n",
       "    .dataframe thead th {\n",
       "        text-align: right;\n",
       "    }\n",
       "</style>\n",
       "<table border=\"1\" class=\"dataframe\">\n",
       "  <thead>\n",
       "    <tr style=\"text-align: right;\">\n",
       "      <th></th>\n",
       "      <th>tweet_id</th>\n",
       "      <th>timestamp</th>\n",
       "      <th>source</th>\n",
       "      <th>text</th>\n",
       "      <th>expanded_urls</th>\n",
       "      <th>rating_numerator</th>\n",
       "      <th>name</th>\n",
       "      <th>dog_stage</th>\n",
       "      <th>retweet_count</th>\n",
       "      <th>favorite_count</th>\n",
       "      <th>...</th>\n",
       "      <th>img_num</th>\n",
       "      <th>p1</th>\n",
       "      <th>p1_conf</th>\n",
       "      <th>p1_dog</th>\n",
       "      <th>p2</th>\n",
       "      <th>p2_conf</th>\n",
       "      <th>p2_dog</th>\n",
       "      <th>p3</th>\n",
       "      <th>p3_conf</th>\n",
       "      <th>p3_dog</th>\n",
       "    </tr>\n",
       "  </thead>\n",
       "  <tbody>\n",
       "    <tr>\n",
       "      <th>0</th>\n",
       "      <td>892420643555336193</td>\n",
       "      <td>2017-08-01 16:23:56+00:00</td>\n",
       "      <td>Twitter for iPhone</td>\n",
       "      <td>This is Phineas. He's a mystical boy. Only eve...</td>\n",
       "      <td>https://twitter.com/dog_rates/status/892420643...</td>\n",
       "      <td>13</td>\n",
       "      <td>Phineas</td>\n",
       "      <td>NaN</td>\n",
       "      <td>8853</td>\n",
       "      <td>39467</td>\n",
       "      <td>...</td>\n",
       "      <td>1</td>\n",
       "      <td>orange</td>\n",
       "      <td>0.097049</td>\n",
       "      <td>False</td>\n",
       "      <td>bagel</td>\n",
       "      <td>0.085851</td>\n",
       "      <td>False</td>\n",
       "      <td>banana</td>\n",
       "      <td>0.076110</td>\n",
       "      <td>False</td>\n",
       "    </tr>\n",
       "    <tr>\n",
       "      <th>21</th>\n",
       "      <td>887517139158093824</td>\n",
       "      <td>2017-07-19 03:39:09+00:00</td>\n",
       "      <td>Twitter for iPhone</td>\n",
       "      <td>I've yet to rate a Venezuelan Hover Wiener. Th...</td>\n",
       "      <td>https://twitter.com/dog_rates/status/887517139...</td>\n",
       "      <td>14</td>\n",
       "      <td>Noneuch</td>\n",
       "      <td>NaN</td>\n",
       "      <td>12082</td>\n",
       "      <td>46959</td>\n",
       "      <td>...</td>\n",
       "      <td>1</td>\n",
       "      <td>limousine</td>\n",
       "      <td>0.130432</td>\n",
       "      <td>False</td>\n",
       "      <td>tow_truck</td>\n",
       "      <td>0.029175</td>\n",
       "      <td>False</td>\n",
       "      <td>shopping_cart</td>\n",
       "      <td>0.026321</td>\n",
       "      <td>False</td>\n",
       "    </tr>\n",
       "    <tr>\n",
       "      <th>27</th>\n",
       "      <td>886680336477933568</td>\n",
       "      <td>2017-07-16 20:14:00+00:00</td>\n",
       "      <td>Twitter for iPhone</td>\n",
       "      <td>This is Derek. He's late for a dog meeting. 13...</td>\n",
       "      <td>https://twitter.com/dog_rates/status/886680336...</td>\n",
       "      <td>13</td>\n",
       "      <td>Derek</td>\n",
       "      <td>NaN</td>\n",
       "      <td>4610</td>\n",
       "      <td>22798</td>\n",
       "      <td>...</td>\n",
       "      <td>1</td>\n",
       "      <td>convertible</td>\n",
       "      <td>0.738995</td>\n",
       "      <td>False</td>\n",
       "      <td>sports_car</td>\n",
       "      <td>0.139952</td>\n",
       "      <td>False</td>\n",
       "      <td>car_wheel</td>\n",
       "      <td>0.044173</td>\n",
       "      <td>False</td>\n",
       "    </tr>\n",
       "    <tr>\n",
       "      <th>50</th>\n",
       "      <td>881268444196462592</td>\n",
       "      <td>2017-07-01 21:49:04+00:00</td>\n",
       "      <td>Twitter for iPhone</td>\n",
       "      <td>Meet Elliot. He's a Canadian Forrest Pup. Unus...</td>\n",
       "      <td>https://twitter.com/dog_rates/status/881268444...</td>\n",
       "      <td>12</td>\n",
       "      <td>Elliot</td>\n",
       "      <td>NaN</td>\n",
       "      <td>5358</td>\n",
       "      <td>23501</td>\n",
       "      <td>...</td>\n",
       "      <td>1</td>\n",
       "      <td>tusker</td>\n",
       "      <td>0.473303</td>\n",
       "      <td>False</td>\n",
       "      <td>indian_elephant</td>\n",
       "      <td>0.245646</td>\n",
       "      <td>False</td>\n",
       "      <td>ibex</td>\n",
       "      <td>0.055661</td>\n",
       "      <td>False</td>\n",
       "    </tr>\n",
       "    <tr>\n",
       "      <th>51</th>\n",
       "      <td>880935762899988482</td>\n",
       "      <td>2017-06-30 23:47:07+00:00</td>\n",
       "      <td>Twitter for iPhone</td>\n",
       "      <td>This is Louis. He's crossing. It's a big deal....</td>\n",
       "      <td>https://twitter.com/dog_rates/status/880935762...</td>\n",
       "      <td>13</td>\n",
       "      <td>Louis</td>\n",
       "      <td>NaN</td>\n",
       "      <td>2886</td>\n",
       "      <td>17346</td>\n",
       "      <td>...</td>\n",
       "      <td>1</td>\n",
       "      <td>street_sign</td>\n",
       "      <td>0.251801</td>\n",
       "      <td>False</td>\n",
       "      <td>umbrella</td>\n",
       "      <td>0.115123</td>\n",
       "      <td>False</td>\n",
       "      <td>traffic_light</td>\n",
       "      <td>0.069534</td>\n",
       "      <td>False</td>\n",
       "    </tr>\n",
       "    <tr>\n",
       "      <th>...</th>\n",
       "      <td>...</td>\n",
       "      <td>...</td>\n",
       "      <td>...</td>\n",
       "      <td>...</td>\n",
       "      <td>...</td>\n",
       "      <td>...</td>\n",
       "      <td>...</td>\n",
       "      <td>...</td>\n",
       "      <td>...</td>\n",
       "      <td>...</td>\n",
       "      <td>...</td>\n",
       "      <td>...</td>\n",
       "      <td>...</td>\n",
       "      <td>...</td>\n",
       "      <td>...</td>\n",
       "      <td>...</td>\n",
       "      <td>...</td>\n",
       "      <td>...</td>\n",
       "      <td>...</td>\n",
       "      <td>...</td>\n",
       "      <td>...</td>\n",
       "    </tr>\n",
       "    <tr>\n",
       "      <th>1929</th>\n",
       "      <td>666362758909284353</td>\n",
       "      <td>2015-11-16 21:10:36+00:00</td>\n",
       "      <td>Twitter for iPhone</td>\n",
       "      <td>Unique dog here. Very small. Lives in containe...</td>\n",
       "      <td>https://twitter.com/dog_rates/status/666362758...</td>\n",
       "      <td>6</td>\n",
       "      <td>NaN</td>\n",
       "      <td>NaN</td>\n",
       "      <td>595</td>\n",
       "      <td>804</td>\n",
       "      <td>...</td>\n",
       "      <td>1</td>\n",
       "      <td>guinea_pig</td>\n",
       "      <td>0.996496</td>\n",
       "      <td>False</td>\n",
       "      <td>skunk</td>\n",
       "      <td>0.002402</td>\n",
       "      <td>False</td>\n",
       "      <td>hamster</td>\n",
       "      <td>0.000461</td>\n",
       "      <td>False</td>\n",
       "    </tr>\n",
       "    <tr>\n",
       "      <th>1933</th>\n",
       "      <td>666293911632134144</td>\n",
       "      <td>2015-11-16 16:37:02+00:00</td>\n",
       "      <td>Twitter for iPhone</td>\n",
       "      <td>This is a funny dog. Weird toes. Won't come do...</td>\n",
       "      <td>https://twitter.com/dog_rates/status/666293911...</td>\n",
       "      <td>3</td>\n",
       "      <td>NaN</td>\n",
       "      <td>NaN</td>\n",
       "      <td>368</td>\n",
       "      <td>522</td>\n",
       "      <td>...</td>\n",
       "      <td>1</td>\n",
       "      <td>three-toed_sloth</td>\n",
       "      <td>0.914671</td>\n",
       "      <td>False</td>\n",
       "      <td>otter</td>\n",
       "      <td>0.015250</td>\n",
       "      <td>False</td>\n",
       "      <td>great_grey_owl</td>\n",
       "      <td>0.013207</td>\n",
       "      <td>False</td>\n",
       "    </tr>\n",
       "    <tr>\n",
       "      <th>1936</th>\n",
       "      <td>666268910803644416</td>\n",
       "      <td>2015-11-16 14:57:41+00:00</td>\n",
       "      <td>Twitter for iPhone</td>\n",
       "      <td>Very concerned about fellow dog trapped in com...</td>\n",
       "      <td>https://twitter.com/dog_rates/status/666268910...</td>\n",
       "      <td>10</td>\n",
       "      <td>NaN</td>\n",
       "      <td>NaN</td>\n",
       "      <td>37</td>\n",
       "      <td>108</td>\n",
       "      <td>...</td>\n",
       "      <td>1</td>\n",
       "      <td>desktop_computer</td>\n",
       "      <td>0.086502</td>\n",
       "      <td>False</td>\n",
       "      <td>desk</td>\n",
       "      <td>0.085547</td>\n",
       "      <td>False</td>\n",
       "      <td>bookcase</td>\n",
       "      <td>0.079480</td>\n",
       "      <td>False</td>\n",
       "    </tr>\n",
       "    <tr>\n",
       "      <th>1937</th>\n",
       "      <td>666104133288665088</td>\n",
       "      <td>2015-11-16 04:02:55+00:00</td>\n",
       "      <td>Twitter for iPhone</td>\n",
       "      <td>Not familiar with this breed. No tail (weird)....</td>\n",
       "      <td>https://twitter.com/dog_rates/status/666104133...</td>\n",
       "      <td>1</td>\n",
       "      <td>NaN</td>\n",
       "      <td>NaN</td>\n",
       "      <td>6871</td>\n",
       "      <td>14765</td>\n",
       "      <td>...</td>\n",
       "      <td>1</td>\n",
       "      <td>hen</td>\n",
       "      <td>0.965932</td>\n",
       "      <td>False</td>\n",
       "      <td>cock</td>\n",
       "      <td>0.033919</td>\n",
       "      <td>False</td>\n",
       "      <td>partridge</td>\n",
       "      <td>0.000052</td>\n",
       "      <td>False</td>\n",
       "    </tr>\n",
       "    <tr>\n",
       "      <th>1948</th>\n",
       "      <td>666051853826850816</td>\n",
       "      <td>2015-11-16 00:35:11+00:00</td>\n",
       "      <td>Twitter for iPhone</td>\n",
       "      <td>This is an odd dog. Hard on the outside but lo...</td>\n",
       "      <td>https://twitter.com/dog_rates/status/666051853...</td>\n",
       "      <td>2</td>\n",
       "      <td>Nonen</td>\n",
       "      <td>NaN</td>\n",
       "      <td>879</td>\n",
       "      <td>1253</td>\n",
       "      <td>...</td>\n",
       "      <td>1</td>\n",
       "      <td>box_turtle</td>\n",
       "      <td>0.933012</td>\n",
       "      <td>False</td>\n",
       "      <td>mud_turtle</td>\n",
       "      <td>0.045885</td>\n",
       "      <td>False</td>\n",
       "      <td>terrapin</td>\n",
       "      <td>0.017885</td>\n",
       "      <td>False</td>\n",
       "    </tr>\n",
       "  </tbody>\n",
       "</table>\n",
       "<p>302 rows × 21 columns</p>\n",
       "</div>"
      ],
      "text/plain": [
       "                tweet_id                 timestamp              source  \\\n",
       "0     892420643555336193 2017-08-01 16:23:56+00:00  Twitter for iPhone   \n",
       "21    887517139158093824 2017-07-19 03:39:09+00:00  Twitter for iPhone   \n",
       "27    886680336477933568 2017-07-16 20:14:00+00:00  Twitter for iPhone   \n",
       "50    881268444196462592 2017-07-01 21:49:04+00:00  Twitter for iPhone   \n",
       "51    880935762899988482 2017-06-30 23:47:07+00:00  Twitter for iPhone   \n",
       "...                  ...                       ...                 ...   \n",
       "1929  666362758909284353 2015-11-16 21:10:36+00:00  Twitter for iPhone   \n",
       "1933  666293911632134144 2015-11-16 16:37:02+00:00  Twitter for iPhone   \n",
       "1936  666268910803644416 2015-11-16 14:57:41+00:00  Twitter for iPhone   \n",
       "1937  666104133288665088 2015-11-16 04:02:55+00:00  Twitter for iPhone   \n",
       "1948  666051853826850816 2015-11-16 00:35:11+00:00  Twitter for iPhone   \n",
       "\n",
       "                                                   text  \\\n",
       "0     This is Phineas. He's a mystical boy. Only eve...   \n",
       "21    I've yet to rate a Venezuelan Hover Wiener. Th...   \n",
       "27    This is Derek. He's late for a dog meeting. 13...   \n",
       "50    Meet Elliot. He's a Canadian Forrest Pup. Unus...   \n",
       "51    This is Louis. He's crossing. It's a big deal....   \n",
       "...                                                 ...   \n",
       "1929  Unique dog here. Very small. Lives in containe...   \n",
       "1933  This is a funny dog. Weird toes. Won't come do...   \n",
       "1936  Very concerned about fellow dog trapped in com...   \n",
       "1937  Not familiar with this breed. No tail (weird)....   \n",
       "1948  This is an odd dog. Hard on the outside but lo...   \n",
       "\n",
       "                                          expanded_urls  rating_numerator  \\\n",
       "0     https://twitter.com/dog_rates/status/892420643...                13   \n",
       "21    https://twitter.com/dog_rates/status/887517139...                14   \n",
       "27    https://twitter.com/dog_rates/status/886680336...                13   \n",
       "50    https://twitter.com/dog_rates/status/881268444...                12   \n",
       "51    https://twitter.com/dog_rates/status/880935762...                13   \n",
       "...                                                 ...               ...   \n",
       "1929  https://twitter.com/dog_rates/status/666362758...                 6   \n",
       "1933  https://twitter.com/dog_rates/status/666293911...                 3   \n",
       "1936  https://twitter.com/dog_rates/status/666268910...                10   \n",
       "1937  https://twitter.com/dog_rates/status/666104133...                 1   \n",
       "1948  https://twitter.com/dog_rates/status/666051853...                 2   \n",
       "\n",
       "         name dog_stage  retweet_count  favorite_count  ... img_num  \\\n",
       "0     Phineas       NaN           8853           39467  ...       1   \n",
       "21    Noneuch       NaN          12082           46959  ...       1   \n",
       "27      Derek       NaN           4610           22798  ...       1   \n",
       "50     Elliot       NaN           5358           23501  ...       1   \n",
       "51      Louis       NaN           2886           17346  ...       1   \n",
       "...       ...       ...            ...             ...  ...     ...   \n",
       "1929      NaN       NaN            595             804  ...       1   \n",
       "1933      NaN       NaN            368             522  ...       1   \n",
       "1936      NaN       NaN             37             108  ...       1   \n",
       "1937      NaN       NaN           6871           14765  ...       1   \n",
       "1948    Nonen       NaN            879            1253  ...       1   \n",
       "\n",
       "                    p1   p1_conf  p1_dog               p2   p2_conf  p2_dog  \\\n",
       "0               orange  0.097049   False            bagel  0.085851   False   \n",
       "21           limousine  0.130432   False        tow_truck  0.029175   False   \n",
       "27         convertible  0.738995   False       sports_car  0.139952   False   \n",
       "50              tusker  0.473303   False  indian_elephant  0.245646   False   \n",
       "51         street_sign  0.251801   False         umbrella  0.115123   False   \n",
       "...                ...       ...     ...              ...       ...     ...   \n",
       "1929        guinea_pig  0.996496   False            skunk  0.002402   False   \n",
       "1933  three-toed_sloth  0.914671   False            otter  0.015250   False   \n",
       "1936  desktop_computer  0.086502   False             desk  0.085547   False   \n",
       "1937               hen  0.965932   False             cock  0.033919   False   \n",
       "1948        box_turtle  0.933012   False       mud_turtle  0.045885   False   \n",
       "\n",
       "                  p3   p3_conf  p3_dog  \n",
       "0             banana  0.076110   False  \n",
       "21     shopping_cart  0.026321   False  \n",
       "27         car_wheel  0.044173   False  \n",
       "50              ibex  0.055661   False  \n",
       "51     traffic_light  0.069534   False  \n",
       "...              ...       ...     ...  \n",
       "1929         hamster  0.000461   False  \n",
       "1933  great_grey_owl  0.013207   False  \n",
       "1936        bookcase  0.079480   False  \n",
       "1937       partridge  0.000052   False  \n",
       "1948        terrapin  0.017885   False  \n",
       "\n",
       "[302 rows x 21 columns]"
      ]
     },
     "execution_count": 268,
     "metadata": {},
     "output_type": "execute_result"
    }
   ],
   "source": [
    "tweets_combined_clean.query('p1_dog == False & p2_dog == False & p3_dog == False')"
   ]
  },
  {
   "cell_type": "code",
   "execution_count": 269,
   "metadata": {
    "scrolled": false
   },
   "outputs": [
    {
     "data": {
      "text/html": [
       "<div>\n",
       "<style scoped>\n",
       "    .dataframe tbody tr th:only-of-type {\n",
       "        vertical-align: middle;\n",
       "    }\n",
       "\n",
       "    .dataframe tbody tr th {\n",
       "        vertical-align: top;\n",
       "    }\n",
       "\n",
       "    .dataframe thead th {\n",
       "        text-align: right;\n",
       "    }\n",
       "</style>\n",
       "<table border=\"1\" class=\"dataframe\">\n",
       "  <thead>\n",
       "    <tr style=\"text-align: right;\">\n",
       "      <th></th>\n",
       "      <th>tweet_id</th>\n",
       "      <th>timestamp</th>\n",
       "      <th>source</th>\n",
       "      <th>text</th>\n",
       "      <th>expanded_urls</th>\n",
       "      <th>rating_numerator</th>\n",
       "      <th>name</th>\n",
       "      <th>dog_stage</th>\n",
       "      <th>retweet_count</th>\n",
       "      <th>favorite_count</th>\n",
       "      <th>...</th>\n",
       "      <th>img_num</th>\n",
       "      <th>p1</th>\n",
       "      <th>p1_conf</th>\n",
       "      <th>p1_dog</th>\n",
       "      <th>p2</th>\n",
       "      <th>p2_conf</th>\n",
       "      <th>p2_dog</th>\n",
       "      <th>p3</th>\n",
       "      <th>p3_conf</th>\n",
       "      <th>p3_dog</th>\n",
       "    </tr>\n",
       "  </thead>\n",
       "  <tbody>\n",
       "    <tr>\n",
       "      <th>0</th>\n",
       "      <td>892420643555336193</td>\n",
       "      <td>2017-08-01 16:23:56+00:00</td>\n",
       "      <td>Twitter for iPhone</td>\n",
       "      <td>This is Phineas. He's a mystical boy. Only eve...</td>\n",
       "      <td>https://twitter.com/dog_rates/status/892420643...</td>\n",
       "      <td>13</td>\n",
       "      <td>Phineas</td>\n",
       "      <td>NaN</td>\n",
       "      <td>8853</td>\n",
       "      <td>39467</td>\n",
       "      <td>...</td>\n",
       "      <td>1</td>\n",
       "      <td>orange</td>\n",
       "      <td>0.097049</td>\n",
       "      <td>False</td>\n",
       "      <td>bagel</td>\n",
       "      <td>0.085851</td>\n",
       "      <td>False</td>\n",
       "      <td>banana</td>\n",
       "      <td>0.076110</td>\n",
       "      <td>False</td>\n",
       "    </tr>\n",
       "    <tr>\n",
       "      <th>21</th>\n",
       "      <td>887517139158093824</td>\n",
       "      <td>2017-07-19 03:39:09+00:00</td>\n",
       "      <td>Twitter for iPhone</td>\n",
       "      <td>I've yet to rate a Venezuelan Hover Wiener. Th...</td>\n",
       "      <td>https://twitter.com/dog_rates/status/887517139...</td>\n",
       "      <td>14</td>\n",
       "      <td>Noneuch</td>\n",
       "      <td>NaN</td>\n",
       "      <td>12082</td>\n",
       "      <td>46959</td>\n",
       "      <td>...</td>\n",
       "      <td>1</td>\n",
       "      <td>limousine</td>\n",
       "      <td>0.130432</td>\n",
       "      <td>False</td>\n",
       "      <td>tow_truck</td>\n",
       "      <td>0.029175</td>\n",
       "      <td>False</td>\n",
       "      <td>shopping_cart</td>\n",
       "      <td>0.026321</td>\n",
       "      <td>False</td>\n",
       "    </tr>\n",
       "    <tr>\n",
       "      <th>27</th>\n",
       "      <td>886680336477933568</td>\n",
       "      <td>2017-07-16 20:14:00+00:00</td>\n",
       "      <td>Twitter for iPhone</td>\n",
       "      <td>This is Derek. He's late for a dog meeting. 13...</td>\n",
       "      <td>https://twitter.com/dog_rates/status/886680336...</td>\n",
       "      <td>13</td>\n",
       "      <td>Derek</td>\n",
       "      <td>NaN</td>\n",
       "      <td>4610</td>\n",
       "      <td>22798</td>\n",
       "      <td>...</td>\n",
       "      <td>1</td>\n",
       "      <td>convertible</td>\n",
       "      <td>0.738995</td>\n",
       "      <td>False</td>\n",
       "      <td>sports_car</td>\n",
       "      <td>0.139952</td>\n",
       "      <td>False</td>\n",
       "      <td>car_wheel</td>\n",
       "      <td>0.044173</td>\n",
       "      <td>False</td>\n",
       "    </tr>\n",
       "    <tr>\n",
       "      <th>50</th>\n",
       "      <td>881268444196462592</td>\n",
       "      <td>2017-07-01 21:49:04+00:00</td>\n",
       "      <td>Twitter for iPhone</td>\n",
       "      <td>Meet Elliot. He's a Canadian Forrest Pup. Unus...</td>\n",
       "      <td>https://twitter.com/dog_rates/status/881268444...</td>\n",
       "      <td>12</td>\n",
       "      <td>Elliot</td>\n",
       "      <td>NaN</td>\n",
       "      <td>5358</td>\n",
       "      <td>23501</td>\n",
       "      <td>...</td>\n",
       "      <td>1</td>\n",
       "      <td>tusker</td>\n",
       "      <td>0.473303</td>\n",
       "      <td>False</td>\n",
       "      <td>indian_elephant</td>\n",
       "      <td>0.245646</td>\n",
       "      <td>False</td>\n",
       "      <td>ibex</td>\n",
       "      <td>0.055661</td>\n",
       "      <td>False</td>\n",
       "    </tr>\n",
       "    <tr>\n",
       "      <th>51</th>\n",
       "      <td>880935762899988482</td>\n",
       "      <td>2017-06-30 23:47:07+00:00</td>\n",
       "      <td>Twitter for iPhone</td>\n",
       "      <td>This is Louis. He's crossing. It's a big deal....</td>\n",
       "      <td>https://twitter.com/dog_rates/status/880935762...</td>\n",
       "      <td>13</td>\n",
       "      <td>Louis</td>\n",
       "      <td>NaN</td>\n",
       "      <td>2886</td>\n",
       "      <td>17346</td>\n",
       "      <td>...</td>\n",
       "      <td>1</td>\n",
       "      <td>street_sign</td>\n",
       "      <td>0.251801</td>\n",
       "      <td>False</td>\n",
       "      <td>umbrella</td>\n",
       "      <td>0.115123</td>\n",
       "      <td>False</td>\n",
       "      <td>traffic_light</td>\n",
       "      <td>0.069534</td>\n",
       "      <td>False</td>\n",
       "    </tr>\n",
       "    <tr>\n",
       "      <th>...</th>\n",
       "      <td>...</td>\n",
       "      <td>...</td>\n",
       "      <td>...</td>\n",
       "      <td>...</td>\n",
       "      <td>...</td>\n",
       "      <td>...</td>\n",
       "      <td>...</td>\n",
       "      <td>...</td>\n",
       "      <td>...</td>\n",
       "      <td>...</td>\n",
       "      <td>...</td>\n",
       "      <td>...</td>\n",
       "      <td>...</td>\n",
       "      <td>...</td>\n",
       "      <td>...</td>\n",
       "      <td>...</td>\n",
       "      <td>...</td>\n",
       "      <td>...</td>\n",
       "      <td>...</td>\n",
       "      <td>...</td>\n",
       "      <td>...</td>\n",
       "    </tr>\n",
       "    <tr>\n",
       "      <th>1929</th>\n",
       "      <td>666362758909284353</td>\n",
       "      <td>2015-11-16 21:10:36+00:00</td>\n",
       "      <td>Twitter for iPhone</td>\n",
       "      <td>Unique dog here. Very small. Lives in containe...</td>\n",
       "      <td>https://twitter.com/dog_rates/status/666362758...</td>\n",
       "      <td>6</td>\n",
       "      <td>NaN</td>\n",
       "      <td>NaN</td>\n",
       "      <td>595</td>\n",
       "      <td>804</td>\n",
       "      <td>...</td>\n",
       "      <td>1</td>\n",
       "      <td>guinea_pig</td>\n",
       "      <td>0.996496</td>\n",
       "      <td>False</td>\n",
       "      <td>skunk</td>\n",
       "      <td>0.002402</td>\n",
       "      <td>False</td>\n",
       "      <td>hamster</td>\n",
       "      <td>0.000461</td>\n",
       "      <td>False</td>\n",
       "    </tr>\n",
       "    <tr>\n",
       "      <th>1933</th>\n",
       "      <td>666293911632134144</td>\n",
       "      <td>2015-11-16 16:37:02+00:00</td>\n",
       "      <td>Twitter for iPhone</td>\n",
       "      <td>This is a funny dog. Weird toes. Won't come do...</td>\n",
       "      <td>https://twitter.com/dog_rates/status/666293911...</td>\n",
       "      <td>3</td>\n",
       "      <td>NaN</td>\n",
       "      <td>NaN</td>\n",
       "      <td>368</td>\n",
       "      <td>522</td>\n",
       "      <td>...</td>\n",
       "      <td>1</td>\n",
       "      <td>three-toed_sloth</td>\n",
       "      <td>0.914671</td>\n",
       "      <td>False</td>\n",
       "      <td>otter</td>\n",
       "      <td>0.015250</td>\n",
       "      <td>False</td>\n",
       "      <td>great_grey_owl</td>\n",
       "      <td>0.013207</td>\n",
       "      <td>False</td>\n",
       "    </tr>\n",
       "    <tr>\n",
       "      <th>1936</th>\n",
       "      <td>666268910803644416</td>\n",
       "      <td>2015-11-16 14:57:41+00:00</td>\n",
       "      <td>Twitter for iPhone</td>\n",
       "      <td>Very concerned about fellow dog trapped in com...</td>\n",
       "      <td>https://twitter.com/dog_rates/status/666268910...</td>\n",
       "      <td>10</td>\n",
       "      <td>NaN</td>\n",
       "      <td>NaN</td>\n",
       "      <td>37</td>\n",
       "      <td>108</td>\n",
       "      <td>...</td>\n",
       "      <td>1</td>\n",
       "      <td>desktop_computer</td>\n",
       "      <td>0.086502</td>\n",
       "      <td>False</td>\n",
       "      <td>desk</td>\n",
       "      <td>0.085547</td>\n",
       "      <td>False</td>\n",
       "      <td>bookcase</td>\n",
       "      <td>0.079480</td>\n",
       "      <td>False</td>\n",
       "    </tr>\n",
       "    <tr>\n",
       "      <th>1937</th>\n",
       "      <td>666104133288665088</td>\n",
       "      <td>2015-11-16 04:02:55+00:00</td>\n",
       "      <td>Twitter for iPhone</td>\n",
       "      <td>Not familiar with this breed. No tail (weird)....</td>\n",
       "      <td>https://twitter.com/dog_rates/status/666104133...</td>\n",
       "      <td>1</td>\n",
       "      <td>NaN</td>\n",
       "      <td>NaN</td>\n",
       "      <td>6871</td>\n",
       "      <td>14765</td>\n",
       "      <td>...</td>\n",
       "      <td>1</td>\n",
       "      <td>hen</td>\n",
       "      <td>0.965932</td>\n",
       "      <td>False</td>\n",
       "      <td>cock</td>\n",
       "      <td>0.033919</td>\n",
       "      <td>False</td>\n",
       "      <td>partridge</td>\n",
       "      <td>0.000052</td>\n",
       "      <td>False</td>\n",
       "    </tr>\n",
       "    <tr>\n",
       "      <th>1948</th>\n",
       "      <td>666051853826850816</td>\n",
       "      <td>2015-11-16 00:35:11+00:00</td>\n",
       "      <td>Twitter for iPhone</td>\n",
       "      <td>This is an odd dog. Hard on the outside but lo...</td>\n",
       "      <td>https://twitter.com/dog_rates/status/666051853...</td>\n",
       "      <td>2</td>\n",
       "      <td>Nonen</td>\n",
       "      <td>NaN</td>\n",
       "      <td>879</td>\n",
       "      <td>1253</td>\n",
       "      <td>...</td>\n",
       "      <td>1</td>\n",
       "      <td>box_turtle</td>\n",
       "      <td>0.933012</td>\n",
       "      <td>False</td>\n",
       "      <td>mud_turtle</td>\n",
       "      <td>0.045885</td>\n",
       "      <td>False</td>\n",
       "      <td>terrapin</td>\n",
       "      <td>0.017885</td>\n",
       "      <td>False</td>\n",
       "    </tr>\n",
       "  </tbody>\n",
       "</table>\n",
       "<p>302 rows × 21 columns</p>\n",
       "</div>"
      ],
      "text/plain": [
       "                tweet_id                 timestamp              source  \\\n",
       "0     892420643555336193 2017-08-01 16:23:56+00:00  Twitter for iPhone   \n",
       "21    887517139158093824 2017-07-19 03:39:09+00:00  Twitter for iPhone   \n",
       "27    886680336477933568 2017-07-16 20:14:00+00:00  Twitter for iPhone   \n",
       "50    881268444196462592 2017-07-01 21:49:04+00:00  Twitter for iPhone   \n",
       "51    880935762899988482 2017-06-30 23:47:07+00:00  Twitter for iPhone   \n",
       "...                  ...                       ...                 ...   \n",
       "1929  666362758909284353 2015-11-16 21:10:36+00:00  Twitter for iPhone   \n",
       "1933  666293911632134144 2015-11-16 16:37:02+00:00  Twitter for iPhone   \n",
       "1936  666268910803644416 2015-11-16 14:57:41+00:00  Twitter for iPhone   \n",
       "1937  666104133288665088 2015-11-16 04:02:55+00:00  Twitter for iPhone   \n",
       "1948  666051853826850816 2015-11-16 00:35:11+00:00  Twitter for iPhone   \n",
       "\n",
       "                                                   text  \\\n",
       "0     This is Phineas. He's a mystical boy. Only eve...   \n",
       "21    I've yet to rate a Venezuelan Hover Wiener. Th...   \n",
       "27    This is Derek. He's late for a dog meeting. 13...   \n",
       "50    Meet Elliot. He's a Canadian Forrest Pup. Unus...   \n",
       "51    This is Louis. He's crossing. It's a big deal....   \n",
       "...                                                 ...   \n",
       "1929  Unique dog here. Very small. Lives in containe...   \n",
       "1933  This is a funny dog. Weird toes. Won't come do...   \n",
       "1936  Very concerned about fellow dog trapped in com...   \n",
       "1937  Not familiar with this breed. No tail (weird)....   \n",
       "1948  This is an odd dog. Hard on the outside but lo...   \n",
       "\n",
       "                                          expanded_urls  rating_numerator  \\\n",
       "0     https://twitter.com/dog_rates/status/892420643...                13   \n",
       "21    https://twitter.com/dog_rates/status/887517139...                14   \n",
       "27    https://twitter.com/dog_rates/status/886680336...                13   \n",
       "50    https://twitter.com/dog_rates/status/881268444...                12   \n",
       "51    https://twitter.com/dog_rates/status/880935762...                13   \n",
       "...                                                 ...               ...   \n",
       "1929  https://twitter.com/dog_rates/status/666362758...                 6   \n",
       "1933  https://twitter.com/dog_rates/status/666293911...                 3   \n",
       "1936  https://twitter.com/dog_rates/status/666268910...                10   \n",
       "1937  https://twitter.com/dog_rates/status/666104133...                 1   \n",
       "1948  https://twitter.com/dog_rates/status/666051853...                 2   \n",
       "\n",
       "         name dog_stage  retweet_count  favorite_count  ... img_num  \\\n",
       "0     Phineas       NaN           8853           39467  ...       1   \n",
       "21    Noneuch       NaN          12082           46959  ...       1   \n",
       "27      Derek       NaN           4610           22798  ...       1   \n",
       "50     Elliot       NaN           5358           23501  ...       1   \n",
       "51      Louis       NaN           2886           17346  ...       1   \n",
       "...       ...       ...            ...             ...  ...     ...   \n",
       "1929      NaN       NaN            595             804  ...       1   \n",
       "1933      NaN       NaN            368             522  ...       1   \n",
       "1936      NaN       NaN             37             108  ...       1   \n",
       "1937      NaN       NaN           6871           14765  ...       1   \n",
       "1948    Nonen       NaN            879            1253  ...       1   \n",
       "\n",
       "                    p1   p1_conf  p1_dog               p2   p2_conf  p2_dog  \\\n",
       "0               orange  0.097049   False            bagel  0.085851   False   \n",
       "21           limousine  0.130432   False        tow_truck  0.029175   False   \n",
       "27         convertible  0.738995   False       sports_car  0.139952   False   \n",
       "50              tusker  0.473303   False  indian_elephant  0.245646   False   \n",
       "51         street_sign  0.251801   False         umbrella  0.115123   False   \n",
       "...                ...       ...     ...              ...       ...     ...   \n",
       "1929        guinea_pig  0.996496   False            skunk  0.002402   False   \n",
       "1933  three-toed_sloth  0.914671   False            otter  0.015250   False   \n",
       "1936  desktop_computer  0.086502   False             desk  0.085547   False   \n",
       "1937               hen  0.965932   False             cock  0.033919   False   \n",
       "1948        box_turtle  0.933012   False       mud_turtle  0.045885   False   \n",
       "\n",
       "                  p3   p3_conf  p3_dog  \n",
       "0             banana  0.076110   False  \n",
       "21     shopping_cart  0.026321   False  \n",
       "27         car_wheel  0.044173   False  \n",
       "50              ibex  0.055661   False  \n",
       "51     traffic_light  0.069534   False  \n",
       "...              ...       ...     ...  \n",
       "1929         hamster  0.000461   False  \n",
       "1933  great_grey_owl  0.013207   False  \n",
       "1936        bookcase  0.079480   False  \n",
       "1937       partridge  0.000052   False  \n",
       "1948        terrapin  0.017885   False  \n",
       "\n",
       "[302 rows x 21 columns]"
      ]
     },
     "execution_count": 269,
     "metadata": {},
     "output_type": "execute_result"
    }
   ],
   "source": [
    "tweets_combined_clean.query('p1_dog == False & p2_dog == False & p3_dog == False')"
   ]
  },
  {
   "cell_type": "markdown",
   "metadata": {},
   "source": [
    "**To make sure that every False result predicted was not a dog breed entry I created a list from each column of (p1,p2 and p3) and I put them in a python Set `set()` to make sure there is no duplicated values then I checked visually each single value we have and it turned out to me that these values was wrong data entry.** "
   ]
  },
  {
   "cell_type": "code",
   "execution_count": 270,
   "metadata": {},
   "outputs": [],
   "source": [
    "# Convert a column into list \n",
    "p1_list = tweets_combined_clean.query('p1_dog == False & p2_dog == False & p3_dog == False')['p1'].to_list()"
   ]
  },
  {
   "cell_type": "code",
   "execution_count": 271,
   "metadata": {},
   "outputs": [],
   "source": [
    "p2_list = tweets_combined_clean.query('p1_dog == False & p2_dog == False & p3_dog == False')['p2'].to_list()"
   ]
  },
  {
   "cell_type": "code",
   "execution_count": 272,
   "metadata": {},
   "outputs": [],
   "source": [
    "p3_list = tweets_combined_clean.query('p1_dog == False & p2_dog == False & p3_dog == False')['p3'].to_list()"
   ]
  },
  {
   "cell_type": "code",
   "execution_count": 273,
   "metadata": {},
   "outputs": [],
   "source": [
    "# create a set from the above lists : \n",
    "mul_lsts = [p1_list , p2_list, p3_list]\n",
    "results_uni = set().union(*mul_lsts)"
   ]
  },
  {
   "cell_type": "code",
   "execution_count": 274,
   "metadata": {},
   "outputs": [
    {
     "data": {
      "text/plain": [
       "434"
      ]
     },
     "execution_count": 274,
     "metadata": {},
     "output_type": "execute_result"
    }
   ],
   "source": [
    "len(results_uni)"
   ]
  },
  {
   "cell_type": "markdown",
   "metadata": {},
   "source": [
    "**I will create Seven different dataframes that have all the possibilities except(the simultaneous Falses above) , then I will combine them in one dataframe named `tweets_combined_clean_1`**"
   ]
  },
  {
   "cell_type": "code",
   "execution_count": 275,
   "metadata": {},
   "outputs": [
    {
     "data": {
      "text/plain": [
       "(1183, 21)"
      ]
     },
     "execution_count": 275,
     "metadata": {},
     "output_type": "execute_result"
    }
   ],
   "source": [
    "df_prop1 = tweets_combined_clean.query('p1_dog == True & p2_dog == True & p3_dog == True')\n",
    "df_prop1.shape"
   ]
  },
  {
   "cell_type": "code",
   "execution_count": 276,
   "metadata": {},
   "outputs": [
    {
     "data": {
      "text/plain": [
       "(142, 21)"
      ]
     },
     "execution_count": 276,
     "metadata": {},
     "output_type": "execute_result"
    }
   ],
   "source": [
    "df_prop2 = tweets_combined_clean.query('p1_dog == True & p2_dog == True & p3_dog == False')\n",
    "df_prop2.shape"
   ]
  },
  {
   "cell_type": "code",
   "execution_count": 277,
   "metadata": {},
   "outputs": [
    {
     "data": {
      "text/plain": [
       "(84, 21)"
      ]
     },
     "execution_count": 277,
     "metadata": {},
     "output_type": "execute_result"
    }
   ],
   "source": [
    "df_prop3 = tweets_combined_clean.query('p1_dog == True & p2_dog == False & p3_dog == True')\n",
    "df_prop3.shape"
   ]
  },
  {
   "cell_type": "code",
   "execution_count": 278,
   "metadata": {},
   "outputs": [
    {
     "data": {
      "text/plain": [
       "(59, 21)"
      ]
     },
     "execution_count": 278,
     "metadata": {},
     "output_type": "execute_result"
    }
   ],
   "source": [
    "df_prop4 = tweets_combined_clean.query('p1_dog == False & p2_dog == False & p3_dog == True')\n",
    "df_prop4.shape"
   ]
  },
  {
   "cell_type": "code",
   "execution_count": 279,
   "metadata": {},
   "outputs": [
    {
     "data": {
      "text/plain": [
       "(50, 21)"
      ]
     },
     "execution_count": 279,
     "metadata": {},
     "output_type": "execute_result"
    }
   ],
   "source": [
    "df_prop5 = tweets_combined_clean.query('p1_dog == False & p2_dog == True & p3_dog == False')\n",
    "df_prop5.shape"
   ]
  },
  {
   "cell_type": "code",
   "execution_count": 280,
   "metadata": {},
   "outputs": [
    {
     "data": {
      "text/plain": [
       "(42, 21)"
      ]
     },
     "execution_count": 280,
     "metadata": {},
     "output_type": "execute_result"
    }
   ],
   "source": [
    "df_prop6 = tweets_combined_clean.query('p1_dog == True & p2_dog == False & p3_dog == False')\n",
    "df_prop6.shape"
   ]
  },
  {
   "cell_type": "code",
   "execution_count": 281,
   "metadata": {},
   "outputs": [
    {
     "data": {
      "text/plain": [
       "(92, 21)"
      ]
     },
     "execution_count": 281,
     "metadata": {},
     "output_type": "execute_result"
    }
   ],
   "source": [
    "df_prop7 = tweets_combined_clean.query('p1_dog == False & p2_dog == True & p3_dog == True')\n",
    "df_prop7.shape"
   ]
  },
  {
   "cell_type": "code",
   "execution_count": 282,
   "metadata": {},
   "outputs": [
    {
     "data": {
      "text/plain": [
       "1652"
      ]
     },
     "execution_count": 282,
     "metadata": {},
     "output_type": "execute_result"
    }
   ],
   "source": [
    "# Here to get the numbers of rows combined from the above dataframes which equals to (1954 - 302) \n",
    "# 1954 , 302 (number of rows before dropping all false predictions , number of rows of all false predictions respectively) \n",
    "\n",
    "df_prop1.shape[0]+df_prop2.shape[0]+df_prop3.shape[0]+df_prop4.shape[0]+df_prop5.shape[0]+df_prop6.shape[0]+df_prop7.shape[0]"
   ]
  },
  {
   "cell_type": "code",
   "execution_count": 283,
   "metadata": {},
   "outputs": [],
   "source": [
    "# I'll combine all above dataframes using pandas concat() method\n",
    "tweets_combined_clean_1 = pd.concat([df_prop1, df_prop2, df_prop3, df_prop4, df_prop5, df_prop6, df_prop7], \n",
    "                                   ignore_index = True)"
   ]
  },
  {
   "cell_type": "code",
   "execution_count": 284,
   "metadata": {},
   "outputs": [
    {
     "data": {
      "text/plain": [
       "(1652, 21)"
      ]
     },
     "execution_count": 284,
     "metadata": {},
     "output_type": "execute_result"
    }
   ],
   "source": [
    "tweets_combined_clean_1.shape"
   ]
  },
  {
   "cell_type": "code",
   "execution_count": 285,
   "metadata": {
    "scrolled": true
   },
   "outputs": [
    {
     "data": {
      "text/html": [
       "<div>\n",
       "<style scoped>\n",
       "    .dataframe tbody tr th:only-of-type {\n",
       "        vertical-align: middle;\n",
       "    }\n",
       "\n",
       "    .dataframe tbody tr th {\n",
       "        vertical-align: top;\n",
       "    }\n",
       "\n",
       "    .dataframe thead th {\n",
       "        text-align: right;\n",
       "    }\n",
       "</style>\n",
       "<table border=\"1\" class=\"dataframe\">\n",
       "  <thead>\n",
       "    <tr style=\"text-align: right;\">\n",
       "      <th></th>\n",
       "      <th>tweet_id</th>\n",
       "      <th>timestamp</th>\n",
       "      <th>source</th>\n",
       "      <th>text</th>\n",
       "      <th>expanded_urls</th>\n",
       "      <th>rating_numerator</th>\n",
       "      <th>name</th>\n",
       "      <th>dog_stage</th>\n",
       "      <th>retweet_count</th>\n",
       "      <th>favorite_count</th>\n",
       "      <th>...</th>\n",
       "      <th>img_num</th>\n",
       "      <th>p1</th>\n",
       "      <th>p1_conf</th>\n",
       "      <th>p1_dog</th>\n",
       "      <th>p2</th>\n",
       "      <th>p2_conf</th>\n",
       "      <th>p2_dog</th>\n",
       "      <th>p3</th>\n",
       "      <th>p3_conf</th>\n",
       "      <th>p3_dog</th>\n",
       "    </tr>\n",
       "  </thead>\n",
       "  <tbody>\n",
       "    <tr>\n",
       "      <th>0</th>\n",
       "      <td>892177421306343426</td>\n",
       "      <td>2017-08-01 00:17:27+00:00</td>\n",
       "      <td>Twitter for iPhone</td>\n",
       "      <td>This is Tilly. She's just checking pup on you....</td>\n",
       "      <td>https://twitter.com/dog_rates/status/892177421...</td>\n",
       "      <td>13</td>\n",
       "      <td>Tilly</td>\n",
       "      <td>NaN</td>\n",
       "      <td>6514</td>\n",
       "      <td>33819</td>\n",
       "      <td>...</td>\n",
       "      <td>1</td>\n",
       "      <td>chihuahua</td>\n",
       "      <td>0.323581</td>\n",
       "      <td>True</td>\n",
       "      <td>pekinese</td>\n",
       "      <td>0.090647</td>\n",
       "      <td>True</td>\n",
       "      <td>papillon</td>\n",
       "      <td>0.068957</td>\n",
       "      <td>True</td>\n",
       "    </tr>\n",
       "    <tr>\n",
       "      <th>1</th>\n",
       "      <td>891815181378084864</td>\n",
       "      <td>2017-07-31 00:18:03+00:00</td>\n",
       "      <td>Twitter for iPhone</td>\n",
       "      <td>This is Archie. He is a rare Norwegian Pouncin...</td>\n",
       "      <td>https://twitter.com/dog_rates/status/891815181...</td>\n",
       "      <td>12</td>\n",
       "      <td>Archie</td>\n",
       "      <td>NaN</td>\n",
       "      <td>4328</td>\n",
       "      <td>25461</td>\n",
       "      <td>...</td>\n",
       "      <td>1</td>\n",
       "      <td>chihuahua</td>\n",
       "      <td>0.716012</td>\n",
       "      <td>True</td>\n",
       "      <td>malamute</td>\n",
       "      <td>0.078253</td>\n",
       "      <td>True</td>\n",
       "      <td>kelpie</td>\n",
       "      <td>0.031379</td>\n",
       "      <td>True</td>\n",
       "    </tr>\n",
       "    <tr>\n",
       "      <th>2</th>\n",
       "      <td>891327558926688256</td>\n",
       "      <td>2017-07-29 16:00:24+00:00</td>\n",
       "      <td>Twitter for iPhone</td>\n",
       "      <td>This is Franklin. He would like you to stop ca...</td>\n",
       "      <td>https://twitter.com/dog_rates/status/891327558...</td>\n",
       "      <td>12</td>\n",
       "      <td>Franklin</td>\n",
       "      <td>NaN</td>\n",
       "      <td>9774</td>\n",
       "      <td>41048</td>\n",
       "      <td>...</td>\n",
       "      <td>2</td>\n",
       "      <td>basset</td>\n",
       "      <td>0.555712</td>\n",
       "      <td>True</td>\n",
       "      <td>english_springer</td>\n",
       "      <td>0.225770</td>\n",
       "      <td>True</td>\n",
       "      <td>german_short-haired_pointer</td>\n",
       "      <td>0.175219</td>\n",
       "      <td>True</td>\n",
       "    </tr>\n",
       "    <tr>\n",
       "      <th>3</th>\n",
       "      <td>890729181411237888</td>\n",
       "      <td>2017-07-28 00:22:40+00:00</td>\n",
       "      <td>Twitter for iPhone</td>\n",
       "      <td>When you watch your owner call another dog a g...</td>\n",
       "      <td>https://twitter.com/dog_rates/status/890729181...</td>\n",
       "      <td>13</td>\n",
       "      <td>NaN</td>\n",
       "      <td>NaN</td>\n",
       "      <td>16716</td>\n",
       "      <td>56848</td>\n",
       "      <td>...</td>\n",
       "      <td>2</td>\n",
       "      <td>pomeranian</td>\n",
       "      <td>0.566142</td>\n",
       "      <td>True</td>\n",
       "      <td>eskimo_dog</td>\n",
       "      <td>0.178406</td>\n",
       "      <td>True</td>\n",
       "      <td>pembroke</td>\n",
       "      <td>0.076507</td>\n",
       "      <td>True</td>\n",
       "    </tr>\n",
       "    <tr>\n",
       "      <th>4</th>\n",
       "      <td>890609185150312448</td>\n",
       "      <td>2017-07-27 16:25:51+00:00</td>\n",
       "      <td>Twitter for iPhone</td>\n",
       "      <td>This is Zoey. She doesn't want to be one of th...</td>\n",
       "      <td>https://twitter.com/dog_rates/status/890609185...</td>\n",
       "      <td>13</td>\n",
       "      <td>Zoey</td>\n",
       "      <td>NaN</td>\n",
       "      <td>4429</td>\n",
       "      <td>28226</td>\n",
       "      <td>...</td>\n",
       "      <td>1</td>\n",
       "      <td>irish_terrier</td>\n",
       "      <td>0.487574</td>\n",
       "      <td>True</td>\n",
       "      <td>irish_setter</td>\n",
       "      <td>0.193054</td>\n",
       "      <td>True</td>\n",
       "      <td>chesapeake_bay_retriever</td>\n",
       "      <td>0.118184</td>\n",
       "      <td>True</td>\n",
       "    </tr>\n",
       "  </tbody>\n",
       "</table>\n",
       "<p>5 rows × 21 columns</p>\n",
       "</div>"
      ],
      "text/plain": [
       "             tweet_id                 timestamp              source  \\\n",
       "0  892177421306343426 2017-08-01 00:17:27+00:00  Twitter for iPhone   \n",
       "1  891815181378084864 2017-07-31 00:18:03+00:00  Twitter for iPhone   \n",
       "2  891327558926688256 2017-07-29 16:00:24+00:00  Twitter for iPhone   \n",
       "3  890729181411237888 2017-07-28 00:22:40+00:00  Twitter for iPhone   \n",
       "4  890609185150312448 2017-07-27 16:25:51+00:00  Twitter for iPhone   \n",
       "\n",
       "                                                text  \\\n",
       "0  This is Tilly. She's just checking pup on you....   \n",
       "1  This is Archie. He is a rare Norwegian Pouncin...   \n",
       "2  This is Franklin. He would like you to stop ca...   \n",
       "3  When you watch your owner call another dog a g...   \n",
       "4  This is Zoey. She doesn't want to be one of th...   \n",
       "\n",
       "                                       expanded_urls  rating_numerator  \\\n",
       "0  https://twitter.com/dog_rates/status/892177421...                13   \n",
       "1  https://twitter.com/dog_rates/status/891815181...                12   \n",
       "2  https://twitter.com/dog_rates/status/891327558...                12   \n",
       "3  https://twitter.com/dog_rates/status/890729181...                13   \n",
       "4  https://twitter.com/dog_rates/status/890609185...                13   \n",
       "\n",
       "       name dog_stage  retweet_count  favorite_count  ... img_num  \\\n",
       "0     Tilly       NaN           6514           33819  ...       1   \n",
       "1    Archie       NaN           4328           25461  ...       1   \n",
       "2  Franklin       NaN           9774           41048  ...       2   \n",
       "3       NaN       NaN          16716           56848  ...       2   \n",
       "4      Zoey       NaN           4429           28226  ...       1   \n",
       "\n",
       "              p1   p1_conf  p1_dog                p2   p2_conf  p2_dog  \\\n",
       "0      chihuahua  0.323581    True          pekinese  0.090647    True   \n",
       "1      chihuahua  0.716012    True          malamute  0.078253    True   \n",
       "2         basset  0.555712    True  english_springer  0.225770    True   \n",
       "3     pomeranian  0.566142    True        eskimo_dog  0.178406    True   \n",
       "4  irish_terrier  0.487574    True      irish_setter  0.193054    True   \n",
       "\n",
       "                            p3   p3_conf  p3_dog  \n",
       "0                     papillon  0.068957    True  \n",
       "1                       kelpie  0.031379    True  \n",
       "2  german_short-haired_pointer  0.175219    True  \n",
       "3                     pembroke  0.076507    True  \n",
       "4     chesapeake_bay_retriever  0.118184    True  \n",
       "\n",
       "[5 rows x 21 columns]"
      ]
     },
     "execution_count": 285,
     "metadata": {},
     "output_type": "execute_result"
    }
   ],
   "source": [
    "tweets_combined_clean_1.head()"
   ]
  },
  {
   "cell_type": "code",
   "execution_count": 286,
   "metadata": {
    "scrolled": false
   },
   "outputs": [
    {
     "name": "stdout",
     "output_type": "stream",
     "text": [
      "<class 'pandas.core.frame.DataFrame'>\n",
      "RangeIndex: 1652 entries, 0 to 1651\n",
      "Data columns (total 21 columns):\n",
      " #   Column            Non-Null Count  Dtype              \n",
      "---  ------            --------------  -----              \n",
      " 0   tweet_id          1652 non-null   object             \n",
      " 1   timestamp         1652 non-null   datetime64[ns, UTC]\n",
      " 2   source            1652 non-null   object             \n",
      " 3   text              1652 non-null   object             \n",
      " 4   expanded_urls     1652 non-null   object             \n",
      " 5   rating_numerator  1652 non-null   int64              \n",
      " 6   name              1219 non-null   object             \n",
      " 7   dog_stage         257 non-null    object             \n",
      " 8   retweet_count     1652 non-null   int64              \n",
      " 9   favorite_count    1652 non-null   int64              \n",
      " 10  jpg_url           1652 non-null   object             \n",
      " 11  img_num           1652 non-null   int64              \n",
      " 12  p1                1652 non-null   object             \n",
      " 13  p1_conf           1652 non-null   float64            \n",
      " 14  p1_dog            1652 non-null   bool               \n",
      " 15  p2                1652 non-null   object             \n",
      " 16  p2_conf           1652 non-null   float64            \n",
      " 17  p2_dog            1652 non-null   bool               \n",
      " 18  p3                1652 non-null   object             \n",
      " 19  p3_conf           1652 non-null   float64            \n",
      " 20  p3_dog            1652 non-null   bool               \n",
      "dtypes: bool(3), datetime64[ns, UTC](1), float64(3), int64(4), object(10)\n",
      "memory usage: 237.3+ KB\n"
     ]
    }
   ],
   "source": [
    "tweets_combined_clean_1.info()"
   ]
  },
  {
   "cell_type": "markdown",
   "metadata": {},
   "source": [
    "## Store Data "
   ]
  },
  {
   "cell_type": "markdown",
   "metadata": {},
   "source": [
    "After the we cleaned the data above , we will store it in (twitter_archive_master)"
   ]
  },
  {
   "cell_type": "code",
   "execution_count": 287,
   "metadata": {},
   "outputs": [],
   "source": [
    "tweets_combined_clean_1.to_csv('twitter_archive_master.csv' , index = False)"
   ]
  },
  {
   "cell_type": "markdown",
   "metadata": {},
   "source": [
    "## Data Analysis"
   ]
  },
  {
   "cell_type": "code",
   "execution_count": 288,
   "metadata": {},
   "outputs": [
    {
     "data": {
      "text/html": [
       "<div>\n",
       "<style scoped>\n",
       "    .dataframe tbody tr th:only-of-type {\n",
       "        vertical-align: middle;\n",
       "    }\n",
       "\n",
       "    .dataframe tbody tr th {\n",
       "        vertical-align: top;\n",
       "    }\n",
       "\n",
       "    .dataframe thead th {\n",
       "        text-align: right;\n",
       "    }\n",
       "</style>\n",
       "<table border=\"1\" class=\"dataframe\">\n",
       "  <thead>\n",
       "    <tr style=\"text-align: right;\">\n",
       "      <th></th>\n",
       "      <th>tweet_id</th>\n",
       "      <th>timestamp</th>\n",
       "      <th>source</th>\n",
       "      <th>text</th>\n",
       "      <th>expanded_urls</th>\n",
       "      <th>rating_numerator</th>\n",
       "      <th>name</th>\n",
       "      <th>dog_stage</th>\n",
       "      <th>retweet_count</th>\n",
       "      <th>favorite_count</th>\n",
       "      <th>...</th>\n",
       "      <th>img_num</th>\n",
       "      <th>p1</th>\n",
       "      <th>p1_conf</th>\n",
       "      <th>p1_dog</th>\n",
       "      <th>p2</th>\n",
       "      <th>p2_conf</th>\n",
       "      <th>p2_dog</th>\n",
       "      <th>p3</th>\n",
       "      <th>p3_conf</th>\n",
       "      <th>p3_dog</th>\n",
       "    </tr>\n",
       "  </thead>\n",
       "  <tbody>\n",
       "    <tr>\n",
       "      <th>0</th>\n",
       "      <td>892177421306343426</td>\n",
       "      <td>2017-08-01 00:17:27+00:00</td>\n",
       "      <td>Twitter for iPhone</td>\n",
       "      <td>This is Tilly. She's just checking pup on you....</td>\n",
       "      <td>https://twitter.com/dog_rates/status/892177421...</td>\n",
       "      <td>13</td>\n",
       "      <td>Tilly</td>\n",
       "      <td>NaN</td>\n",
       "      <td>6514</td>\n",
       "      <td>33819</td>\n",
       "      <td>...</td>\n",
       "      <td>1</td>\n",
       "      <td>chihuahua</td>\n",
       "      <td>0.323581</td>\n",
       "      <td>True</td>\n",
       "      <td>pekinese</td>\n",
       "      <td>0.090647</td>\n",
       "      <td>True</td>\n",
       "      <td>papillon</td>\n",
       "      <td>0.068957</td>\n",
       "      <td>True</td>\n",
       "    </tr>\n",
       "    <tr>\n",
       "      <th>1</th>\n",
       "      <td>891815181378084864</td>\n",
       "      <td>2017-07-31 00:18:03+00:00</td>\n",
       "      <td>Twitter for iPhone</td>\n",
       "      <td>This is Archie. He is a rare Norwegian Pouncin...</td>\n",
       "      <td>https://twitter.com/dog_rates/status/891815181...</td>\n",
       "      <td>12</td>\n",
       "      <td>Archie</td>\n",
       "      <td>NaN</td>\n",
       "      <td>4328</td>\n",
       "      <td>25461</td>\n",
       "      <td>...</td>\n",
       "      <td>1</td>\n",
       "      <td>chihuahua</td>\n",
       "      <td>0.716012</td>\n",
       "      <td>True</td>\n",
       "      <td>malamute</td>\n",
       "      <td>0.078253</td>\n",
       "      <td>True</td>\n",
       "      <td>kelpie</td>\n",
       "      <td>0.031379</td>\n",
       "      <td>True</td>\n",
       "    </tr>\n",
       "    <tr>\n",
       "      <th>2</th>\n",
       "      <td>891327558926688256</td>\n",
       "      <td>2017-07-29 16:00:24+00:00</td>\n",
       "      <td>Twitter for iPhone</td>\n",
       "      <td>This is Franklin. He would like you to stop ca...</td>\n",
       "      <td>https://twitter.com/dog_rates/status/891327558...</td>\n",
       "      <td>12</td>\n",
       "      <td>Franklin</td>\n",
       "      <td>NaN</td>\n",
       "      <td>9774</td>\n",
       "      <td>41048</td>\n",
       "      <td>...</td>\n",
       "      <td>2</td>\n",
       "      <td>basset</td>\n",
       "      <td>0.555712</td>\n",
       "      <td>True</td>\n",
       "      <td>english_springer</td>\n",
       "      <td>0.225770</td>\n",
       "      <td>True</td>\n",
       "      <td>german_short-haired_pointer</td>\n",
       "      <td>0.175219</td>\n",
       "      <td>True</td>\n",
       "    </tr>\n",
       "    <tr>\n",
       "      <th>3</th>\n",
       "      <td>890729181411237888</td>\n",
       "      <td>2017-07-28 00:22:40+00:00</td>\n",
       "      <td>Twitter for iPhone</td>\n",
       "      <td>When you watch your owner call another dog a g...</td>\n",
       "      <td>https://twitter.com/dog_rates/status/890729181...</td>\n",
       "      <td>13</td>\n",
       "      <td>NaN</td>\n",
       "      <td>NaN</td>\n",
       "      <td>16716</td>\n",
       "      <td>56848</td>\n",
       "      <td>...</td>\n",
       "      <td>2</td>\n",
       "      <td>pomeranian</td>\n",
       "      <td>0.566142</td>\n",
       "      <td>True</td>\n",
       "      <td>eskimo_dog</td>\n",
       "      <td>0.178406</td>\n",
       "      <td>True</td>\n",
       "      <td>pembroke</td>\n",
       "      <td>0.076507</td>\n",
       "      <td>True</td>\n",
       "    </tr>\n",
       "    <tr>\n",
       "      <th>4</th>\n",
       "      <td>890609185150312448</td>\n",
       "      <td>2017-07-27 16:25:51+00:00</td>\n",
       "      <td>Twitter for iPhone</td>\n",
       "      <td>This is Zoey. She doesn't want to be one of th...</td>\n",
       "      <td>https://twitter.com/dog_rates/status/890609185...</td>\n",
       "      <td>13</td>\n",
       "      <td>Zoey</td>\n",
       "      <td>NaN</td>\n",
       "      <td>4429</td>\n",
       "      <td>28226</td>\n",
       "      <td>...</td>\n",
       "      <td>1</td>\n",
       "      <td>irish_terrier</td>\n",
       "      <td>0.487574</td>\n",
       "      <td>True</td>\n",
       "      <td>irish_setter</td>\n",
       "      <td>0.193054</td>\n",
       "      <td>True</td>\n",
       "      <td>chesapeake_bay_retriever</td>\n",
       "      <td>0.118184</td>\n",
       "      <td>True</td>\n",
       "    </tr>\n",
       "  </tbody>\n",
       "</table>\n",
       "<p>5 rows × 21 columns</p>\n",
       "</div>"
      ],
      "text/plain": [
       "             tweet_id                  timestamp              source  \\\n",
       "0  892177421306343426  2017-08-01 00:17:27+00:00  Twitter for iPhone   \n",
       "1  891815181378084864  2017-07-31 00:18:03+00:00  Twitter for iPhone   \n",
       "2  891327558926688256  2017-07-29 16:00:24+00:00  Twitter for iPhone   \n",
       "3  890729181411237888  2017-07-28 00:22:40+00:00  Twitter for iPhone   \n",
       "4  890609185150312448  2017-07-27 16:25:51+00:00  Twitter for iPhone   \n",
       "\n",
       "                                                text  \\\n",
       "0  This is Tilly. She's just checking pup on you....   \n",
       "1  This is Archie. He is a rare Norwegian Pouncin...   \n",
       "2  This is Franklin. He would like you to stop ca...   \n",
       "3  When you watch your owner call another dog a g...   \n",
       "4  This is Zoey. She doesn't want to be one of th...   \n",
       "\n",
       "                                       expanded_urls  rating_numerator  \\\n",
       "0  https://twitter.com/dog_rates/status/892177421...                13   \n",
       "1  https://twitter.com/dog_rates/status/891815181...                12   \n",
       "2  https://twitter.com/dog_rates/status/891327558...                12   \n",
       "3  https://twitter.com/dog_rates/status/890729181...                13   \n",
       "4  https://twitter.com/dog_rates/status/890609185...                13   \n",
       "\n",
       "       name dog_stage  retweet_count  favorite_count  ... img_num  \\\n",
       "0     Tilly       NaN           6514           33819  ...       1   \n",
       "1    Archie       NaN           4328           25461  ...       1   \n",
       "2  Franklin       NaN           9774           41048  ...       2   \n",
       "3       NaN       NaN          16716           56848  ...       2   \n",
       "4      Zoey       NaN           4429           28226  ...       1   \n",
       "\n",
       "              p1   p1_conf  p1_dog                p2   p2_conf  p2_dog  \\\n",
       "0      chihuahua  0.323581    True          pekinese  0.090647    True   \n",
       "1      chihuahua  0.716012    True          malamute  0.078253    True   \n",
       "2         basset  0.555712    True  english_springer  0.225770    True   \n",
       "3     pomeranian  0.566142    True        eskimo_dog  0.178406    True   \n",
       "4  irish_terrier  0.487574    True      irish_setter  0.193054    True   \n",
       "\n",
       "                            p3   p3_conf  p3_dog  \n",
       "0                     papillon  0.068957    True  \n",
       "1                       kelpie  0.031379    True  \n",
       "2  german_short-haired_pointer  0.175219    True  \n",
       "3                     pembroke  0.076507    True  \n",
       "4     chesapeake_bay_retriever  0.118184    True  \n",
       "\n",
       "[5 rows x 21 columns]"
      ]
     },
     "execution_count": 288,
     "metadata": {},
     "output_type": "execute_result"
    }
   ],
   "source": [
    "tweets_analysis_viual = pd.read_csv('twitter_archive_master.csv')\n",
    "tweets_analysis_viual.head()"
   ]
  },
  {
   "cell_type": "code",
   "execution_count": 289,
   "metadata": {},
   "outputs": [
    {
     "data": {
      "text/html": [
       "<div>\n",
       "<style scoped>\n",
       "    .dataframe tbody tr th:only-of-type {\n",
       "        vertical-align: middle;\n",
       "    }\n",
       "\n",
       "    .dataframe tbody tr th {\n",
       "        vertical-align: top;\n",
       "    }\n",
       "\n",
       "    .dataframe thead th {\n",
       "        text-align: right;\n",
       "    }\n",
       "</style>\n",
       "<table border=\"1\" class=\"dataframe\">\n",
       "  <thead>\n",
       "    <tr style=\"text-align: right;\">\n",
       "      <th></th>\n",
       "      <th>tweet_id</th>\n",
       "      <th>rating_numerator</th>\n",
       "      <th>retweet_count</th>\n",
       "      <th>favorite_count</th>\n",
       "      <th>img_num</th>\n",
       "      <th>p1_conf</th>\n",
       "      <th>p2_conf</th>\n",
       "      <th>p3_conf</th>\n",
       "    </tr>\n",
       "  </thead>\n",
       "  <tbody>\n",
       "    <tr>\n",
       "      <th>count</th>\n",
       "      <td>1.652000e+03</td>\n",
       "      <td>1652.000000</td>\n",
       "      <td>1652.000000</td>\n",
       "      <td>1652.000000</td>\n",
       "      <td>1652.000000</td>\n",
       "      <td>1652.000000</td>\n",
       "      <td>1652.000000</td>\n",
       "      <td>1.652000e+03</td>\n",
       "    </tr>\n",
       "    <tr>\n",
       "      <th>mean</th>\n",
       "      <td>7.395959e+17</td>\n",
       "      <td>10.826271</td>\n",
       "      <td>2844.799031</td>\n",
       "      <td>9317.650726</td>\n",
       "      <td>1.214286</td>\n",
       "      <td>0.605197</td>\n",
       "      <td>0.137865</td>\n",
       "      <td>6.137728e-02</td>\n",
       "    </tr>\n",
       "    <tr>\n",
       "      <th>std</th>\n",
       "      <td>6.812137e+16</td>\n",
       "      <td>1.762580</td>\n",
       "      <td>4850.286028</td>\n",
       "      <td>12679.362532</td>\n",
       "      <td>0.574094</td>\n",
       "      <td>0.266488</td>\n",
       "      <td>0.101746</td>\n",
       "      <td>5.204968e-02</td>\n",
       "    </tr>\n",
       "    <tr>\n",
       "      <th>min</th>\n",
       "      <td>6.660209e+17</td>\n",
       "      <td>2.000000</td>\n",
       "      <td>16.000000</td>\n",
       "      <td>81.000000</td>\n",
       "      <td>1.000000</td>\n",
       "      <td>0.044333</td>\n",
       "      <td>0.000010</td>\n",
       "      <td>2.160900e-07</td>\n",
       "    </tr>\n",
       "    <tr>\n",
       "      <th>25%</th>\n",
       "      <td>6.773338e+17</td>\n",
       "      <td>10.000000</td>\n",
       "      <td>648.750000</td>\n",
       "      <td>2163.750000</td>\n",
       "      <td>1.000000</td>\n",
       "      <td>0.378520</td>\n",
       "      <td>0.054914</td>\n",
       "      <td>1.580725e-02</td>\n",
       "    </tr>\n",
       "    <tr>\n",
       "      <th>50%</th>\n",
       "      <td>7.142549e+17</td>\n",
       "      <td>11.000000</td>\n",
       "      <td>1440.000000</td>\n",
       "      <td>4486.500000</td>\n",
       "      <td>1.000000</td>\n",
       "      <td>0.606253</td>\n",
       "      <td>0.121693</td>\n",
       "      <td>4.990720e-02</td>\n",
       "    </tr>\n",
       "    <tr>\n",
       "      <th>75%</th>\n",
       "      <td>7.931997e+17</td>\n",
       "      <td>12.000000</td>\n",
       "      <td>3265.250000</td>\n",
       "      <td>11761.250000</td>\n",
       "      <td>1.000000</td>\n",
       "      <td>0.850559</td>\n",
       "      <td>0.199547</td>\n",
       "      <td>9.473475e-02</td>\n",
       "    </tr>\n",
       "    <tr>\n",
       "      <th>max</th>\n",
       "      <td>8.921774e+17</td>\n",
       "      <td>14.000000</td>\n",
       "      <td>79515.000000</td>\n",
       "      <td>132810.000000</td>\n",
       "      <td>4.000000</td>\n",
       "      <td>0.999984</td>\n",
       "      <td>0.467678</td>\n",
       "      <td>2.734190e-01</td>\n",
       "    </tr>\n",
       "  </tbody>\n",
       "</table>\n",
       "</div>"
      ],
      "text/plain": [
       "           tweet_id  rating_numerator  retweet_count  favorite_count  \\\n",
       "count  1.652000e+03       1652.000000    1652.000000     1652.000000   \n",
       "mean   7.395959e+17         10.826271    2844.799031     9317.650726   \n",
       "std    6.812137e+16          1.762580    4850.286028    12679.362532   \n",
       "min    6.660209e+17          2.000000      16.000000       81.000000   \n",
       "25%    6.773338e+17         10.000000     648.750000     2163.750000   \n",
       "50%    7.142549e+17         11.000000    1440.000000     4486.500000   \n",
       "75%    7.931997e+17         12.000000    3265.250000    11761.250000   \n",
       "max    8.921774e+17         14.000000   79515.000000   132810.000000   \n",
       "\n",
       "           img_num      p1_conf      p2_conf       p3_conf  \n",
       "count  1652.000000  1652.000000  1652.000000  1.652000e+03  \n",
       "mean      1.214286     0.605197     0.137865  6.137728e-02  \n",
       "std       0.574094     0.266488     0.101746  5.204968e-02  \n",
       "min       1.000000     0.044333     0.000010  2.160900e-07  \n",
       "25%       1.000000     0.378520     0.054914  1.580725e-02  \n",
       "50%       1.000000     0.606253     0.121693  4.990720e-02  \n",
       "75%       1.000000     0.850559     0.199547  9.473475e-02  \n",
       "max       4.000000     0.999984     0.467678  2.734190e-01  "
      ]
     },
     "execution_count": 289,
     "metadata": {},
     "output_type": "execute_result"
    }
   ],
   "source": [
    "tweets_analysis_viual.describe()"
   ]
  },
  {
   "cell_type": "code",
   "execution_count": 290,
   "metadata": {},
   "outputs": [
    {
     "data": {
      "text/html": [
       "<div>\n",
       "<style scoped>\n",
       "    .dataframe tbody tr th:only-of-type {\n",
       "        vertical-align: middle;\n",
       "    }\n",
       "\n",
       "    .dataframe tbody tr th {\n",
       "        vertical-align: top;\n",
       "    }\n",
       "\n",
       "    .dataframe thead th {\n",
       "        text-align: right;\n",
       "    }\n",
       "</style>\n",
       "<table border=\"1\" class=\"dataframe\">\n",
       "  <thead>\n",
       "    <tr style=\"text-align: right;\">\n",
       "      <th></th>\n",
       "      <th>tweet_id</th>\n",
       "      <th>retweet_count</th>\n",
       "      <th>favorite_count</th>\n",
       "      <th>rating_numerator</th>\n",
       "      <th>p1</th>\n",
       "      <th>dog_stage</th>\n",
       "      <th>p1_conf</th>\n",
       "      <th>text</th>\n",
       "    </tr>\n",
       "  </thead>\n",
       "  <tbody>\n",
       "    <tr>\n",
       "      <th>1358</th>\n",
       "      <td>744234799360020481</td>\n",
       "      <td>79515</td>\n",
       "      <td>131075</td>\n",
       "      <td>13</td>\n",
       "      <td>labrador_retriever</td>\n",
       "      <td>doggo</td>\n",
       "      <td>0.825333</td>\n",
       "      <td>Here's a doggo realizing you can stand in a po...</td>\n",
       "    </tr>\n",
       "    <tr>\n",
       "      <th>274</th>\n",
       "      <td>807106840509214720</td>\n",
       "      <td>56625</td>\n",
       "      <td>107015</td>\n",
       "      <td>13</td>\n",
       "      <td>chihuahua</td>\n",
       "      <td>NaN</td>\n",
       "      <td>0.505370</td>\n",
       "      <td>This is Stephan. He just wants to help. 13/10 ...</td>\n",
       "    </tr>\n",
       "    <tr>\n",
       "      <th>525</th>\n",
       "      <td>739238157791694849</td>\n",
       "      <td>52360</td>\n",
       "      <td>75163</td>\n",
       "      <td>13</td>\n",
       "      <td>eskimo_dog</td>\n",
       "      <td>doggo</td>\n",
       "      <td>0.503372</td>\n",
       "      <td>Here's a doggo blowing bubbles. It's downright...</td>\n",
       "    </tr>\n",
       "    <tr>\n",
       "      <th>202</th>\n",
       "      <td>822872901745569793</td>\n",
       "      <td>48265</td>\n",
       "      <td>132810</td>\n",
       "      <td>13</td>\n",
       "      <td>lakeland_terrier</td>\n",
       "      <td>puppo</td>\n",
       "      <td>0.196015</td>\n",
       "      <td>Here's a super supportive puppo participating ...</td>\n",
       "    </tr>\n",
       "    <tr>\n",
       "      <th>40</th>\n",
       "      <td>879415818425184262</td>\n",
       "      <td>45849</td>\n",
       "      <td>107956</td>\n",
       "      <td>13</td>\n",
       "      <td>english_springer</td>\n",
       "      <td>NaN</td>\n",
       "      <td>0.383404</td>\n",
       "      <td>This is Duddles. He did an attempt. 13/10 some...</td>\n",
       "    </tr>\n",
       "    <tr>\n",
       "      <th>220</th>\n",
       "      <td>819004803107983360</td>\n",
       "      <td>42228</td>\n",
       "      <td>95450</td>\n",
       "      <td>14</td>\n",
       "      <td>standard_poodle</td>\n",
       "      <td>doggo</td>\n",
       "      <td>0.351308</td>\n",
       "      <td>This is Bo. He was a very good First Doggo. 14...</td>\n",
       "    </tr>\n",
       "    <tr>\n",
       "      <th>1419</th>\n",
       "      <td>806629075125202948</td>\n",
       "      <td>37911</td>\n",
       "      <td>75639</td>\n",
       "      <td>13</td>\n",
       "      <td>arabian_camel</td>\n",
       "      <td>NaN</td>\n",
       "      <td>0.366248</td>\n",
       "      <td>\"Good afternoon class today we're going to lea...</td>\n",
       "    </tr>\n",
       "    <tr>\n",
       "      <th>79</th>\n",
       "      <td>866450705531457537</td>\n",
       "      <td>32883</td>\n",
       "      <td>106827</td>\n",
       "      <td>13</td>\n",
       "      <td>french_bulldog</td>\n",
       "      <td>pupper</td>\n",
       "      <td>0.905334</td>\n",
       "      <td>This is Jamesy. He gives a kiss to every other...</td>\n",
       "    </tr>\n",
       "    <tr>\n",
       "      <th>1452</th>\n",
       "      <td>676219687039057920</td>\n",
       "      <td>31989</td>\n",
       "      <td>67100</td>\n",
       "      <td>10</td>\n",
       "      <td>bubble</td>\n",
       "      <td>NaN</td>\n",
       "      <td>0.997556</td>\n",
       "      <td>This is Kenneth. He's stuck in a bubble. 10/10...</td>\n",
       "    </tr>\n",
       "    <tr>\n",
       "      <th>224</th>\n",
       "      <td>817827839487737858</td>\n",
       "      <td>31314</td>\n",
       "      <td>57622</td>\n",
       "      <td>13</td>\n",
       "      <td>cocker_spaniel</td>\n",
       "      <td>NaN</td>\n",
       "      <td>0.387608</td>\n",
       "      <td>This is Buddy. He ran into a glass door once. ...</td>\n",
       "    </tr>\n",
       "  </tbody>\n",
       "</table>\n",
       "</div>"
      ],
      "text/plain": [
       "                tweet_id  retweet_count  favorite_count  rating_numerator  \\\n",
       "1358  744234799360020481          79515          131075                13   \n",
       "274   807106840509214720          56625          107015                13   \n",
       "525   739238157791694849          52360           75163                13   \n",
       "202   822872901745569793          48265          132810                13   \n",
       "40    879415818425184262          45849          107956                13   \n",
       "220   819004803107983360          42228           95450                14   \n",
       "1419  806629075125202948          37911           75639                13   \n",
       "79    866450705531457537          32883          106827                13   \n",
       "1452  676219687039057920          31989           67100                10   \n",
       "224   817827839487737858          31314           57622                13   \n",
       "\n",
       "                      p1 dog_stage   p1_conf  \\\n",
       "1358  labrador_retriever     doggo  0.825333   \n",
       "274            chihuahua       NaN  0.505370   \n",
       "525           eskimo_dog     doggo  0.503372   \n",
       "202     lakeland_terrier     puppo  0.196015   \n",
       "40      english_springer       NaN  0.383404   \n",
       "220      standard_poodle     doggo  0.351308   \n",
       "1419       arabian_camel       NaN  0.366248   \n",
       "79        french_bulldog    pupper  0.905334   \n",
       "1452              bubble       NaN  0.997556   \n",
       "224       cocker_spaniel       NaN  0.387608   \n",
       "\n",
       "                                                   text  \n",
       "1358  Here's a doggo realizing you can stand in a po...  \n",
       "274   This is Stephan. He just wants to help. 13/10 ...  \n",
       "525   Here's a doggo blowing bubbles. It's downright...  \n",
       "202   Here's a super supportive puppo participating ...  \n",
       "40    This is Duddles. He did an attempt. 13/10 some...  \n",
       "220   This is Bo. He was a very good First Doggo. 14...  \n",
       "1419  \"Good afternoon class today we're going to lea...  \n",
       "79    This is Jamesy. He gives a kiss to every other...  \n",
       "1452  This is Kenneth. He's stuck in a bubble. 10/10...  \n",
       "224   This is Buddy. He ran into a glass door once. ...  "
      ]
     },
     "execution_count": 290,
     "metadata": {},
     "output_type": "execute_result"
    }
   ],
   "source": [
    "# let's check the most popular tweet(interacted) of all time based on the dataframe above\n",
    "\n",
    "sort_most_interacted = tweets_analysis_viual[['tweet_id','retweet_count','favorite_count','rating_numerator','p1','dog_stage',\n",
    "                    'p1_conf','text']].sort_values(['retweet_count','favorite_count'] , ascending = [False,False])\n",
    "sort_most_interacted.head(10)"
   ]
  },
  {
   "cell_type": "markdown",
   "metadata": {},
   "source": [
    "We can see that the tweet_id with number `744234799360020481` was the most interacted tweet since it has got the highest retweet (79515) & second liked tweet with (131075) "
   ]
  },
  {
   "cell_type": "markdown",
   "metadata": {},
   "source": [
    "**The following two code cells below will be to seet the Correlation between the `retweet_count` column & `favorite_count` column as you can see below we have a strong positive relation between both columns and the r value here is 0.91 which means it's a strong relation since it's close to one.**"
   ]
  },
  {
   "cell_type": "code",
   "execution_count": 291,
   "metadata": {},
   "outputs": [
    {
     "data": {
      "image/png": "[encoded data removed]",
      "text/plain": [
       "<Figure size 432x288 with 1 Axes>"
      ]
     },
     "metadata": {
      "needs_background": "light"
     },
     "output_type": "display_data"
    }
   ],
   "source": [
    "tweets_analysis_viual.plot(kind = 'scatter', x = 'retweet_count', y = 'favorite_count');"
   ]
  },
  {
   "cell_type": "code",
   "execution_count": 292,
   "metadata": {},
   "outputs": [
    {
     "data": {
      "text/plain": [
       "0.9135723239352272"
      ]
     },
     "execution_count": 292,
     "metadata": {},
     "output_type": "execute_result"
    }
   ],
   "source": [
    "tweets_analysis_viual['retweet_count'].corr(tweets_analysis_viual['favorite_count'])"
   ]
  },
  {
   "cell_type": "markdown",
   "metadata": {},
   "source": [
    "**let's have a look at the most dog breed that was predicted by using p1 algorithm**"
   ]
  },
  {
   "cell_type": "code",
   "execution_count": 293,
   "metadata": {},
   "outputs": [
    {
     "data": {
      "image/png": "[encoded data removed]",
      "text/plain": [
       "<Figure size 432x288 with 1 Axes>"
      ]
     },
     "metadata": {
      "needs_background": "light"
     },
     "output_type": "display_data"
    }
   ],
   "source": [
    "# since we have 214 different breeds I'll choose the most breeds that have been tweeted about\n",
    "\n",
    "tweets_analysis_viual['p1'].value_counts().head(10)\n",
    "x = tweets_analysis_viual['p1'].value_counts().head(10).index\n",
    "y = tweets_analysis_viual['p1'].value_counts().head(10).values\n",
    "\n",
    "plt.barh(x,y)\n",
    "plt.title('most predicted breed with p1')\n",
    "plt.xlabel('number of predictions')\n",
    "plt.ylabel('breed of dog');"
   ]
  },
  {
   "cell_type": "markdown",
   "metadata": {},
   "source": [
    "**let's check our model prediction percentage**"
   ]
  },
  {
   "cell_type": "code",
   "execution_count": 301,
   "metadata": {},
   "outputs": [
    {
     "data": {
      "text/plain": [
       "True     1451\n",
       "False     201\n",
       "Name: p1_dog, dtype: int64"
      ]
     },
     "execution_count": 301,
     "metadata": {},
     "output_type": "execute_result"
    }
   ],
   "source": [
    "tweets_analysis_viual['p1_dog'].value_counts()"
   ]
  },
  {
   "cell_type": "code",
   "execution_count": 303,
   "metadata": {},
   "outputs": [
    {
     "data": {
      "text/plain": [
       "Index([True, False], dtype='object')"
      ]
     },
     "execution_count": 303,
     "metadata": {},
     "output_type": "execute_result"
    }
   ],
   "source": [
    "tweets_analysis_viual['p1_dog'].value_counts().index"
   ]
  },
  {
   "cell_type": "code",
   "execution_count": 300,
   "metadata": {},
   "outputs": [
    {
     "name": "stdout",
     "output_type": "stream",
     "text": [
      "0.8783292978208233\n",
      "0.12167070217917676\n"
     ]
    }
   ],
   "source": [
    "true_pred_percentage = tweets_analysis_viual['p1_dog'].value_counts()[1] / tweets_analysis_viual.shape[0]\n",
    "false_pred_percentage = tweets_analysis_viual['p1_dog'].value_counts()[0] / tweets_analysis_viual.shape[0]\n",
    "\n",
    "print(true_pred_percentage)\n",
    "print(false_pred_percentage)"
   ]
  },
  {
   "cell_type": "code",
   "execution_count": 306,
   "metadata": {},
   "outputs": [
    {
     "data": {
      "image/png": "[encoded data removed]",
      "text/plain": [
       "<Figure size 432x288 with 1 Axes>"
      ]
     },
     "metadata": {},
     "output_type": "display_data"
    }
   ],
   "source": [
    "plt.pie(tweets_analysis_viual['p1_dog'].value_counts(), labels = tweets_analysis_viual['p1_dog'].value_counts().index);"
   ]
  },
  {
   "cell_type": "markdown",
   "metadata": {},
   "source": [
    "**88% the prediction is True which means the model is not bad but at the same time it needs to be more accurate for machine learning purposes , this precntage will be lower if I didn't drop the False prediction earlier**"
   ]
  },
  {
   "cell_type": "code",
   "execution_count": null,
   "metadata": {},
   "outputs": [],
   "source": []
  },
  {
   "cell_type": "code",
   "execution_count": null,
   "metadata": {},
   "outputs": [],
   "source": []
  }
 ],
 "metadata": {
  "kernelspec": {
   "display_name": "Python 3",
   "language": "python",
   "name": "python3"
  },
  "language_info": {
   "codemirror_mode": {
    "name": "ipython",
    "version": 3
   },
   "file_extension": ".py",
   "mimetype": "text/x-python",
   "name": "python",
   "nbconvert_exporter": "python",
   "pygments_lexer": "ipython3",
   "version": "3.8.3"
  }
 },
 "nbformat": 4,
 "nbformat_minor": 2
}
